{
  "cells": [
    {
      "cell_type": "code",
      "execution_count": 1,
      "metadata": {
        "colab": {
          "base_uri": "https://localhost:8080/"
        },
        "id": "yG63VwwSSlGO",
        "outputId": "2be5e509-a167-4bbd-a120-aceab70ccc3d"
      },
      "outputs": [
        {
          "output_type": "stream",
          "name": "stdout",
          "text": [
            "Mounted at /content/drive\n"
          ]
        }
      ],
      "source": [
        "from google.colab import drive\n",
        "drive.mount('/content/drive')"
      ],
      "id": "yG63VwwSSlGO"
    },
    {
      "cell_type": "code",
      "execution_count": 2,
      "metadata": {
        "colab": {
          "base_uri": "https://localhost:8080/"
        },
        "id": "Sj_t_Lc93V9e",
        "outputId": "54fa3c77-c1b1-4215-8dfe-698a81865b51"
      },
      "outputs": [
        {
          "output_type": "stream",
          "name": "stdout",
          "text": [
            "/content/drive/MyDrive/job_exam/poem-classification\n"
          ]
        }
      ],
      "source": [
        "%cd /content/drive/MyDrive/job_exam/poem-classification"
      ],
      "id": "Sj_t_Lc93V9e"
    },
    {
      "cell_type": "code",
      "execution_count": 3,
      "metadata": {
        "colab": {
          "base_uri": "https://localhost:8080/"
        },
        "id": "f1c8d31f",
        "outputId": "5df873e7-0ecd-40c1-c803-48863ce71ccf",
        "scrolled": true
      },
      "outputs": [
        {
          "output_type": "stream",
          "name": "stdout",
          "text": [
            "Looking in indexes: https://pypi.org/simple, https://us-python.pkg.dev/colab-wheels/public/simple/\n",
            "Collecting opendatasets\n",
            "  Downloading opendatasets-0.1.22-py3-none-any.whl (15 kB)\n",
            "Requirement already satisfied: tqdm in /usr/local/lib/python3.10/dist-packages (from opendatasets) (4.65.0)\n",
            "Requirement already satisfied: kaggle in /usr/local/lib/python3.10/dist-packages (from opendatasets) (1.5.13)\n",
            "Requirement already satisfied: click in /usr/local/lib/python3.10/dist-packages (from opendatasets) (8.1.3)\n",
            "Requirement already satisfied: six>=1.10 in /usr/local/lib/python3.10/dist-packages (from kaggle->opendatasets) (1.16.0)\n",
            "Requirement already satisfied: certifi in /usr/local/lib/python3.10/dist-packages (from kaggle->opendatasets) (2022.12.7)\n",
            "Requirement already satisfied: python-dateutil in /usr/local/lib/python3.10/dist-packages (from kaggle->opendatasets) (2.8.2)\n",
            "Requirement already satisfied: requests in /usr/local/lib/python3.10/dist-packages (from kaggle->opendatasets) (2.27.1)\n",
            "Requirement already satisfied: python-slugify in /usr/local/lib/python3.10/dist-packages (from kaggle->opendatasets) (8.0.1)\n",
            "Requirement already satisfied: urllib3 in /usr/local/lib/python3.10/dist-packages (from kaggle->opendatasets) (1.26.15)\n",
            "Requirement already satisfied: text-unidecode>=1.3 in /usr/local/lib/python3.10/dist-packages (from python-slugify->kaggle->opendatasets) (1.3)\n",
            "Requirement already satisfied: charset-normalizer~=2.0.0 in /usr/local/lib/python3.10/dist-packages (from requests->kaggle->opendatasets) (2.0.12)\n",
            "Requirement already satisfied: idna<4,>=2.5 in /usr/local/lib/python3.10/dist-packages (from requests->kaggle->opendatasets) (3.4)\n",
            "Installing collected packages: opendatasets\n",
            "Successfully installed opendatasets-0.1.22\n",
            "Looking in indexes: https://pypi.org/simple, https://us-python.pkg.dev/colab-wheels/public/simple/\n",
            "Requirement already satisfied: seaborn in /usr/local/lib/python3.10/dist-packages (0.12.2)\n",
            "Requirement already satisfied: numpy!=1.24.0,>=1.17 in /usr/local/lib/python3.10/dist-packages (from seaborn) (1.22.4)\n",
            "Requirement already satisfied: pandas>=0.25 in /usr/local/lib/python3.10/dist-packages (from seaborn) (1.5.3)\n",
            "Requirement already satisfied: matplotlib!=3.6.1,>=3.1 in /usr/local/lib/python3.10/dist-packages (from seaborn) (3.7.1)\n",
            "Requirement already satisfied: contourpy>=1.0.1 in /usr/local/lib/python3.10/dist-packages (from matplotlib!=3.6.1,>=3.1->seaborn) (1.0.7)\n",
            "Requirement already satisfied: cycler>=0.10 in /usr/local/lib/python3.10/dist-packages (from matplotlib!=3.6.1,>=3.1->seaborn) (0.11.0)\n",
            "Requirement already satisfied: fonttools>=4.22.0 in /usr/local/lib/python3.10/dist-packages (from matplotlib!=3.6.1,>=3.1->seaborn) (4.39.3)\n",
            "Requirement already satisfied: kiwisolver>=1.0.1 in /usr/local/lib/python3.10/dist-packages (from matplotlib!=3.6.1,>=3.1->seaborn) (1.4.4)\n",
            "Requirement already satisfied: packaging>=20.0 in /usr/local/lib/python3.10/dist-packages (from matplotlib!=3.6.1,>=3.1->seaborn) (23.1)\n",
            "Requirement already satisfied: pillow>=6.2.0 in /usr/local/lib/python3.10/dist-packages (from matplotlib!=3.6.1,>=3.1->seaborn) (8.4.0)\n",
            "Requirement already satisfied: pyparsing>=2.3.1 in /usr/local/lib/python3.10/dist-packages (from matplotlib!=3.6.1,>=3.1->seaborn) (3.0.9)\n",
            "Requirement already satisfied: python-dateutil>=2.7 in /usr/local/lib/python3.10/dist-packages (from matplotlib!=3.6.1,>=3.1->seaborn) (2.8.2)\n",
            "Requirement already satisfied: pytz>=2020.1 in /usr/local/lib/python3.10/dist-packages (from pandas>=0.25->seaborn) (2022.7.1)\n",
            "Requirement already satisfied: six>=1.5 in /usr/local/lib/python3.10/dist-packages (from python-dateutil>=2.7->matplotlib!=3.6.1,>=3.1->seaborn) (1.16.0)\n",
            "Looking in indexes: https://pypi.org/simple, https://us-python.pkg.dev/colab-wheels/public/simple/\n",
            "Requirement already satisfied: scikit-learn in /usr/local/lib/python3.10/dist-packages (1.2.2)\n",
            "Requirement already satisfied: numpy>=1.17.3 in /usr/local/lib/python3.10/dist-packages (from scikit-learn) (1.22.4)\n",
            "Requirement already satisfied: scipy>=1.3.2 in /usr/local/lib/python3.10/dist-packages (from scikit-learn) (1.10.1)\n",
            "Requirement already satisfied: joblib>=1.1.1 in /usr/local/lib/python3.10/dist-packages (from scikit-learn) (1.2.0)\n",
            "Requirement already satisfied: threadpoolctl>=2.0.0 in /usr/local/lib/python3.10/dist-packages (from scikit-learn) (3.1.0)\n",
            "Looking in indexes: https://pypi.org/simple, https://us-python.pkg.dev/colab-wheels/public/simple/\n",
            "Collecting arabic_reshaper\n",
            "  Downloading arabic_reshaper-3.0.0-py3-none-any.whl (20 kB)\n",
            "Installing collected packages: arabic_reshaper\n",
            "Successfully installed arabic_reshaper-3.0.0\n",
            "Looking in indexes: https://pypi.org/simple, https://us-python.pkg.dev/colab-wheels/public/simple/\n",
            "Collecting python-bidi\n",
            "  Downloading python_bidi-0.4.2-py2.py3-none-any.whl (30 kB)\n",
            "Requirement already satisfied: six in /usr/local/lib/python3.10/dist-packages (from python-bidi) (1.16.0)\n",
            "Installing collected packages: python-bidi\n",
            "Successfully installed python-bidi-0.4.2\n",
            "Looking in indexes: https://pypi.org/simple, https://us-python.pkg.dev/colab-wheels/public/simple/\n",
            "Collecting pyarabic\n",
            "  Downloading PyArabic-0.6.15-py3-none-any.whl (126 kB)\n",
            "\u001b[2K     \u001b[90m━━━━━━━━━━━━━━━━━━━━━━━━━━━━━━━━━━━━━━━\u001b[0m \u001b[32m126.4/126.4 kB\u001b[0m \u001b[31m9.5 MB/s\u001b[0m eta \u001b[36m0:00:00\u001b[0m\n",
            "\u001b[?25hRequirement already satisfied: six>=1.14.0 in /usr/local/lib/python3.10/dist-packages (from pyarabic) (1.16.0)\n",
            "Installing collected packages: pyarabic\n",
            "Successfully installed pyarabic-0.6.15\n",
            "Looking in indexes: https://pypi.org/simple, https://us-python.pkg.dev/colab-wheels/public/simple/\n",
            "Requirement already satisfied: nltk in /usr/local/lib/python3.10/dist-packages (3.8.1)\n",
            "Requirement already satisfied: click in /usr/local/lib/python3.10/dist-packages (from nltk) (8.1.3)\n",
            "Requirement already satisfied: joblib in /usr/local/lib/python3.10/dist-packages (from nltk) (1.2.0)\n",
            "Requirement already satisfied: regex>=2021.8.3 in /usr/local/lib/python3.10/dist-packages (from nltk) (2022.10.31)\n",
            "Requirement already satisfied: tqdm in /usr/local/lib/python3.10/dist-packages (from nltk) (4.65.0)\n",
            "Looking in indexes: https://pypi.org/simple, https://us-python.pkg.dev/colab-wheels/public/simple/\n",
            "Collecting transformers\n",
            "  Downloading transformers-4.29.2-py3-none-any.whl (7.1 MB)\n",
            "\u001b[2K     \u001b[90m━━━━━━━━━━━━━━━━━━━━━━━━━━━━━━━━━━━━━━━━\u001b[0m \u001b[32m7.1/7.1 MB\u001b[0m \u001b[31m104.8 MB/s\u001b[0m eta \u001b[36m0:00:00\u001b[0m\n",
            "\u001b[?25hRequirement already satisfied: filelock in /usr/local/lib/python3.10/dist-packages (from transformers) (3.12.0)\n",
            "Collecting huggingface-hub<1.0,>=0.14.1 (from transformers)\n",
            "  Downloading huggingface_hub-0.14.1-py3-none-any.whl (224 kB)\n",
            "\u001b[2K     \u001b[90m━━━━━━━━━━━━━━━━━━━━━━━━━━━━━━━━━━━━━━\u001b[0m \u001b[32m224.5/224.5 kB\u001b[0m \u001b[31m32.4 MB/s\u001b[0m eta \u001b[36m0:00:00\u001b[0m\n",
            "\u001b[?25hRequirement already satisfied: numpy>=1.17 in /usr/local/lib/python3.10/dist-packages (from transformers) (1.22.4)\n",
            "Requirement already satisfied: packaging>=20.0 in /usr/local/lib/python3.10/dist-packages (from transformers) (23.1)\n",
            "Requirement already satisfied: pyyaml>=5.1 in /usr/local/lib/python3.10/dist-packages (from transformers) (6.0)\n",
            "Requirement already satisfied: regex!=2019.12.17 in /usr/local/lib/python3.10/dist-packages (from transformers) (2022.10.31)\n",
            "Requirement already satisfied: requests in /usr/local/lib/python3.10/dist-packages (from transformers) (2.27.1)\n",
            "Collecting tokenizers!=0.11.3,<0.14,>=0.11.1 (from transformers)\n",
            "  Downloading tokenizers-0.13.3-cp310-cp310-manylinux_2_17_x86_64.manylinux2014_x86_64.whl (7.8 MB)\n",
            "\u001b[2K     \u001b[90m━━━━━━━━━━━━━━━━━━━━━━━━━━━━━━━━━━━━━━━━\u001b[0m \u001b[32m7.8/7.8 MB\u001b[0m \u001b[31m93.8 MB/s\u001b[0m eta \u001b[36m0:00:00\u001b[0m\n",
            "\u001b[?25hRequirement already satisfied: tqdm>=4.27 in /usr/local/lib/python3.10/dist-packages (from transformers) (4.65.0)\n",
            "Requirement already satisfied: fsspec in /usr/local/lib/python3.10/dist-packages (from huggingface-hub<1.0,>=0.14.1->transformers) (2023.4.0)\n",
            "Requirement already satisfied: typing-extensions>=3.7.4.3 in /usr/local/lib/python3.10/dist-packages (from huggingface-hub<1.0,>=0.14.1->transformers) (4.5.0)\n",
            "Requirement already satisfied: urllib3<1.27,>=1.21.1 in /usr/local/lib/python3.10/dist-packages (from requests->transformers) (1.26.15)\n",
            "Requirement already satisfied: certifi>=2017.4.17 in /usr/local/lib/python3.10/dist-packages (from requests->transformers) (2022.12.7)\n",
            "Requirement already satisfied: charset-normalizer~=2.0.0 in /usr/local/lib/python3.10/dist-packages (from requests->transformers) (2.0.12)\n",
            "Requirement already satisfied: idna<4,>=2.5 in /usr/local/lib/python3.10/dist-packages (from requests->transformers) (3.4)\n",
            "Installing collected packages: tokenizers, huggingface-hub, transformers\n",
            "Successfully installed huggingface-hub-0.14.1 tokenizers-0.13.3 transformers-4.29.2\n"
          ]
        }
      ],
      "source": [
        "!pip install opendatasets\n",
        "!pip install seaborn\n",
        "!pip install scikit-learn\n",
        "!pip install arabic_reshaper\n",
        "!pip install python-bidi\n",
        "!pip install pyarabic\n",
        "!pip install nltk\n",
        "!pip install transformers\n"
      ],
      "id": "f1c8d31f"
    },
    {
      "cell_type": "code",
      "execution_count": 4,
      "metadata": {
        "colab": {
          "base_uri": "https://localhost:8080/"
        },
        "id": "8138f183",
        "outputId": "1e9befc4-ebfe-4fe2-9537-47ced71d11be",
        "scrolled": false
      },
      "outputs": [
        {
          "output_type": "stream",
          "name": "stderr",
          "text": [
            "[nltk_data] Downloading package stopwords to /root/nltk_data...\n",
            "[nltk_data]   Unzipping corpora/stopwords.zip.\n"
          ]
        }
      ],
      "source": [
        "# import the packages.\n",
        "import opendatasets as od\n",
        "import arabic_reshaper\n",
        "from bidi.algorithm import get_display\n",
        "import matplotlib.pyplot as plt\n",
        "import pandas as pd\n",
        "import numpy as np\n",
        "import re\n",
        "import pyarabic.araby as araby\n",
        "import pyarabic.trans as trans\n",
        "import nltk as nltk\n",
        "from nltk.stem import ISRIStemmer\n",
        "nltk.download(\"stopwords\")\n",
        "import seaborn as sns\n",
        "from sklearn.feature_extraction.text import CountVectorizer,TfidfVectorizer\n",
        "from sklearn.model_selection import train_test_split\n",
        "from sklearn.naive_bayes import MultinomialNB\n",
        "from sklearn.preprocessing import LabelEncoder\n",
        "from sklearn.metrics import classification_report,accuracy_score, ConfusionMatrixDisplay,confusion_matrix\n",
        "from sklearn.linear_model import LogisticRegression\n",
        "import tensorflow as tf\n",
        "from transformers import AutoTokenizer,TFBertForSequenceClassification\n",
        "import joblib\n",
        "\n",
        "import random\n",
        "%matplotlib inline"
      ],
      "id": "8138f183"
    },
    {
      "cell_type": "markdown",
      "metadata": {
        "id": "6a20baab"
      },
      "source": [
        "# split the data before the analysis"
      ],
      "id": "6a20baab"
    },
    {
      "cell_type": "code",
      "execution_count": null,
      "metadata": {
        "id": "083dcfb5"
      },
      "outputs": [],
      "source": [
        "# Download the data, supply the kaggle token\n",
        "od.download_kaggle_dataset('https://www.kaggle.com/datasets/fahd09/arabic-poetry-dataset-478-2017'\n",
        "                           ,data_dir='./data')"
      ],
      "id": "083dcfb5"
    },
    {
      "cell_type": "code",
      "execution_count": null,
      "metadata": {
        "id": "781628f5",
        "scrolled": true
      },
      "outputs": [],
      "source": [
        "data = pd.read_csv('./data/all_poems.csv')\n",
        "data.head(10)"
      ],
      "id": "781628f5"
    },
    {
      "cell_type": "code",
      "execution_count": null,
      "metadata": {
        "id": "0d9ecfc5",
        "scrolled": true
      },
      "outputs": [],
      "source": [
        "# from data info we can see that we have 58k samples one of the columns 'poem_text' has a missing value\n",
        "data.info()"
      ],
      "id": "0d9ecfc5"
    },
    {
      "cell_type": "code",
      "execution_count": null,
      "metadata": {
        "id": "871f5855"
      },
      "outputs": [],
      "source": [
        "# Change the type of poem and poet id to string, as we will not do any math on it.\n",
        "data.poem_id = data.poem_id.astype(str)\n",
        "data.poet_id = data.poet_id.astype(str)"
      ],
      "id": "871f5855"
    },
    {
      "cell_type": "code",
      "execution_count": null,
      "metadata": {
        "id": "29c926c1"
      },
      "outputs": [],
      "source": [
        "# Since we can't fill the missing value, we will drop it and only one sample we will drop it.\n",
        "data.dropna(inplace=True)"
      ],
      "id": "29c926c1"
    },
    {
      "cell_type": "markdown",
      "metadata": {
        "id": "786b11ed"
      },
      "source": [
        "The table below gives us alot of information:\n",
        "- poem_link is unique, and does not gives us any information we can use for classification.The same for poem id, and poet_link . These features will be dropped.\n",
        "- There is only 3 poem_styles\n",
        "- In poem_text we can see the unique is less than the count which different from what we expect,  unique poem for each row. We can also see the freq 3 which indicate duplicates, This requires further investigation.\n",
        "- There is 26 poet_cat and 652 poets.\n"
      ],
      "id": "786b11ed"
    },
    {
      "cell_type": "code",
      "execution_count": null,
      "metadata": {
        "id": "f508106b",
        "outputId": "6e75e8fc-1934-46cb-c0a4-57c460148731",
        "scrolled": false
      },
      "outputs": [
        {
          "data": {
            "text/html": [
              "<div>\n",
              "<style scoped>\n",
              "    .dataframe tbody tr th:only-of-type {\n",
              "        vertical-align: middle;\n",
              "    }\n",
              "\n",
              "    .dataframe tbody tr th {\n",
              "        vertical-align: top;\n",
              "    }\n",
              "\n",
              "    .dataframe thead th {\n",
              "        text-align: right;\n",
              "    }\n",
              "</style>\n",
              "<table border=\"1\" class=\"dataframe\">\n",
              "  <thead>\n",
              "    <tr style=\"text-align: right;\">\n",
              "      <th></th>\n",
              "      <th>poem_id</th>\n",
              "      <th>poem_link</th>\n",
              "      <th>poem_style</th>\n",
              "      <th>poem_text</th>\n",
              "      <th>poem_title</th>\n",
              "      <th>poet_cat</th>\n",
              "      <th>poet_id</th>\n",
              "      <th>poet_link</th>\n",
              "      <th>poet_name</th>\n",
              "    </tr>\n",
              "  </thead>\n",
              "  <tbody>\n",
              "    <tr>\n",
              "      <th>count</th>\n",
              "      <td>58020</td>\n",
              "      <td>58020</td>\n",
              "      <td>58020</td>\n",
              "      <td>58020</td>\n",
              "      <td>58020</td>\n",
              "      <td>58020</td>\n",
              "      <td>58020</td>\n",
              "      <td>58020</td>\n",
              "      <td>58020</td>\n",
              "    </tr>\n",
              "    <tr>\n",
              "      <th>unique</th>\n",
              "      <td>58020</td>\n",
              "      <td>58020</td>\n",
              "      <td>3</td>\n",
              "      <td>57693</td>\n",
              "      <td>56871</td>\n",
              "      <td>26</td>\n",
              "      <td>652</td>\n",
              "      <td>652</td>\n",
              "      <td>652</td>\n",
              "    </tr>\n",
              "    <tr>\n",
              "      <th>top</th>\n",
              "      <td>21</td>\n",
              "      <td>http://www.adab.com/modules.php?name=Sh3er&amp;doW...</td>\n",
              "      <td>فصحى</td>\n",
              "      <td>اذا الرتبة العليا اتك اثابة وفاروق عالي الراس...</td>\n",
              "      <td>الشاعر</td>\n",
              "      <td>العصر العباسي</td>\n",
              "      <td>173</td>\n",
              "      <td>http://www.adab.com/modules.php?name=Sh3er&amp;doW...</td>\n",
              "      <td>ابن الرومي</td>\n",
              "    </tr>\n",
              "    <tr>\n",
              "      <th>freq</th>\n",
              "      <td>1</td>\n",
              "      <td>1</td>\n",
              "      <td>57893</td>\n",
              "      <td>3</td>\n",
              "      <td>17</td>\n",
              "      <td>19417</td>\n",
              "      <td>2142</td>\n",
              "      <td>2142</td>\n",
              "      <td>2142</td>\n",
              "    </tr>\n",
              "  </tbody>\n",
              "</table>\n",
              "</div>"
            ],
            "text/plain": [
              "       poem_id                                          poem_link poem_style   \n",
              "count    58020                                              58020      58020  \\\n",
              "unique   58020                                              58020          3   \n",
              "top         21  http://www.adab.com/modules.php?name=Sh3er&doW...       فصحى   \n",
              "freq         1                                                  1      57893   \n",
              "\n",
              "                                                poem_text poem_title   \n",
              "count                                               58020      58020  \\\n",
              "unique                                              57693      56871   \n",
              "top      اذا الرتبة العليا اتك اثابة وفاروق عالي الراس...    الشاعر    \n",
              "freq                                                    3         17   \n",
              "\n",
              "             poet_cat poet_id   \n",
              "count           58020   58020  \\\n",
              "unique             26     652   \n",
              "top     العصر العباسي     173   \n",
              "freq            19417    2142   \n",
              "\n",
              "                                                poet_link   poet_name  \n",
              "count                                               58020       58020  \n",
              "unique                                                652         652  \n",
              "top     http://www.adab.com/modules.php?name=Sh3er&doW...  ابن الرومي  \n",
              "freq                                                 2142        2142  "
            ]
          },
          "execution_count": 7,
          "metadata": {},
          "output_type": "execute_result"
        }
      ],
      "source": [
        "data.describe()"
      ],
      "id": "f508106b"
    },
    {
      "cell_type": "code",
      "execution_count": null,
      "metadata": {
        "id": "56a62f5c"
      },
      "outputs": [],
      "source": [
        "# drop all columns except poem_text, title, style and category and poet name.\n",
        "data.drop(columns=data.columns[~data.columns.isin(['poem_text','poem_title','poet_name','poem_style','poet_cat'])]\\\n",
        "          ,axis=0,inplace=True)"
      ],
      "id": "56a62f5c"
    },
    {
      "cell_type": "code",
      "execution_count": null,
      "metadata": {
        "colab": {
          "base_uri": "https://localhost:8080/"
        },
        "id": "56715ca0",
        "outputId": "861a316d-a2a5-418b-d19d-61a0873c6f6e",
        "scrolled": true
      },
      "outputs": [
        {
          "data": {
            "text/plain": [
              "327"
            ]
          },
          "execution_count": 12,
          "metadata": {},
          "output_type": "execute_result"
        }
      ],
      "source": [
        "# number of duplicates in \n",
        "data[['poem_text']].duplicated().sum()"
      ],
      "id": "56715ca0"
    },
    {
      "cell_type": "code",
      "execution_count": null,
      "metadata": {
        "id": "147884f1",
        "outputId": "2214d5ac-b0e7-49c7-d54e-5b4ddf63369d"
      },
      "outputs": [
        {
          "data": {
            "text/plain": [
              "15448     1\n",
              "13798     9\n",
              "2369     12\n",
              "2240     15\n",
              "2186     17\n",
              "2188     18\n",
              "30948    18\n",
              "13945    19\n",
              "38558    19\n",
              "25858    19\n",
              "Name: poem_text, dtype: int64"
            ]
          },
          "execution_count": 10,
          "metadata": {},
          "output_type": "execute_result"
        }
      ],
      "source": [
        "# checking the length of each poem\n",
        "data['poem_text'].apply(lambda x: len(x)).sort_values()[:10]"
      ],
      "id": "147884f1"
    },
    {
      "cell_type": "code",
      "execution_count": null,
      "metadata": {
        "id": "170a4dc7"
      },
      "outputs": [],
      "source": [
        "# we will drop these 2 records, one is empty and one is not poem.\n",
        "short_text = data[data['poem_text'].apply(lambda x: len(x)<10)]['poem_text']\n",
        "short_text\n",
        "data.drop(index=short_text.index,inplace=True)"
      ],
      "id": "170a4dc7"
    },
    {
      "cell_type": "code",
      "execution_count": null,
      "metadata": {
        "id": "59e4ee42"
      },
      "outputs": [],
      "source": [
        "# Can it be usefull feature.\n",
        "avg_poem_len_per_poet = data.groupby(['poet_cat'])['poem_text'].apply(lambda x: int(len(re.findall(r'\\w+',' '.join(x)))/len(x)))\n"
      ],
      "id": "59e4ee42"
    },
    {
      "cell_type": "code",
      "execution_count": null,
      "metadata": {
        "colab": {
          "base_uri": "https://localhost:8080/"
        },
        "id": "a5978cfc",
        "outputId": "6dc6cc1a-fbe3-431a-bc52-75330c98db56"
      },
      "outputs": [
        {
          "data": {
            "text/plain": [
              "poem_style\n",
              "-          33\n",
              "عامي       94\n",
              "فصحى    57891\n",
              "Name: poem_style, dtype: int64"
            ]
          },
          "execution_count": 15,
          "metadata": {},
          "output_type": "execute_result"
        }
      ],
      "source": [
        "# checking the styles count\n",
        "# the dash sign could indicate a missing value and the poem belong to one of the other styles.\n",
        "data.groupby('poem_style')['poem_style'].count()"
      ],
      "id": "a5978cfc"
    },
    {
      "cell_type": "code",
      "execution_count": null,
      "metadata": {
        "id": "0bcb1e8a",
        "outputId": "54554767-7b93-49ae-deca-4a8610f7c5e4"
      },
      "outputs": [
        {
          "name": "stdout",
          "output_type": "stream",
          "text": [
            " هم اكسبوك من السباق رهانا فربحت انت وادركوا الخسرانا هم اوصلوك الي مناك بغدرهم فاذقتهم فوق الهوان هوانا اني لارجو ان تكون بنارهم لما رموك بها بلغت جنانا غدروا بشيبتك الكريمة جهرة ابشر فقد اورثتهم خذلانا اهل الاساءة هم ولكن مادروا كم قدموا لشموخك الاحسانا لقب الشهادة مطمح لم تدخر وسعا لتحمله فكنت وكانا يا احمد الياسين كنت مفوها بالصمت كانا الصمت منك بيانا ما كنت لاهمة وعزيمة وشموخ صبر اعجز العدوانا فرحي بنيل مناك يمزج دمعتي بشارتي ويخف الاحزانا وثقت باله اتصالك حينما صليت فجرك تطلب الغفرانا وتلوت ايات الكتاب مرتلا متاملا تدبر القرانا وضعت جبهتك الكريمة ساجدا ان السجود ليرفع الانسانا وخرجت يتبعك الاحبة مادروا ان الفراق من الاحبة حانا كرسيك المتحرك اختصر المدي وطوي بك الافاق ولازمانا علمته معني الاباء فلم يكن مثل الكراسي الراجفات هوانا معك استلذ الموت صار وفاءه مثلا وصار اباءه عنوانا اشلا ء كرسي البطولة شاهد عدل يدين الغادر الخوانا لكاني ابصرت في عجلاته الما لفقدك لوعة وحنانا حزنا الانك قد رحلت ولم تعد تمشي به كالطواد لا تواني اني لتسالني العدالة بعدما لقيت جحود القوم والنكرانا هل ابصرت اجفان امريكا الظي ام انها لاتملك الاجفانا وعيون اوربا تراها لم تزل في غفلة لا تبصر الطغيانا هل ابصروا جسدا علي كرسيه لما تناثر في الصباح عيانا اين الحضارة ايها الغرب الذي جعل الحضارة جمرة ودخانا عذرا فما هذا سءال تعطف قد ضل من يستعطف البركانا هذا سءال لايجيد جوابه من يعبد الاهواء والشيطانا يا احمد الياسين ان ودعتنا فلقد تركت الصدق والايمانا انا ان بكيت فانما ابكي علي مليارنا لما غدوا قطعانا ابكي علي هذا الشتات لامتي ابكي الخلاف المر والاضغانا ابكي ولي امل كبير ان اري في امتي من يكسر الاوثانا يا فارس الكرسي وجهك لم يكن الا ربيعا بالهدي مزدانا في شعر لحيتك الكريمة صورة لفجرحين يبشر الاكوانا فرحت بك الحور الحسان كاني بك عندهن مغردا جذلانا قدمت في الدنيا المهور وربما بشموخ صبرك قد عقدت قرانا هذا رجاءي يابن ياسين الذي شيدت في قلبي له بنيانا دمك الزكي هو الينابيع التي تسقي الجذور وتنعش الاغصانا رويت بستان الاباء بدفقه ما اجمل الانهار والبستانا ستظل نجما في سماء جهادنا يامقعدا جعل العدو جبانا\n",
            "\n",
            "\n",
            "اي فردوس انسل منه النساء وسكبن السراب علي سبات السابلة نهرب ماء السماء في سواد المساء نقطر شمسا نحاسية علي شحوب الصحراء نشك الاصابع بماس العسيب اي نعاس يغالب صحو الصبايا نستمطر القلب اشواقا حية ورحيقا يفور نستمطر الوقت عمرا وصبرا جميل نستمطر الطرقات وطنا يبد الوحشة المشتركة اي رياح تخاطف الاشرعة نمازج الطوفان باطياف تطير ونءلف من كل زوجين اثنين مهرا لمهرة الهاربة اي قمر علقته شهرزاد علي ليل القاء قلنا اقترب قلنا عصافير تحترق قامة تورق قلنا زرقاء تقرا اشارات المحاق غابة سدر تشجر مكعبات الفراغ قلنا هيانا الاهلة لعيد الاكف لحناء هيانا هيانا عرسا لبلاد اخينا بين القمح والمستحيل الجرح بالملح وضانا وهبنا خميرة الروح لاجنة المطلق ونقضنا في الصباح غزل المساء اي حلم تبتدي منه المليحة \n",
            "\n",
            "\n",
            "غمست اصابعها في الصحراء وكتبت بماء السراب قصيدة\n",
            "\n",
            "\n",
            "غافلتني كملكة لا تريد ان تري الرعية نزواتها , قطفت نجوم المساء وملات القصيدة زبيبا وتينا وماء زمزم ولكن كيف يفور السكر في الكلمات عندما تمرين بالورقة\n",
            "\n",
            "\n",
            "خلعت اسنان البن وتمضمضت بالحبر خالعت طاعات طاعنه في العمر شبت عن الطوق فاشعلت حريقا صغيرا بالكاد يتسع لها وحدها\n",
            "\n",
            "\n",
            "مزجت جرحها بانتصاراته ونصبت تحت السماء ناموسية من هزيمة الجسدين\n",
            "\n",
            "\n",
            "كانت مدجة كفزاعة وكنت عزلاء كريشة انفلت من جناح طاءر مرعوب يمحوه الهواء\n",
            "\n",
            "\n",
            "لعبت مع الاطفال الاستغماية طيرت طيارات ورق سكبت السراب علي الرمل وشكلت عراءس مطر واشرعة تبحر عقفت قامتها علي هيءة علامة استفهام وضاعت في زحام لا يرحم العلامات الفارقة\n",
            "\n",
            "\n",
            "من شرفة شقتهم الضيقة كنعش تدلي جسدها الفاره كعرش وتغسل شعرها في النهر البعيد\n",
            "\n",
            "\n",
            "نصب مصيدته عند استدارة رمانه كتفها ولكن غلبته احكام السن والتزامات السياسة صارت الفريسة كلما نعس او انتابته نوبة السعال تذله باستسلامها كشوكة سوداء وحشية انكسرت في حلقه\n",
            "\n",
            "\n",
            "بابنا مقفل بالف الف قفل وعرق قرنفل يطرق القلب ويدخل عنوة بماذا رشي الحراس\n",
            "\n",
            "\n",
            "هل جءت هل جءت هنا وانهار جدار هل استجرحت الجرح جالست هواجسي هاجستني بالهجرة ام المجرات استدارت افرك عيني افرك افرك هل مرت بالسعفة ابلست السكون ساكنت الجسد وخرقت السفينة هل موجت اليابسة رجرجت البحر شرست النوار حبرك علي القميص بصماتك علي القصاءد شهقتك علي الشباك تفاصيل لالتباس اتعوذ من الوسوسة يقطر شعري يقطر يقطر هل انحنيت علي روحي وفضت حنانا ام مدت عنقي الي قامتك وفضت حنينا حتي رحينا الحرب حصدنا الرحيق وعسبنا النخل هل جءت هل كنت هنا افتش شوارع المدينة شارعا شارعا اساءل المواسم موسما موسما استرق اسرار الصبايا سرا سرا اشد اوتاري استجوب الفقر رجلا رجلا اصل اوتاري ارشي رجال الحواجز حاجزا حاجزا اياس ياسي اسال عمال المطار القادمين والمسافرين الانس والجن علهم يخبروني انك جءت هنا او انك مستحيل لم يمر جءت لم تجيء جءت لم تجيء جءت جءت لم تج…يء جءت يدق قلبي يدق طهمت رملي عكرت طيني توجتني هزمتني شفرت كتبي شكتني بنفسي شغلتني اخيلتك المغايرة المغبره علي مالوفي وسكينتي ادخلتني في قلق الوقت ولغزت المكان هل جءت هل كنت حقا هنا ام ان النوم سلطان هل جءت هل حقا جءت ام النوارس نفضت اجنحتها علي اوراقي وطارت\n",
            "\n",
            "\n",
            "بقدر مايكره الحجر الاصم استسلامه لقانون السكون لو ان من يساله احاسيسه بقدر ماحب تلك الحركة الفتية وانتشي بالهواء المشرب بعبير انفاسهم وهم يتبارون بحماس وصخب ودون ان نتفق نتعاون برعونة وبتعمد فنزع جبروت الجاذبية او علي القل نوتر تلك العلاقات المستبة)\n",
            "\n",
            "\n",
            "النارنج يتشق ثوبها اليفي الضارب في السمرة فترشح كرة الستان الءلءية دموعا ناصعة زيتا صقيلا حليبا مصفي من راحة الاكف التي سقت قامات اشجارها المروحية يتسل مزيج العناصر الحارقة من كاس البيناكولادا في مقاه باذخة من رفة ضفاءر مجدولة برب النارنج في قارات بعيدة من نحاس حوريات يتشمسن علي بحور غير اهلة الا بالحوت واليخوت يعود الصيف محملا برذاذ الذكري تفتح الحواس دفاترها لتكتب استفزازات جديدة اما الارواح المحروسة بالحرمان فتكتفي بما تجرحه راءحة النارنج من صيامها المانجو كان لذعة عبيرها مستحلبة من لعاب عذاري متوحشات تلف اعصاب العابرين بعرينها دون ان تخلع لثام العفة عن انفاسها او تخلي عن مخمل الخجل\n",
            "\n",
            "\n",
            "يفوح فحيحها بالاسءلة يحفها هواء الشهوات وتلوي الانهار تلمع عطور الرعب من رضابها السام اما سمها الشافي فتنفثه في اوعية الانوثة ليكتمل محاق اسطورة الحية وحواء\n",
            "\n",
            "\n",
            "لوحل لمن غاص في اعماقه السوداء راءحة قرحة المعدة, عطن الخبز عرق العمل مراق علي زنابق متخيلة\n",
            "\n",
            "\n",
            "تحيك البحيرات ماءها من صداقة الشتاء من التمرد علي البحار من الحفر في الجغرافية بغير رياح السياسية ليس من هواء مستعمل يخنق الذاكرة اذا مرنا بالبحيرات المستنقعات تاسن المياه تنمو الطحالب تطارد الرواءح الراكدة كالارواح الشريرة الاحلام المشتعلة وتطفا احداقها\n",
            "\n",
            "\n",
            "لطيور راءحة تشبه ريش اجنحتها فبعضها شاءك يشتبك مع انسجة الرءة وبعضها لزج يسد مجري الحنجرة وبعضها شفيف هفاف يمكن ان يخرجنا من غرفة الانعاش\n",
            "\n",
            "\n",
            "مثلما تحدس الاحصنة المطر من استنشاق الرمل مثلما تنفخ النفاثات عقد السحر مثلما تدل علي القاتل راءحة الدم مثلما يخرب الهواء المبكر تعتق الخل لو تنفس عاشق خارج البءر يتطاير شر الاسرار وليس من لا يشقي او ينعم بحراءق الذاكرة\n",
            "\n",
            "\n",
            "مراوح ناحلة تهف براءحة البارود اغصان سامقة ترمي المارة بالورود جنيات تلوي في الدم بخور المستكا نساء يعجن الوجع بالحبق ويستمتعن بتهمة تسميم الجو باريج القوارير\n",
            "\n",
            "\n",
            "يحسبوني شيءا او جماد لايحفلون بمشاعري الحبيسة بين فراغات الخطوط يمرون مسرعين لايسمعون دقات قلبي\n",
            "\n",
            "\n",
            "تءلمني هده العصافير المزعجة كلما خبطت اجنحتها في الفضاء وراحت تغني وكانها تسخر من سطوتي او تظني وحدي في الحصار\n",
            "\n",
            "\n",
            "من الموسلين الاسود او من القطن المتقع من حرير القز اومن الشالكي الكشميري من الدمسق الشامي غير ان لاشيء يبلي روحي من الظلام الا ظلفة وجها تطل من شقوق التل وتفتح علي عوالمي الباب \n",
            "\n",
            "\n",
            "تجيء الامجاد/ وتهب, فلا ابه الا بما يتوجني, به جمالها انحني خلسة لاقبل رهجةجبينها واتيه بما لم اوت \n",
            "\n",
            "\n",
            "من يخالني الطف الجو لايعلم شيءا عن تجرعي لكل تلك السموم التي لاتركني الا وقد جربت كل انواع البكاء\n",
            "\n",
            "\n",
            "استمتع براءحة البن والهيل بكل حواسي اترك عبيرها النفاد ينكل بالذاكرة فتشقني نصفين انفاس اليد التي شقت التربة والافواه التي اشتهيت الفاكهة السوداء واحضان الثواب الرثة التي التقطت القطاف \n",
            "\n",
            "\n",
            "غافلتني كملكة لا تريد ان تري الرعية نزواتها قطفت نجوم المساء وملات القصيدة زبيبا وتينا وماء زمزم ولكن كيف يفور السكر في الكلمات عندما تمرين بالورقة\n",
            "\n",
            "\n",
            "\" احبتك اله يبني في عرشه اعشاشا لزغاليل الحمام حتي يهتز العرش شجرة سدرية تاوي اليها الطيور الضاءعة احبتك اله يقاسم الفتيات ابتسامتهن البيضاء ولا يترك ابنة الجيران ترقص وحدها احبتك اله يلعب مع الاطفال الكرة ويتزلج علي الجليد والمياه البحرية احبتك اله يغضب في عيون الشباب يشنق بضفاءر الفتيات ويناغي في رحم الحوامل احبتك اله شلالات في شعري تلملمه شفتاك براكين في دمي يفجرها بوحك دون ان اتكلم احبتك اله في كاس الشاي عندما نرشف منه معا وعندما كان جسدك وجسدي يعيد شفتين عوال فجيع \" وتقول فيها ايضا \"انا تحت الشمس التي جلبتنا معا\" \"اخاف عليك مكرك اخاف عليك زلاتك السماوية اخاف…\"\n",
            "\n",
            "\n",
            "احب هذا الحرير الحارق كلما تدفقت قدماها في جوفي تغسل عني وصمة الجماد احب الطرقات الوعرة التي تقتحم بها ليونة جلدي احب المشاوير الشاقة المنحنيات الحادة الشوارع المزدحمة التي تحملني اليها احلامها وهي دون ان تشعر تقودني الي تهلكتي لانتهي بعد كل هذا التنزه في بساتين خطوتها الي الارتماء وحدي تحت السرير\n",
            "\n",
            "\n",
            "الكل يشتكي برد الشتاء ارق اليل كسل الظهيرة صهب الصيف امراض العصر سام السهرة صعوبة الامتحانات غدر الاصدقاء تفاهة الفضاءيات اشواق الفراق ضنك العيش لواعج الاعاقة ذل الدين صعلكة البطالة تباريح الرحيل تاجيل الاحلام اتركهم يلوكون قات الشكوي واستمر في الركض عكس اعمارهم\n",
            "\n",
            "\n",
            "ملقي علي مشجب خشبي خشب المشجب علي وشك ان يتحول الي شجرة سدر كلما احتك بحرارة روحها العالقة بالقماش القماش علي وشك ان يعود الي زهرة قطن كلما لسعته راءحة صابونها الصابونة علي وشك ان تنحل الي غدير ياسمين كلما تساقطت عليها قطرات من كستناء شعرها الطويل قطرات الماء تكاثف مكونة غيمة تذرف شلالات شرسة كلما اصطدمت بحرير خاصرتها الروب الرطب وحده يقف علي المشجب يحلم\n",
            "\n",
            "\n",
            "حلبت السحب الصحراوية الشحيحة احلاما وحزنا وماء قراح واسءلة صغيرة سكبت السا ءل الحارق في حنايا الروح حتي احتدمت القارورة بما ليس في طاقة جسدها الغض وليس في احتمال واقعها الهرم مدت قامتها قدمها في البحر وشعرها كاشرعة تداعب عاصفة\n",
            "\n",
            "\n",
            "اركض الان بين الصور بين وكالات الانباءالزرقاءالعسلية الخضراء اتلمس وجه البلاد من مظاهرة الذباب استحيل من خجلي الي شيء يشبه انحناء العباد وانحناء النخل باب الوظيفه او باب مدن الرماد استحيل الي شيء يشبه لغة الضاد في الصمت العربي قصاءدي شعب في اناء حب في اناء حرب والحرب لا يدخلها نصف قطيع ونصف اماء\n",
            "\n",
            "\n"
          ]
        }
      ],
      "source": [
        "# checking the poem style -\n",
        "for t in data[data.poem_style == '-']['poem_text']:\n",
        "    print(t)\n",
        "    print('\\n')\n",
        "    "
      ],
      "id": "0bcb1e8a"
    },
    {
      "cell_type": "code",
      "execution_count": null,
      "metadata": {
        "id": "28e229e0"
      },
      "outputs": [],
      "source": [
        "# After checking the poems of '-' style, they all belong to 'فصحى' style, so I will change their style.\n",
        "data.loc[data[data.poem_style == '-'].index,['poem_style']] = 'فصحى'"
      ],
      "id": "28e229e0"
    },
    {
      "cell_type": "code",
      "execution_count": null,
      "metadata": {
        "id": "8f407ca2"
      },
      "outputs": [],
      "source": [
        "# drop duplicate poems\n",
        "data['poem_text'].drop_duplicates(inplace=True)\n"
      ],
      "id": "8f407ca2"
    },
    {
      "cell_type": "markdown",
      "metadata": {
        "id": "cb071b3c"
      },
      "source": [
        "# EDA"
      ],
      "id": "cb071b3c"
    },
    {
      "cell_type": "code",
      "execution_count": null,
      "metadata": {
        "id": "897ee1be"
      },
      "outputs": [],
      "source": [
        "# Fixes the right to left writting in matplotlib.\n",
        "def fix_arabic_string(labels):\n",
        "    new_string = []\n",
        "    for label in labels:\n",
        "        \n",
        "        if isinstance(label,str):\n",
        "            new_string.append(get_display(arabic_reshaper.reshape(label)))\n",
        "        else:\n",
        "            new_string.append(get_display(arabic_reshaper.reshape(label.get_text())))\n",
        "    return new_string"
      ],
      "id": "897ee1be"
    },
    {
      "cell_type": "code",
      "execution_count": null,
      "metadata": {
        "id": "cc7f7b9d",
        "outputId": "84cdef32-c5f4-4d81-b6ed-e80fa08b9007"
      },
      "outputs": [
        {
          "data": {
            "image/png": "[encoded data removed]",
            "text/plain": [
              "<Figure size 640x480 with 1 Axes>"
            ]
          },
          "metadata": {},
          "output_type": "display_data"
        }
      ],
      "source": [
        "\n",
        "poem_styles = data.groupby('poem_style')['poem_style'].count()\n",
        "plt.pie(poem_styles.values, labels = fix_arabic_string(poem_styles.keys()), autopct='%.2f%%');"
      ],
      "id": "cc7f7b9d"
    },
    {
      "cell_type": "code",
      "execution_count": null,
      "metadata": {
        "id": "e90b4131",
        "outputId": "12ab88f6-d6c3-4114-e9c0-0f9aafac33a6",
        "scrolled": false
      },
      "outputs": [
        {
          "data": {
            "image/png": "[encoded data removed]",
            "text/plain": [
              "<Figure size 640x480 with 1 Axes>"
            ]
          },
          "metadata": {},
          "output_type": "display_data"
        }
      ],
      "source": [
        "ax = sns.countplot(data=data,x='poet_cat',order = data['poet_cat'].value_counts().index)\n",
        "plt.title('Poets Categories')\n",
        "plt.xticks(rotation=90);\n",
        "ax.set_xticklabels(fix_arabic_string(ax.get_xticklabels()));\n",
        "plt.xlabel('Poets Categories');"
      ],
      "id": "e90b4131"
    },
    {
      "cell_type": "markdown",
      "metadata": {
        "id": "5489f51f"
      },
      "source": [
        "I will group all the countries from the current era to 'العصر الحديث'. The categories are of different groups, some of the categories are eras while others are countries, if we are intreseted in identifying the countries we can train 2 models, one identify the era and if the poems from the modren era it will be passed to the second model to classify the country.  "
      ],
      "id": "5489f51f"
    },
    {
      "cell_type": "code",
      "execution_count": null,
      "metadata": {
        "id": "6302c73d",
        "outputId": "2bd6009f-76e1-4332-e365-d5e6f4a31aa8",
        "scrolled": true
      },
      "outputs": [
        {
          "data": {
            "image/png": "[encoded data removed]",
            "text/plain": [
              "<Figure size 640x480 with 1 Axes>"
            ]
          },
          "metadata": {},
          "output_type": "display_data"
        }
      ],
      "source": [
        "# number of poets in each country.\n",
        "ax = sns.countplot(data=data,x='poet_name',order = data['poet_name'].value_counts().index[:20])\n",
        "plt.title('Poets Categories')\n",
        "plt.xticks(rotation=90);\n",
        "ax.set_xticklabels(fix_arabic_string(ax.get_xticklabels()));\n",
        "plt.xlabel('Poets Categories');"
      ],
      "id": "6302c73d"
    },
    {
      "cell_type": "code",
      "execution_count": null,
      "metadata": {
        "id": "269a828c",
        "outputId": "04ccc69e-1724-493f-ccb1-12f14d86824a"
      },
      "outputs": [
        {
          "data": {
            "image/png": "[encoded data removed]",
            "text/plain": [
              "<Figure size 640x480 with 1 Axes>"
            ]
          },
          "metadata": {},
          "output_type": "display_data"
        }
      ],
      "source": [
        "sorted_values = avg_poem_len_per_poet.sort_values(ascending=False)\n",
        "ax = sns.barplot(x= sorted_values.index,y=sorted_values.values)\n",
        "plt.axhline(y= avg_poem_len_per_poet.mean())\n",
        "\n",
        "plt.title('Average poem words per category')\n",
        "plt.xticks(rotation=90);\n",
        "ax.set_xticklabels(fix_arabic_string(ax.get_xticklabels()));\n",
        "plt.xlabel('Categories');"
      ],
      "id": "269a828c"
    },
    {
      "cell_type": "markdown",
      "metadata": {
        "id": "8e78e414"
      },
      "source": [
        "# Preprocessing Text"
      ],
      "id": "8e78e414"
    },
    {
      "cell_type": "markdown",
      "metadata": {
        "id": "c3bd11bc"
      },
      "source": [
        "Since 'عامي' style compose less then 1% I will drop these samples, they are different then the majority."
      ],
      "id": "c3bd11bc"
    },
    {
      "cell_type": "code",
      "execution_count": null,
      "metadata": {
        "id": "31caeb62"
      },
      "outputs": [],
      "source": [
        "data.drop(index = data[data['poem_style'] == 'عامي'].index,inplace=True)"
      ],
      "id": "31caeb62"
    },
    {
      "cell_type": "code",
      "execution_count": null,
      "metadata": {
        "colab": {
          "base_uri": "https://localhost:8080/"
        },
        "id": "ce6b318a",
        "outputId": "16356779-2ac2-4fc5-ab73-6db29fcca007",
        "scrolled": true
      },
      "outputs": [
        {
          "data": {
            "text/plain": [
              "poet_cat\n",
              "العصر الأندلسي     6296\n",
              "العصر الإسلامي     3700\n",
              "العصر الجاهلي      1461\n",
              "العصر الحديث      27053\n",
              "العصر العباسي     19414\n",
              "Name: poet_cat, dtype: int64"
            ]
          },
          "execution_count": 19,
          "metadata": {},
          "output_type": "execute_result"
        }
      ],
      "source": [
        "# change the countries to an era.\n",
        "eras = ['العصر الجاهلي','العصر الأندلسي','العصر الإسلامي','العصر العباسي']\n",
        "data.loc[data[~data['poet_cat'].isin(eras)].index,['poet_cat']] = 'العصر الحديث'\n",
        "data.groupby('poet_cat')['poet_cat'].count()"
      ],
      "id": "ce6b318a"
    },
    {
      "cell_type": "code",
      "execution_count": null,
      "metadata": {
        "id": "4d4ed2ce",
        "outputId": "dd5bd558-2c23-432f-91ef-f1ba21532487",
        "scrolled": true
      },
      "outputs": [
        {
          "data": {
            "text/plain": [
              "'How star - like are ye Bards of Yore Alone, You heard the silent music of the spheres, And gave it living voice Through smiles and tears, Courting al mortals in their daily drone, The thought, The magic touch, The manly tone With which you season d human hopes and fears Were closely alied, naught to us apears, In Truth, but interwoven with our own Alas No more for us that inward blis Whose warmth is felt not sen, that iner glow Akin to love; Nor dare we like them, even Discern a right The lovely things we mis An artlesnes which only Art can know No more that spark, giving a glimpse of heaven ترجمه كيف نجمة - مثلك برادع الماضي علي حدة سمع_ بموسيقي الاجواء الصامتة و اعطاه صوتا حيا من خلال ابتسامات و دمع يغري كل البشر في يعسوبهم اليومي الفكرة المسة السحرية النغمة الرجولية مع الذي تبل امال انسان d و مخاوف كان عن كثب صفرا متحالفا الينا يظهر في حقيقة الا ان متشابك مع ملكنا وا اسفاه لا الكثير لنا تلك النعمة الداخلية الذي دفءه يتحس ليس sen ان داخلي توهج قريب الي محبة ولا يحتمل يودهم حتي ميز يمينا الحاجات الجميلات نخفق البساطة التي فن وحيد يقدر ان يعرف لا الكثير تلك الشرارة عطاء لمحة سماء '"
            ]
          },
          "execution_count": 24,
          "metadata": {},
          "output_type": "execute_result"
        }
      ],
      "source": [
        "# Some poems are mix of arabic and english\n",
        "data[data.poet_name == 'إبراهيم العريض'].loc[40577]['poem_text']"
      ],
      "id": "4d4ed2ce"
    },
    {
      "cell_type": "code",
      "execution_count": null,
      "metadata": {
        "id": "4cf5e87a",
        "scrolled": false
      },
      "outputs": [],
      "source": [
        "# removing symbols, number, diacritics,english text and extra spaces from poem_text\n",
        "def remove_symbls(df):\n",
        "    \n",
        "    for index in df.index:\n",
        "        # the cleaning is done on only the poem text, I will not be using the title in training.\n",
        "        new_text = re.sub(r'\\W+|\\d+|_|\\||[a-zA-Z]',' ', df.loc[index]['poem_text'])\n",
        "        new_text = araby.normalize_hamza(new_text,method=\"tasheel\")\n",
        "        \n",
        "        new_text = araby.strip_tashkeel(new_text)\n",
        "        new_text = re.sub(r'\\s+',' ',new_text.strip())\n",
        "        df.loc[index,['poem_text']] = new_text\n",
        "        \n",
        "    return df\n",
        "\n",
        "cleaned_data = remove_symbls(data.copy())\n",
        "\n"
      ],
      "id": "4cf5e87a"
    },
    {
      "cell_type": "code",
      "execution_count": null,
      "metadata": {
        "id": "04ab34e7",
        "outputId": "cef8c398-753f-42ed-f24d-d7acd0e6881e"
      },
      "outputs": [
        {
          "name": "stdout",
          "output_type": "stream",
          "text": [
            "350\n"
          ]
        }
      ],
      "source": [
        "print(cleaned_data.poem_text.duplicated().sum())\n",
        "cleaned_data.drop(index=cleaned_data[cleaned_data['poem_text'].duplicated()].index,inplace=True)"
      ],
      "id": "04ab34e7"
    },
    {
      "cell_type": "code",
      "execution_count": null,
      "metadata": {
        "id": "bf21d641"
      },
      "outputs": [],
      "source": [
        "# removing stopwords,  and perform stemming on the words.\n",
        "def stemming(df):\n",
        "    stemmer = ISRIStemmer()\n",
        "    stopwords = nltk.corpus.stopwords.words()\n",
        "    for index in df.index:\n",
        "        text=''\n",
        "        for token in araby.tokenize(df.loc[index]['poem_text'],morphs=araby.strip_tashkeel):\n",
        "            \n",
        "            if token not in stopwords:\n",
        "                #change the word to its root, to reduce the number of features.\n",
        "                text+=stemmer.stem(token)+' '\n",
        "                \n",
        "        # removing extra white spaces.\n",
        "        new_text = re.sub(r'\\s+',' ',text.strip())\n",
        "        df.loc[index,['poem_text']] = new_text\n",
        "    return df"
      ],
      "id": "bf21d641"
    },
    {
      "cell_type": "code",
      "execution_count": null,
      "metadata": {
        "id": "5b83beb3"
      },
      "outputs": [],
      "source": [
        "#cleaned_data = stemming(cleaned_data.copy())"
      ],
      "id": "5b83beb3"
    },
    {
      "cell_type": "code",
      "execution_count": null,
      "metadata": {
        "id": "c6a99d3f"
      },
      "outputs": [],
      "source": [
        "#cleaned_data.to_csv('cleaned_data_without_stem.csv',index=False)\n",
        "# the data is saved after cleaning to avoid going though the same slow process.\n",
        "cleaned_data_with_stem = pd.read_csv('./data/cleaned_data_with_stem.csv')"
      ],
      "id": "c6a99d3f"
    },
    {
      "cell_type": "markdown",
      "metadata": {
        "id": "ee5ecc8f"
      },
      "source": [
        "# ML"
      ],
      "id": "ee5ecc8f"
    },
    {
      "cell_type": "markdown",
      "metadata": {
        "id": "3fe1bdc1"
      },
      "source": [
        "#### Baseline NB\n",
        "- First, we will start by training NB and logistic regression, because it is simpler and faster than training NN, and based on the performance we can decide. I don't think this will yield a good performance, because we are classifying based on the presence or absence of words, and ignoring the context and style of the poem.  "
      ],
      "id": "3fe1bdc1"
    },
    {
      "cell_type": "code",
      "execution_count": null,
      "metadata": {
        "id": "52e7edd5"
      },
      "outputs": [],
      "source": [
        "#split the data into train,test\n",
        "x_train,x_test,y_train,y_test = train_test_split(cleaned_data_with_stem.poem_text,\n",
        "                                                 cleaned_data_with_stem.poet_cat,\n",
        "                                                 test_size=0.2,random_state=1,shuffle=True)\n"
      ],
      "id": "52e7edd5"
    },
    {
      "cell_type": "code",
      "execution_count": null,
      "metadata": {
        "id": "8277422c"
      },
      "outputs": [],
      "source": [
        "#Encoding the class labels.\n",
        "label_encoder = LabelEncoder()\n",
        "y_train = label_encoder.fit_transform(y_train)\n",
        "y_test = label_encoder.transform(y_test)"
      ],
      "id": "8277422c"
    },
    {
      "cell_type": "code",
      "execution_count": null,
      "metadata": {
        "colab": {
          "base_uri": "https://localhost:8080/"
        },
        "id": "026d19e4",
        "outputId": "7625fa35-23b4-48b2-8d08-79c2905c6c9d",
        "scrolled": true
      },
      "outputs": [
        {
          "data": {
            "text/plain": [
              "(46066, 11517)"
            ]
          },
          "execution_count": 41,
          "metadata": {},
          "output_type": "execute_result"
        }
      ],
      "source": [
        "# Checking the training and testing size.\n",
        "len(x_train),len(x_test)"
      ],
      "id": "026d19e4"
    },
    {
      "cell_type": "code",
      "execution_count": null,
      "metadata": {
        "id": "5e7033d4"
      },
      "outputs": [],
      "source": [
        "vectorizer = CountVectorizer()\n",
        "x_train_vect= vectorizer.fit_transform(x_train)\n",
        "x_test_vect = vectorizer.transform(x_test)"
      ],
      "id": "5e7033d4"
    },
    {
      "cell_type": "code",
      "execution_count": 5,
      "metadata": {
        "id": "d2007e8c",
        "scrolled": true
      },
      "outputs": [],
      "source": [
        "english_labels = ['Andalusian era','Islamic era','Pre-Islamic era','Modren era','Abbasid era']"
      ],
      "id": "d2007e8c"
    },
    {
      "cell_type": "code",
      "execution_count": null,
      "metadata": {
        "id": "b529eeac",
        "scrolled": true
      },
      "outputs": [],
      "source": [
        "nb = MultinomialNB()\n",
        "nb.fit(x_train_vect,y_train)\n",
        "test_pred = nb.predict(x_test_vect)\n",
        "train_pred = nb.predict(x_train_vect)"
      ],
      "id": "b529eeac"
    },
    {
      "cell_type": "code",
      "execution_count": null,
      "metadata": {
        "colab": {
          "base_uri": "https://localhost:8080/"
        },
        "id": "01adc72f",
        "outputId": "b78e9d86-66f4-4b9d-c64a-03757528b3c1"
      },
      "outputs": [
        {
          "name": "stdout",
          "output_type": "stream",
          "text": [
            "Training accuracy:  0.72\n",
            "Testing accuracy:  0.69\n"
          ]
        }
      ],
      "source": [
        "# naive bayes has high bais and low variance, that is why it was not affected by the high dimensionality \n",
        "print('Training accuracy: ',round(accuracy_score(y_train,train_pred),2))\n",
        "print('Testing accuracy: ',round(accuracy_score(y_test,test_pred),2))"
      ],
      "id": "01adc72f"
    },
    {
      "cell_type": "code",
      "execution_count": null,
      "metadata": {
        "colab": {
          "base_uri": "https://localhost:8080/"
        },
        "id": "53329be7",
        "outputId": "25e2a8a9-ed42-4e2e-9cd1-c74604096c99",
        "scrolled": true
      },
      "outputs": [
        {
          "name": "stdout",
          "output_type": "stream",
          "text": [
            "Naive Bayes Results\n",
            "                 precision    recall  f1-score   support\n",
            "\n",
            " Andalusian era       0.42      0.42      0.42      1250\n",
            "    Islamic era       0.62      0.42      0.50       756\n",
            "Pre-Islamic era       0.78      0.02      0.05       291\n",
            "     Modren era       0.85      0.77      0.81      5385\n",
            "    Abbasid era       0.61      0.78      0.69      3835\n",
            "\n",
            "       accuracy                           0.69     11517\n",
            "      macro avg       0.66      0.48      0.49     11517\n",
            "   weighted avg       0.71      0.69      0.69     11517\n",
            "\n"
          ]
        }
      ],
      "source": [
        "print('Naive Bayes Results')\n",
        "print(classification_report(y_test,test_pred,target_names=english_labels))"
      ],
      "id": "53329be7"
    },
    {
      "cell_type": "code",
      "execution_count": null,
      "metadata": {
        "colab": {
          "base_uri": "https://localhost:8080/"
        },
        "id": "613c1fcb",
        "outputId": "8bacab9e-56a8-4050-c478-418c76244cf9"
      },
      "outputs": [
        {
          "name": "stderr",
          "output_type": "stream",
          "text": [
            "/usr/local/lib/python3.10/dist-packages/sklearn/linear_model/_logistic.py:458: ConvergenceWarning: lbfgs failed to converge (status=1):\n",
            "STOP: TOTAL NO. of ITERATIONS REACHED LIMIT.\n",
            "\n",
            "Increase the number of iterations (max_iter) or scale the data as shown in:\n",
            "    https://scikit-learn.org/stable/modules/preprocessing.html\n",
            "Please also refer to the documentation for alternative solver options:\n",
            "    https://scikit-learn.org/stable/modules/linear_model.html#logistic-regression\n",
            "  n_iter_i = _check_optimize_result(\n"
          ]
        }
      ],
      "source": [
        "# logistic regression has low bais and high variance, thus we need to add regularization\n",
        "lr = LogisticRegression(C=0.1)\n",
        "lr.fit(x_train_vect,y_train)\n",
        "test_pred = lr.predict(x_test_vect)\n",
        "train_pred = lr.predict(x_train_vect)"
      ],
      "id": "613c1fcb"
    },
    {
      "cell_type": "code",
      "execution_count": null,
      "metadata": {
        "colab": {
          "base_uri": "https://localhost:8080/"
        },
        "id": "413c3453",
        "outputId": "1db63d87-29f4-4e3c-8d16-d24ecaaa43b5"
      },
      "outputs": [
        {
          "name": "stdout",
          "output_type": "stream",
          "text": [
            "Training accuracy:  0.85\n",
            "Testing accuracy:  0.74\n"
          ]
        }
      ],
      "source": [
        "print('Training accuracy: ',round(accuracy_score(y_train,train_pred),2))\n",
        "print('Testing accuracy: ',round(accuracy_score(y_test,test_pred),2))"
      ],
      "id": "413c3453"
    },
    {
      "cell_type": "code",
      "execution_count": null,
      "metadata": {
        "colab": {
          "base_uri": "https://localhost:8080/"
        },
        "id": "3b19902f",
        "outputId": "f1833cf9-875e-40c7-d1db-2370b62835fd"
      },
      "outputs": [
        {
          "name": "stdout",
          "output_type": "stream",
          "text": [
            "Logistic Regression Results:\n",
            "                 precision    recall  f1-score   support\n",
            "\n",
            " Andalusian era       0.59      0.33      0.43      1250\n",
            "    Islamic era       0.65      0.41      0.50       756\n",
            "Pre-Islamic era       0.61      0.26      0.37       291\n",
            "     Modren era       0.87      0.86      0.86      5385\n",
            "    Abbasid era       0.65      0.83      0.73      3835\n",
            "\n",
            "       accuracy                           0.74     11517\n",
            "      macro avg       0.67      0.54      0.58     11517\n",
            "   weighted avg       0.74      0.74      0.73     11517\n",
            "\n"
          ]
        }
      ],
      "source": [
        "print('Logistic Regression Results:')\n",
        "print(classification_report(y_test,test_pred,target_names=english_labels))"
      ],
      "id": "3b19902f"
    },
    {
      "cell_type": "code",
      "execution_count": null,
      "metadata": {
        "colab": {
          "base_uri": "https://localhost:8080/"
        },
        "id": "WwVacyi3zDEn",
        "outputId": "6507dc2c-bfad-4ae7-bd49-d893950f5fe9"
      },
      "outputs": [
        {
          "data": {
            "text/plain": [
              "['./logistic_regression_model.joblib']"
            ]
          },
          "execution_count": 50,
          "metadata": {},
          "output_type": "execute_result"
        }
      ],
      "source": [
        "# saving the best model\n",
        "joblib.dump(lr, './best-model/logistic_regression_model.joblib')"
      ],
      "id": "WwVacyi3zDEn"
    },
    {
      "cell_type": "code",
      "execution_count": null,
      "metadata": {
        "id": "r_1iKbjs6FBv"
      },
      "outputs": [],
      "source": [
        "# load the model\n",
        "lr = joblib.load('./best-model/logistic_regression_model.joblib')"
      ],
      "id": "r_1iKbjs6FBv"
    },
    {
      "cell_type": "markdown",
      "metadata": {
        "id": "5da3ace5"
      },
      "source": [
        "### Pre-trained bert"
      ],
      "id": "5da3ace5"
    },
    {
      "cell_type": "code",
      "execution_count": 6,
      "metadata": {
        "id": "6de3f715"
      },
      "outputs": [],
      "source": [
        "# load the cleaned data without stemming\n",
        "cleaned_data = pd.read_csv('./data/cleaned_data.csv')"
      ],
      "id": "6de3f715"
    },
    {
      "cell_type": "code",
      "execution_count": 7,
      "metadata": {
        "colab": {
          "base_uri": "https://localhost:8080/"
        },
        "id": "d52uQWWDwztE",
        "outputId": "fb38d203-afc5-4c4b-835a-e7189e8a582c"
      },
      "outputs": [
        {
          "output_type": "execute_result",
          "data": {
            "text/plain": [
              "العصر الحديث      26733\n",
              "العصر العباسي     19397\n",
              "العصر الأندلسي     6291\n",
              "العصر الإسلامي     3696\n",
              "العصر الجاهلي      1457\n",
              "Name: poet_cat, dtype: int64"
            ]
          },
          "metadata": {},
          "execution_count": 7
        }
      ],
      "source": [
        "cleaned_data['poet_cat'].value_counts()"
      ],
      "id": "d52uQWWDwztE"
    },
    {
      "cell_type": "code",
      "execution_count": 8,
      "metadata": {
        "id": "06f0fc9c"
      },
      "outputs": [],
      "source": [
        "#split the data into train,test and val\n",
        "\n",
        "x_train,x_test,y_train,y_test = train_test_split(cleaned_data.poem_text,\n",
        "                                                 cleaned_data.poet_cat,\n",
        "                                                 test_size=0.2,random_state=2,shuffle=True)\n",
        "x_train,x_val,y_train,y_val = train_test_split(x_train,\n",
        "                                                y_train,\n",
        "                                                 test_size=0.25,random_state=2,shuffle=True)"
      ],
      "id": "06f0fc9c"
    },
    {
      "cell_type": "code",
      "execution_count": 9,
      "metadata": {
        "id": "7783f9ea"
      },
      "outputs": [],
      "source": [
        "#Encoding the class labels.\n",
        "label_encoder = LabelEncoder()\n",
        "y_train = label_encoder.fit_transform(y_train)\n",
        "y_val = label_encoder.transform(y_val)\n",
        "y_test = label_encoder.transform(y_test)"
      ],
      "id": "7783f9ea"
    },
    {
      "cell_type": "code",
      "execution_count": 10,
      "metadata": {
        "colab": {
          "base_uri": "https://localhost:8080/",
          "height": 301,
          "referenced_widgets": [
            "03cb38bfcf37435f8a7d19dd18ed92a5",
            "7a869e6b623d4fc68212143444ad5e2c",
            "2040407a67914391a1f376af5fa4762f",
            "0c9ec143c9214a42ad62377a772fc4db",
            "35ade6b5bcf34c31a59b14d6476d29fc",
            "a30d902da78f49fa81badd189ce17546",
            "feecbbd170c54cab852aa6b948073c13",
            "67a0dbd7d5e74dadb844d5a7bfb9fa24",
            "5a15cc277d434362aea876180afcf90c",
            "8a7ab84f93d648abaae35718f2165fe1",
            "455739237f97419da73143a3320a6929",
            "a2a5893d08074ddcb3fed0d6818eefbb",
            "f0b7b3fea8774f41836207467e3bc025",
            "e81ba9d1b7bd4745b7b936ead59cff94",
            "c1ec13f58e12441db5bb9db8a7d87bdb",
            "168be2371ca74bba89eb424706d8e428",
            "7c23ab8dd90a4d979a52da680458178f",
            "5fa7d1c293f14c7fa7b2a4e8ec2d7117",
            "09bbe27ef09c4b2aae1faf5b2b22ce3e",
            "9962fc93b85c4a828d00030f4ccbed8d",
            "90c581f71f4d48a3832c3a354af8dcc0",
            "9b28e81487504981a40b4c1fa79d4e3d",
            "01c3446e1d114c53a892abc78207d671",
            "72dac28de8774cfa9230e4be22a5362d",
            "2f684fa3dfd54ca0a51b1c7d4e550a64",
            "b438dcac959c4c5fbb1064f93b12702f",
            "a7b1ba21ef3f4a6f8e992817d27f6438",
            "2395b81706a2489aa982a57a708b488d",
            "7bdf0cf543664c77b47b79a6a812dbfa",
            "5663a95046a54ae0a4a74095ab75b9c6",
            "aa815fc637b54e8c8703d8f51abb38a4",
            "6943c3fa67254600977827bfd75d62bc",
            "9f81c323a0904df4bce114c498c95e25",
            "581e6cc9898e44d0868f8c10a2625355",
            "db1a1121c94e4ce8971cb5b51e78b6b4",
            "ac742bbb5f944883880bca394bdfc5a4",
            "49d014c99120426d834530f421353d19",
            "680f0d80dec44e87bae63ff2f1dfd46e",
            "4d5c2f0ae4ef444e9cb81ce8cb46a666",
            "279fb532c8c94b1cb9b52be1f97620e5",
            "9c41b5228fa74b899540360a91bdf1c2",
            "6ad32f6f917b4821af2e433339b18345",
            "36570ef3384343b292df271bcd97b4af",
            "350b4729148346559351f2ad4dbb1cad",
            "4179d7b348cb428b94f0f75191e9728c",
            "cca7cf9157714786a4a945db5d5e1c1f",
            "1fc4fb93962443fdaed9fb9ee6fbcb6e",
            "6bf2f372a58e4029905ce0f837ce6095",
            "d17277c52ebd4e2b8b2de852980f9838",
            "c141f0769d5649f49c3f3ff20ad3b832",
            "f9f6b3fd3ff84443a496e8e90b2b1185",
            "13511b2191744cd28d978dbe7ae5e4ab",
            "59bc28ab4ccb4271b8a73a6413f217bb",
            "e79d049e552741128abc9d979b36b6a2",
            "3c2191430cdc4d69b5f07803e38b7d86",
            "17f4e69de76141cd9c7ebb979bd88095",
            "2a9c6b8d2e414058a004c1e22faa2731",
            "32054f091a8c432193f868f639e109cc",
            "7ee50b5fec474cde837240aa21d0d546",
            "f940ac0a9c484736b6d2097c6cfbca67",
            "2ff4532df8ef49a0a88d7b60035d5956",
            "36e9a268751c421a8beda8a75805affe",
            "b99f8015f0a4479480b0e32455ae0fc1",
            "1d96062f8799453085c2ea75515a58c0",
            "714f96169ce54fd3bee05ea2b30d74c5",
            "1f045a031e1e4fadbdaabd2026a37b87"
          ]
        },
        "id": "12a3b6e3",
        "outputId": "41b52d2e-5778-4f7b-93c3-63352d2599a4"
      },
      "outputs": [
        {
          "output_type": "display_data",
          "data": {
            "text/plain": [
              "Downloading (…)lve/main/config.json:   0%|          | 0.00/384 [00:00<?, ?B/s]"
            ],
            "application/vnd.jupyter.widget-view+json": {
              "version_major": 2,
              "version_minor": 0,
              "model_id": "03cb38bfcf37435f8a7d19dd18ed92a5"
            }
          },
          "metadata": {}
        },
        {
          "output_type": "display_data",
          "data": {
            "text/plain": [
              "Downloading tf_model.h5:   0%|          | 0.00/742M [00:00<?, ?B/s]"
            ],
            "application/vnd.jupyter.widget-view+json": {
              "version_major": 2,
              "version_minor": 0,
              "model_id": "a2a5893d08074ddcb3fed0d6818eefbb"
            }
          },
          "metadata": {}
        },
        {
          "output_type": "stream",
          "name": "stderr",
          "text": [
            "All model checkpoint layers were used when initializing TFBertForSequenceClassification.\n",
            "\n",
            "Some layers of TFBertForSequenceClassification were not initialized from the model checkpoint at aubmindlab/bert-base-arabertv02 and are newly initialized: ['classifier']\n",
            "You should probably TRAIN this model on a down-stream task to be able to use it for predictions and inference.\n"
          ]
        },
        {
          "output_type": "display_data",
          "data": {
            "text/plain": [
              "Downloading (…)okenizer_config.json:   0%|          | 0.00/381 [00:00<?, ?B/s]"
            ],
            "application/vnd.jupyter.widget-view+json": {
              "version_major": 2,
              "version_minor": 0,
              "model_id": "01c3446e1d114c53a892abc78207d671"
            }
          },
          "metadata": {}
        },
        {
          "output_type": "display_data",
          "data": {
            "text/plain": [
              "Downloading (…)solve/main/vocab.txt:   0%|          | 0.00/825k [00:00<?, ?B/s]"
            ],
            "application/vnd.jupyter.widget-view+json": {
              "version_major": 2,
              "version_minor": 0,
              "model_id": "581e6cc9898e44d0868f8c10a2625355"
            }
          },
          "metadata": {}
        },
        {
          "output_type": "display_data",
          "data": {
            "text/plain": [
              "Downloading (…)/main/tokenizer.json:   0%|          | 0.00/2.64M [00:00<?, ?B/s]"
            ],
            "application/vnd.jupyter.widget-view+json": {
              "version_major": 2,
              "version_minor": 0,
              "model_id": "4179d7b348cb428b94f0f75191e9728c"
            }
          },
          "metadata": {}
        },
        {
          "output_type": "display_data",
          "data": {
            "text/plain": [
              "Downloading (…)cial_tokens_map.json:   0%|          | 0.00/112 [00:00<?, ?B/s]"
            ],
            "application/vnd.jupyter.widget-view+json": {
              "version_major": 2,
              "version_minor": 0,
              "model_id": "17f4e69de76141cd9c7ebb979bd88095"
            }
          },
          "metadata": {}
        }
      ],
      "source": [
        "# load arabnet pretrained on millions of arabic news.\n",
        "model_name = \"aubmindlab/bert-base-arabertv02\"\n",
        "model = TFBertForSequenceClassification.from_pretrained(model_name,num_labels=len(label_encoder.classes_),problem_type = \"classification\",return_dict=True)\n",
        "tokenizer = AutoTokenizer.from_pretrained(model_name)"
      ],
      "id": "12a3b6e3"
    },
    {
      "cell_type": "code",
      "execution_count": 11,
      "metadata": {
        "id": "ff2007be"
      },
      "outputs": [],
      "source": [
        "train_encodings = tokenizer(x_train.to_list(), max_length=128,\n",
        "          padding='max_length',\n",
        "          truncation=True)\n",
        "val_encodings = tokenizer(x_val.to_list(),  max_length=128,\n",
        "          padding='max_length',\n",
        "          truncation=True)\n",
        "test_encodings = tokenizer(x_test.to_list(),  max_length=128,\n",
        "          padding='max_length',\n",
        "          truncation=True)"
      ],
      "id": "ff2007be"
    },
    {
      "cell_type": "code",
      "execution_count": 12,
      "metadata": {
        "id": "f8052821"
      },
      "outputs": [],
      "source": [
        "train_dataset = tf.data.Dataset.from_tensor_slices((\n",
        "    dict(train_encodings),\n",
        "    y_train\n",
        "))\n",
        "\n",
        "val_dataset = tf.data.Dataset.from_tensor_slices((\n",
        "    dict(val_encodings),\n",
        "    y_val\n",
        "))\n",
        "test_dataset = tf.data.Dataset.from_tensor_slices((\n",
        "    dict(test_encodings),\n",
        "    y_test\n",
        "))"
      ],
      "id": "f8052821"
    },
    {
      "cell_type": "code",
      "execution_count": null,
      "metadata": {
        "colab": {
          "base_uri": "https://localhost:8080/"
        },
        "id": "c7dfe272",
        "outputId": "adae3e74-6fa4-4997-d7e9-f3175680900d"
      },
      "outputs": [
        {
          "name": "stdout",
          "output_type": "stream",
          "text": [
            "Epoch 1/4\n",
            "2159/2159 [==============================] - 628s 258ms/step - loss: 0.7539 - sparse_categorical_accuracy: 0.7079 - val_loss: 0.6715 - val_sparse_categorical_accuracy: 0.7369\n",
            "Epoch 2/4\n",
            "2159/2159 [==============================] - 462s 214ms/step - loss: 0.5678 - sparse_categorical_accuracy: 0.7783 - val_loss: 0.6428 - val_sparse_categorical_accuracy: 0.7536\n",
            "Epoch 3/4\n",
            "2159/2159 [==============================] - 452s 209ms/step - loss: 0.4349 - sparse_categorical_accuracy: 0.8341 - val_loss: 0.7206 - val_sparse_categorical_accuracy: 0.7442\n",
            "Epoch 4/4\n",
            "2159/2159 [==============================] - 435s 202ms/step - loss: 0.3241 - sparse_categorical_accuracy: 0.8788 - val_loss: 0.8364 - val_sparse_categorical_accuracy: 0.7239\n"
          ]
        }
      ],
      "source": [
        "\n",
        "# save the best model.\n",
        "model_checkpoint = tf.keras.callbacks.ModelCheckpoint(\n",
        "    filepath='/content/drive/MyDrive/job_exam/poem-classification/best_model',\n",
        "    save_weights_only=True,\n",
        "    monitor='val_sparse_categorical_accuracy',\n",
        "    mode='max',\n",
        "    save_best_only=True)\n",
        "\n",
        "loss = tf.keras.losses.SparseCategoricalCrossentropy(from_logits=True)\n",
        "# using AdamW with, using the weight_decay we can reduce the overfitting.\n",
        "# the weight decay set it to 0.05\n",
        "optimizer = tf.keras.optimizers.AdamW(learning_rate=2e-5, epsilon=1e-08,weight_decay=0.05)\n",
        "# compile the model\n",
        "model.compile(optimizer=optimizer,loss=loss,\n",
        "              metrics=[tf.keras.metrics.SparseCategoricalAccuracy()\n",
        "                       ])\n",
        "# train the model\n",
        "history = model.fit(train_dataset.batch(16),\n",
        "              epochs=4,\n",
        "              batch_size=16,\n",
        "              validation_data=val_dataset.batch(16),callbacks=[model_checkpoint])"
      ],
      "id": "c7dfe272"
    },
    {
      "cell_type": "markdown",
      "metadata": {
        "id": "CAi61TrpVa3f"
      },
      "source": [
        "# Results"
      ],
      "id": "CAi61TrpVa3f"
    },
    {
      "cell_type": "code",
      "execution_count": null,
      "metadata": {
        "colab": {
          "base_uri": "https://localhost:8080/",
          "height": 278,
          "referenced_widgets": [
            "bfb87358efce469581513697ccabf0d8",
            "4a6a19dcadc5423aac0dad3ea9d0cb6f",
            "6ff16c7771754b88ae4b403c254e4a3b",
            "1ed8346eeab3443086a52b1e3bbabe78",
            "10f732dbbec64144a2f87ceec6ef4c22",
            "1c77474739674077b7aab2514749ef84",
            "b594b934733549358bfcc843893fc8f3",
            "bb4da9f2df484979b156a3e059738b75",
            "b22126c84cb64cf79e5f4ec5dc7e63c5",
            "b34de247cb114a4190f676667d82d569",
            "a65c18954ba64fbd8133ec7a53125019",
            "1663c31eaccc41ffba80925f5d31df3e",
            "38d7eee3a1a44563ab0b1f1d20de8b8b",
            "89426ab7f40a44eea28529d889003fdb",
            "29372280be27484c9f96c3b3ec4ff290",
            "c35691cbaabb42ff889e84079f4b8914",
            "8a8d14e1f473493b97aa2c39556feb76",
            "86c2572e52e046b386aa5af89abd3dfb",
            "aaa99133e60e43c989de90d84bbf1597",
            "d0c697eb0f654ab2b2c608050594317d",
            "2f1e2c39390b4fc38af141354b076748",
            "d41c00729b4b42b9a0e079555eb2042e",
            "aff7618a55f54d49a7f1962023da3e19",
            "e688ca50d2424483838a03bc2f188adf",
            "f3aba6945a314993a09fc054fbf25563",
            "52269c78f32d4bdca70584a31b5cc405",
            "62eb59f10f694ae2ab99bac51c9daacc",
            "4bd5baa0b7ce4a598209e57d68427092",
            "ab6e9432fe674ed8b9affd77d4bd47fc",
            "b89c3056a8a94f02bae900cd9bb8161b",
            "652bd961c905425bb953018503e0a5f6",
            "dae935ab0baa4dc799dd1bc1705f0068",
            "430c6491459a4fa38155a658f934958e",
            "ebbf8d402da0442e8ba8314291569d83",
            "1a178ccda6fb4cc39d99d6a507abfb8e",
            "1738f3ce44fd44fcb956dfebe7b4271c",
            "b6c7438bba304804923c4ec5ec513de4",
            "04a120275c7f445b847ba4af40e56da8",
            "632a92aa07f14723849eca928c6b4c76",
            "037a0cd38bfb438ca7a7c5c1dcf594a8",
            "0b89b9d16b004ece8d7b403636aa3ce5",
            "700d3f59f5b54ec0a935bccff5ea142c",
            "92eba4574f944d5fabff0b2fd76259a0",
            "0364337923894d668c9536a19822c9a7",
            "0cd989040d8148cea1d87dce08791024",
            "2f10232552594c099960966febcc89ea",
            "b84a63b862d1422c878fdff828747f2e",
            "ad7372b988b3445c9bfc63cca108a727",
            "bfa5ef8658314d2aadcba114e8d5c978",
            "ef2af6678eb64c27b5b962189bf98706",
            "8e4ff6fda88345f5a575d559ffafb1bf",
            "9e28074b18404b5d9fd7d5e6f4f102c0",
            "558fbbdacb03413b8daca07b46d7c58d",
            "cc709d7d6b5c4ecabf9abde909de6b20",
            "74c774ed8b5d400daa43fda6c9388819",
            "b91985b9aa11471ab996be53ffa751af",
            "d4aba3d0483c450888f50092d23c2f63",
            "ce4a0b6ebd3948f9bd7a8783faeb620b",
            "c6c76b9961c44131bf9cb1431537e59e",
            "38befb24c4664a158e07119dff02bb9e",
            "ef13926395ff4eb1bf99bfb0349f23bf",
            "bfa46da5d171491699c0fa6ae83bc8c7",
            "6a60796e612a439cb851f95aebc152bc",
            "0dfcde67b0144a1c85a8ec962e7beef0",
            "acb9e14e945e4484b31a336e6806e548",
            "faac96f4ed534f419c1892b3b0db6e30"
          ]
        },
        "id": "Ei7OUIexVfOf",
        "outputId": "326a71f7-2070-4cf4-c7e9-6dc3c334c9f3"
      },
      "outputs": [
        {
          "data": {
            "application/vnd.jupyter.widget-view+json": {
              "model_id": "bfb87358efce469581513697ccabf0d8",
              "version_major": 2,
              "version_minor": 0
            },
            "text/plain": [
              "Downloading (…)lve/main/config.json:   0%|          | 0.00/384 [00:00<?, ?B/s]"
            ]
          },
          "metadata": {},
          "output_type": "display_data"
        },
        {
          "data": {
            "application/vnd.jupyter.widget-view+json": {
              "model_id": "1663c31eaccc41ffba80925f5d31df3e",
              "version_major": 2,
              "version_minor": 0
            },
            "text/plain": [
              "Downloading tf_model.h5:   0%|          | 0.00/742M [00:00<?, ?B/s]"
            ]
          },
          "metadata": {},
          "output_type": "display_data"
        },
        {
          "name": "stderr",
          "output_type": "stream",
          "text": [
            "All model checkpoint layers were used when initializing TFBertForSequenceClassification.\n",
            "\n",
            "Some layers of TFBertForSequenceClassification were not initialized from the model checkpoint at aubmindlab/bert-base-arabertv02 and are newly initialized: ['classifier']\n",
            "You should probably TRAIN this model on a down-stream task to be able to use it for predictions and inference.\n"
          ]
        },
        {
          "data": {
            "application/vnd.jupyter.widget-view+json": {
              "model_id": "aff7618a55f54d49a7f1962023da3e19",
              "version_major": 2,
              "version_minor": 0
            },
            "text/plain": [
              "Downloading (…)okenizer_config.json:   0%|          | 0.00/381 [00:00<?, ?B/s]"
            ]
          },
          "metadata": {},
          "output_type": "display_data"
        },
        {
          "data": {
            "application/vnd.jupyter.widget-view+json": {
              "model_id": "ebbf8d402da0442e8ba8314291569d83",
              "version_major": 2,
              "version_minor": 0
            },
            "text/plain": [
              "Downloading (…)solve/main/vocab.txt:   0%|          | 0.00/825k [00:00<?, ?B/s]"
            ]
          },
          "metadata": {},
          "output_type": "display_data"
        },
        {
          "data": {
            "application/vnd.jupyter.widget-view+json": {
              "model_id": "0cd989040d8148cea1d87dce08791024",
              "version_major": 2,
              "version_minor": 0
            },
            "text/plain": [
              "Downloading (…)/main/tokenizer.json:   0%|          | 0.00/2.64M [00:00<?, ?B/s]"
            ]
          },
          "metadata": {},
          "output_type": "display_data"
        },
        {
          "data": {
            "application/vnd.jupyter.widget-view+json": {
              "model_id": "b91985b9aa11471ab996be53ffa751af",
              "version_major": 2,
              "version_minor": 0
            },
            "text/plain": [
              "Downloading (…)cial_tokens_map.json:   0%|          | 0.00/112 [00:00<?, ?B/s]"
            ]
          },
          "metadata": {},
          "output_type": "display_data"
        }
      ],
      "source": [
        "# load bert model to load the saved weights\n",
        "model_name = \"aubmindlab/bert-base-arabertv02\"\n",
        "model = TFBertForSequenceClassification.from_pretrained(model_name,num_labels=len(label_encoder.classes_),problem_type = \"classification\",return_dict=True)\n",
        "tokenizer = AutoTokenizer.from_pretrained(model_name)"
      ],
      "id": "Ei7OUIexVfOf"
    },
    {
      "cell_type": "code",
      "execution_count": 14,
      "metadata": {
        "colab": {
          "base_uri": "https://localhost:8080/"
        },
        "id": "wI7BBVMedBuw",
        "outputId": "bf45f973-0dac-40ff-acf3-96c0418a3f08"
      },
      "outputs": [
        {
          "output_type": "execute_result",
          "data": {
            "text/plain": [
              "<tensorflow.python.checkpoint.checkpoint.CheckpointLoadStatus at 0x7f6cb24d2230>"
            ]
          },
          "metadata": {},
          "execution_count": 14
        }
      ],
      "source": [
        "# load the weights\n",
        "model.load_weights('./best_model')"
      ],
      "id": "wI7BBVMedBuw"
    },
    {
      "cell_type": "code",
      "execution_count": 15,
      "metadata": {
        "id": "454ef073"
      },
      "outputs": [],
      "source": [
        "def predict(data):\n",
        "  preds = model.predict(data.batch(16))[\"logits\"]\n",
        "  class_preds = np.argmax(preds, axis=1)\n",
        "  y_true = [y for x, y in data.as_numpy_iterator()]\n",
        "  return y_true,class_preds"
      ],
      "id": "454ef073"
    },
    {
      "cell_type": "code",
      "execution_count": 16,
      "metadata": {
        "colab": {
          "base_uri": "https://localhost:8080/"
        },
        "id": "oRS5EIwJtPEn",
        "outputId": "806d273d-3e98-4d84-b72d-35d45e68334d"
      },
      "outputs": [
        {
          "output_type": "stream",
          "name": "stdout",
          "text": [
            "720/720 [==============================] - 26s 26ms/step\n"
          ]
        }
      ],
      "source": [
        "# predict on validation set\n",
        "val_true,val_pred = predict(val_dataset)"
      ],
      "id": "oRS5EIwJtPEn"
    },
    {
      "cell_type": "code",
      "execution_count": 17,
      "metadata": {
        "colab": {
          "base_uri": "https://localhost:8080/"
        },
        "id": "Lqg2PSmbtVGH",
        "outputId": "cfe27eaf-8777-473f-d556-740739aafefc"
      },
      "outputs": [
        {
          "output_type": "stream",
          "name": "stdout",
          "text": [
            "                 precision    recall  f1-score   support\n",
            "\n",
            " Andalusian era       0.44      0.40      0.42      1251\n",
            "    Islamic era       0.61      0.50      0.55       740\n",
            "Pre-Islamic era       0.56      0.05      0.09       290\n",
            "     Modren era       0.89      0.88      0.89      5363\n",
            "    Abbasid era       0.69      0.79      0.73      3871\n",
            "\n",
            "       accuracy                           0.75     11515\n",
            "      macro avg       0.64      0.52      0.54     11515\n",
            "   weighted avg       0.75      0.75      0.74     11515\n",
            "\n"
          ]
        }
      ],
      "source": [
        "# results on the validation dataset.\n",
        "print(classification_report(val_true,val_pred,target_names=english_labels))"
      ],
      "id": "Lqg2PSmbtVGH"
    },
    {
      "cell_type": "code",
      "execution_count": 18,
      "metadata": {
        "colab": {
          "base_uri": "https://localhost:8080/"
        },
        "id": "oR3QkKRQbrI5",
        "outputId": "79725052-797d-42dd-9b14-dc0ff07a0dca"
      },
      "outputs": [
        {
          "output_type": "stream",
          "name": "stdout",
          "text": [
            "720/720 [==============================] - 19s 26ms/step\n"
          ]
        }
      ],
      "source": [
        "# predict on test set.\n",
        "test_true,test_pred = predict(test_dataset)"
      ],
      "id": "oR3QkKRQbrI5"
    },
    {
      "cell_type": "code",
      "execution_count": 19,
      "metadata": {
        "colab": {
          "base_uri": "https://localhost:8080/"
        },
        "id": "nu1CR3Jlcilx",
        "outputId": "d7b2162a-c45d-4847-9b8d-21667117937c"
      },
      "outputs": [
        {
          "output_type": "stream",
          "name": "stdout",
          "text": [
            "                 precision    recall  f1-score   support\n",
            "\n",
            " Andalusian era       0.47      0.40      0.43      1242\n",
            "    Islamic era       0.59      0.47      0.52       760\n",
            "Pre-Islamic era       0.42      0.04      0.07       284\n",
            "     Modren era       0.90      0.89      0.90      5401\n",
            "    Abbasid era       0.68      0.79      0.73      3828\n",
            "\n",
            "       accuracy                           0.76     11515\n",
            "      macro avg       0.61      0.52      0.53     11515\n",
            "   weighted avg       0.75      0.76      0.75     11515\n",
            "\n"
          ]
        }
      ],
      "source": [
        "# results on the test dataset.\n",
        "print(classification_report(test_true,test_pred,target_names=english_labels))"
      ],
      "id": "nu1CR3Jlcilx"
    },
    {
      "cell_type": "markdown",
      "metadata": {
        "id": "j4-x3V147OfX"
      },
      "source": [
        "- The performance of fine-tuned arabert is slightly better then logistic regression the change is approximatly 2.7%. still, the results are affected by the data imbalance. The class with heighest number of samples is Modren era, followed by Abbasid era, which both have the top f1-score. The lowest is Pre-Islamic era which has the lowest number of samples in the trainig set of 1400.\n",
        "- The weighted accuracy change calculated using this equation:\n",
        "  - ((new_accuracy-old_accuracy)/old_accuracy) *100"
      ],
      "id": "j4-x3V147OfX"
    },
    {
      "cell_type": "code",
      "execution_count": 20,
      "metadata": {
        "colab": {
          "base_uri": "https://localhost:8080/",
          "height": 557
        },
        "id": "AZje-6OAsxbe",
        "outputId": "3a269da2-62b9-4be9-dcc5-56694de18241"
      },
      "outputs": [
        {
          "output_type": "display_data",
          "data": {
            "text/plain": [
              "<Figure size 800x800 with 0 Axes>"
            ]
          },
          "metadata": {}
        },
        {
          "output_type": "display_data",
          "data": {
            "text/plain": [
              "<Figure size 640x480 with 2 Axes>"
            ],
            "image/png": "[encoded data removed]"
          },
          "metadata": {}
        }
      ],
      "source": [
        "# plotting the confusion matrix\n",
        "fig = plt.figure(figsize=(8,8))\n",
        "cm = confusion_matrix(y_true=test_true,y_pred=test_pred)\n",
        "cmd = ConfusionMatrixDisplay(cm,display_labels=english_labels)\n",
        "\n",
        "cmd.plot(cmap=plt.cm.Blues,xticks_rotation='vertical');"
      ],
      "id": "AZje-6OAsxbe"
    },
    {
      "cell_type": "markdown",
      "metadata": {
        "id": "NpGG3Pfv9upQ"
      },
      "source": [
        "There is high misclassifcation between Abbasid era and Andalusian era possible because of the overlap in the eras, abbasid era from 750 to 1258 wheras Andalusian era was from 711 to 1492, the poems writting styles and topics may be similar. The pre-islamic era has the lowest correct recall because of the small size of the dataset. So we will train our model again using the best hyperparameters we found on the train and val to increase the size of the dataset."
      ],
      "id": "NpGG3Pfv9upQ"
    },
    {
      "cell_type": "markdown",
      "metadata": {
        "id": "PT9WVpIbjwmr"
      },
      "source": [
        "# Retrain the model using the best hyperparameters on both the train and val set."
      ],
      "id": "PT9WVpIbjwmr"
    },
    {
      "cell_type": "code",
      "execution_count": 21,
      "metadata": {
        "id": "0hGkYmthE6BC",
        "colab": {
          "base_uri": "https://localhost:8080/"
        },
        "outputId": "c7cdbb38-f891-476b-cdc4-87d2f59fe1d9"
      },
      "outputs": [
        {
          "output_type": "stream",
          "name": "stderr",
          "text": [
            "All model checkpoint layers were used when initializing TFBertForSequenceClassification.\n",
            "\n",
            "Some layers of TFBertForSequenceClassification were not initialized from the model checkpoint at aubmindlab/bert-base-arabertv02 and are newly initialized: ['classifier']\n",
            "You should probably TRAIN this model on a down-stream task to be able to use it for predictions and inference.\n"
          ]
        }
      ],
      "source": [
        "# load arabnet pretrained on millions of arabic news.\n",
        "model_name = \"aubmindlab/bert-base-arabertv02\"\n",
        "model = TFBertForSequenceClassification.from_pretrained(model_name,num_labels=len(label_encoder.classes_),problem_type = \"classification\",return_dict=True)\n",
        "tokenizer = AutoTokenizer.from_pretrained(model_name)"
      ],
      "id": "0hGkYmthE6BC"
    },
    {
      "cell_type": "code",
      "execution_count": 22,
      "metadata": {
        "id": "WJXp8eMmjbJL"
      },
      "outputs": [],
      "source": [
        "#split the data into train andtest\n",
        "\n",
        "x_train,x_test,y_train,y_test = train_test_split(cleaned_data.poem_text,\n",
        "                                                 cleaned_data.poet_cat,\n",
        "                                                 test_size=0.2,random_state=2,shuffle=True)\n"
      ],
      "id": "WJXp8eMmjbJL"
    },
    {
      "cell_type": "code",
      "execution_count": 23,
      "metadata": {
        "id": "hqDC2xHIjeJP"
      },
      "outputs": [],
      "source": [
        "#Encoding the class labels.\n",
        "label_encoder = LabelEncoder()\n",
        "y_train = label_encoder.fit_transform(y_train)\n",
        "y_test = label_encoder.transform(y_test)"
      ],
      "id": "hqDC2xHIjeJP"
    },
    {
      "cell_type": "code",
      "execution_count": 24,
      "metadata": {
        "id": "trLelRsojhiN"
      },
      "outputs": [],
      "source": [
        "train_encodings = tokenizer(x_train.to_list(), max_length=128,\n",
        "          padding='max_length',\n",
        "          truncation=True)\n",
        "\n",
        "test_encodings = tokenizer(x_test.to_list(),  max_length=128,\n",
        "          padding='max_length',\n",
        "          truncation=True)"
      ],
      "id": "trLelRsojhiN"
    },
    {
      "cell_type": "code",
      "execution_count": 25,
      "metadata": {
        "id": "JGAjJx2GjkoK"
      },
      "outputs": [],
      "source": [
        "train_dataset = tf.data.Dataset.from_tensor_slices((\n",
        "    dict(train_encodings),\n",
        "    y_train\n",
        "))\n",
        "\n",
        "\n",
        "test_dataset = tf.data.Dataset.from_tensor_slices((\n",
        "    dict(test_encodings),\n",
        "    y_test #here was the error\n",
        "))"
      ],
      "id": "JGAjJx2GjkoK"
    },
    {
      "cell_type": "code",
      "execution_count": 30,
      "metadata": {
        "colab": {
          "base_uri": "https://localhost:8080/"
        },
        "id": "JUFJD-I-jWet",
        "outputId": "91be9650-5f4b-46cb-8407-62a5cf4a0a6b"
      },
      "outputs": [
        {
          "output_type": "stream",
          "name": "stdout",
          "text": [
            "2879/2879 [==============================] - 322s 95ms/step - loss: 0.2987 - sparse_categorical_accuracy: 0.8903\n"
          ]
        }
      ],
      "source": [
        "# Retrain the model using the best hyperparameters, the best number of epoachs are 3 or 4 \n",
        "loss = tf.keras.losses.SparseCategoricalCrossentropy(from_logits=True)\n",
        "# using AdamW with, using the weight_decay we can reduce the overfitting.\n",
        "# the weight decay set it to 0.05\n",
        "optimizer = tf.keras.optimizers.AdamW(learning_rate=2e-5, epsilon=1e-08,weight_decay=0.05)\n",
        "# compile the model\n",
        "model.compile(optimizer=optimizer,loss=loss,\n",
        "              metrics=[tf.keras.metrics.SparseCategoricalAccuracy()\n",
        "                       ])\n",
        "# train the model\n",
        "history = model.fit(train_dataset.batch(16),\n",
        "              epochs=1,\n",
        "              batch_size=16)"
      ],
      "id": "JUFJD-I-jWet"
    },
    {
      "cell_type": "code",
      "execution_count": 31,
      "metadata": {
        "colab": {
          "base_uri": "https://localhost:8080/"
        },
        "id": "KiUobTq9j_Rq",
        "outputId": "8757627d-eb65-4026-8e23-2721ac9dc762"
      },
      "outputs": [
        {
          "output_type": "stream",
          "name": "stdout",
          "text": [
            "720/720 [==============================] - 22s 26ms/step\n"
          ]
        }
      ],
      "source": [
        "# predict on test set.\n",
        "test_true,test_pred = predict(test_dataset)"
      ],
      "id": "KiUobTq9j_Rq"
    },
    {
      "cell_type": "code",
      "execution_count": 32,
      "metadata": {
        "colab": {
          "base_uri": "https://localhost:8080/"
        },
        "id": "Wy2mPLnJkS5G",
        "outputId": "3eecc680-4561-4339-cd27-f207df4de8a0"
      },
      "outputs": [
        {
          "output_type": "stream",
          "name": "stdout",
          "text": [
            "                 precision    recall  f1-score   support\n",
            "\n",
            " Andalusian era       0.46      0.43      0.44      1242\n",
            "    Islamic era       0.63      0.48      0.54       760\n",
            "Pre-Islamic era       0.50      0.18      0.26       284\n",
            "     Modren era       0.88      0.92      0.90      5401\n",
            "    Abbasid era       0.70      0.75      0.72      3828\n",
            "\n",
            "       accuracy                           0.76     11515\n",
            "      macro avg       0.63      0.55      0.57     11515\n",
            "   weighted avg       0.75      0.76      0.75     11515\n",
            "\n"
          ]
        }
      ],
      "source": [
        "# results on the test dataset.\n",
        "print(classification_report(test_true,test_pred,target_names=english_labels))\n"
      ],
      "id": "Wy2mPLnJkS5G"
    },
    {
      "cell_type": "markdown",
      "metadata": {
        "id": "EK8GK-_QC-uh"
      },
      "source": [
        "After retraining on both train and validation we see the pre-islamic era has better recall, The other classes f1 score decreased slightly. "
      ],
      "id": "EK8GK-_QC-uh"
    },
    {
      "cell_type": "code",
      "execution_count": 33,
      "metadata": {
        "colab": {
          "base_uri": "https://localhost:8080/",
          "height": 557
        },
        "id": "eEJoP80uylYt",
        "outputId": "9825f710-688d-43e6-9ff8-2ad8ebeb3884"
      },
      "outputs": [
        {
          "output_type": "display_data",
          "data": {
            "text/plain": [
              "<Figure size 800x800 with 0 Axes>"
            ]
          },
          "metadata": {}
        },
        {
          "output_type": "display_data",
          "data": {
            "text/plain": [
              "<Figure size 640x480 with 2 Axes>"
            ],
            "image/png": "[encoded data removed]"
          },
          "metadata": {}
        }
      ],
      "source": [
        "# plotting the confusion matrix\n",
        "fig = plt.figure(figsize=(8,8))\n",
        "cm = confusion_matrix(y_true=test_true,y_pred=test_pred)\n",
        "cmd = ConfusionMatrixDisplay(cm,display_labels=english_labels)\n",
        "\n",
        "cmd.plot(cmap=plt.cm.Blues,xticks_rotation='vertical');"
      ],
      "id": "eEJoP80uylYt"
    },
    {
      "cell_type": "markdown",
      "metadata": {
        "id": "aXgMVZpduMaH"
      },
      "source": [
        "The data is imbalanced, and in all models we see the same behaviour, the modren era class has better classification then the other classes, because it is the majority class."
      ],
      "id": "aXgMVZpduMaH"
    },
    {
      "cell_type": "markdown",
      "metadata": {
        "id": "HT6ks_i9vKgn"
      },
      "source": [
        "Future work:\n",
        "- use Cross validation to ensure the generalizablity of the model. \n",
        "- To improve the performance use model trained on poetry since we are dealing with small data, add more data by scraping poetry websites \n",
        "- to deal with the imbalance assign different weights to the classes.\n",
        "- create a pipline for the preprocessing done on the data."
      ],
      "id": "HT6ks_i9vKgn"
    }
  ],
  "metadata": {
    "accelerator": "GPU",
    "colab": {
      "provenance": [],
      "machine_shape": "hm",
      "gpuType": "A100"
    },
    "gpuClass": "standard",
    "kernelspec": {
      "display_name": "Python 3 (ipykernel)",
      "language": "python",
      "name": "python3"
    },
    "language_info": {
      "codemirror_mode": {
        "name": "ipython",
        "version": 3
      },
      "file_extension": ".py",
      "mimetype": "text/x-python",
      "name": "python",
      "nbconvert_exporter": "python",
      "pygments_lexer": "ipython3",
      "version": "3.8.10"
    },
    "widgets": {
      "application/vnd.jupyter.widget-state+json": {
        "0364337923894d668c9536a19822c9a7": {
          "model_module": "@jupyter-widgets/controls",
          "model_module_version": "1.5.0",
          "model_name": "DescriptionStyleModel",
          "state": {
            "_model_module": "@jupyter-widgets/controls",
            "_model_module_version": "1.5.0",
            "_model_name": "DescriptionStyleModel",
            "_view_count": null,
            "_view_module": "@jupyter-widgets/base",
            "_view_module_version": "1.2.0",
            "_view_name": "StyleView",
            "description_width": ""
          }
        },
        "037a0cd38bfb438ca7a7c5c1dcf594a8": {
          "model_module": "@jupyter-widgets/controls",
          "model_module_version": "1.5.0",
          "model_name": "DescriptionStyleModel",
          "state": {
            "_model_module": "@jupyter-widgets/controls",
            "_model_module_version": "1.5.0",
            "_model_name": "DescriptionStyleModel",
            "_view_count": null,
            "_view_module": "@jupyter-widgets/base",
            "_view_module_version": "1.2.0",
            "_view_name": "StyleView",
            "description_width": ""
          }
        },
        "04a120275c7f445b847ba4af40e56da8": {
          "model_module": "@jupyter-widgets/base",
          "model_module_version": "1.2.0",
          "model_name": "LayoutModel",
          "state": {
            "_model_module": "@jupyter-widgets/base",
            "_model_module_version": "1.2.0",
            "_model_name": "LayoutModel",
            "_view_count": null,
            "_view_module": "@jupyter-widgets/base",
            "_view_module_version": "1.2.0",
            "_view_name": "LayoutView",
            "align_content": null,
            "align_items": null,
            "align_self": null,
            "border": null,
            "bottom": null,
            "display": null,
            "flex": null,
            "flex_flow": null,
            "grid_area": null,
            "grid_auto_columns": null,
            "grid_auto_flow": null,
            "grid_auto_rows": null,
            "grid_column": null,
            "grid_gap": null,
            "grid_row": null,
            "grid_template_areas": null,
            "grid_template_columns": null,
            "grid_template_rows": null,
            "height": null,
            "justify_content": null,
            "justify_items": null,
            "left": null,
            "margin": null,
            "max_height": null,
            "max_width": null,
            "min_height": null,
            "min_width": null,
            "object_fit": null,
            "object_position": null,
            "order": null,
            "overflow": null,
            "overflow_x": null,
            "overflow_y": null,
            "padding": null,
            "right": null,
            "top": null,
            "visibility": null,
            "width": null
          }
        },
        "0b89b9d16b004ece8d7b403636aa3ce5": {
          "model_module": "@jupyter-widgets/base",
          "model_module_version": "1.2.0",
          "model_name": "LayoutModel",
          "state": {
            "_model_module": "@jupyter-widgets/base",
            "_model_module_version": "1.2.0",
            "_model_name": "LayoutModel",
            "_view_count": null,
            "_view_module": "@jupyter-widgets/base",
            "_view_module_version": "1.2.0",
            "_view_name": "LayoutView",
            "align_content": null,
            "align_items": null,
            "align_self": null,
            "border": null,
            "bottom": null,
            "display": null,
            "flex": null,
            "flex_flow": null,
            "grid_area": null,
            "grid_auto_columns": null,
            "grid_auto_flow": null,
            "grid_auto_rows": null,
            "grid_column": null,
            "grid_gap": null,
            "grid_row": null,
            "grid_template_areas": null,
            "grid_template_columns": null,
            "grid_template_rows": null,
            "height": null,
            "justify_content": null,
            "justify_items": null,
            "left": null,
            "margin": null,
            "max_height": null,
            "max_width": null,
            "min_height": null,
            "min_width": null,
            "object_fit": null,
            "object_position": null,
            "order": null,
            "overflow": null,
            "overflow_x": null,
            "overflow_y": null,
            "padding": null,
            "right": null,
            "top": null,
            "visibility": null,
            "width": null
          }
        },
        "0cd989040d8148cea1d87dce08791024": {
          "model_module": "@jupyter-widgets/controls",
          "model_module_version": "1.5.0",
          "model_name": "HBoxModel",
          "state": {
            "_dom_classes": [],
            "_model_module": "@jupyter-widgets/controls",
            "_model_module_version": "1.5.0",
            "_model_name": "HBoxModel",
            "_view_count": null,
            "_view_module": "@jupyter-widgets/controls",
            "_view_module_version": "1.5.0",
            "_view_name": "HBoxView",
            "box_style": "",
            "children": [
              "IPY_MODEL_2f10232552594c099960966febcc89ea",
              "IPY_MODEL_b84a63b862d1422c878fdff828747f2e",
              "IPY_MODEL_ad7372b988b3445c9bfc63cca108a727"
            ],
            "layout": "IPY_MODEL_bfa5ef8658314d2aadcba114e8d5c978"
          }
        },
        "0dfcde67b0144a1c85a8ec962e7beef0": {
          "model_module": "@jupyter-widgets/controls",
          "model_module_version": "1.5.0",
          "model_name": "ProgressStyleModel",
          "state": {
            "_model_module": "@jupyter-widgets/controls",
            "_model_module_version": "1.5.0",
            "_model_name": "ProgressStyleModel",
            "_view_count": null,
            "_view_module": "@jupyter-widgets/base",
            "_view_module_version": "1.2.0",
            "_view_name": "StyleView",
            "bar_color": null,
            "description_width": ""
          }
        },
        "10f732dbbec64144a2f87ceec6ef4c22": {
          "model_module": "@jupyter-widgets/base",
          "model_module_version": "1.2.0",
          "model_name": "LayoutModel",
          "state": {
            "_model_module": "@jupyter-widgets/base",
            "_model_module_version": "1.2.0",
            "_model_name": "LayoutModel",
            "_view_count": null,
            "_view_module": "@jupyter-widgets/base",
            "_view_module_version": "1.2.0",
            "_view_name": "LayoutView",
            "align_content": null,
            "align_items": null,
            "align_self": null,
            "border": null,
            "bottom": null,
            "display": null,
            "flex": null,
            "flex_flow": null,
            "grid_area": null,
            "grid_auto_columns": null,
            "grid_auto_flow": null,
            "grid_auto_rows": null,
            "grid_column": null,
            "grid_gap": null,
            "grid_row": null,
            "grid_template_areas": null,
            "grid_template_columns": null,
            "grid_template_rows": null,
            "height": null,
            "justify_content": null,
            "justify_items": null,
            "left": null,
            "margin": null,
            "max_height": null,
            "max_width": null,
            "min_height": null,
            "min_width": null,
            "object_fit": null,
            "object_position": null,
            "order": null,
            "overflow": null,
            "overflow_x": null,
            "overflow_y": null,
            "padding": null,
            "right": null,
            "top": null,
            "visibility": null,
            "width": null
          }
        },
        "1663c31eaccc41ffba80925f5d31df3e": {
          "model_module": "@jupyter-widgets/controls",
          "model_module_version": "1.5.0",
          "model_name": "HBoxModel",
          "state": {
            "_dom_classes": [],
            "_model_module": "@jupyter-widgets/controls",
            "_model_module_version": "1.5.0",
            "_model_name": "HBoxModel",
            "_view_count": null,
            "_view_module": "@jupyter-widgets/controls",
            "_view_module_version": "1.5.0",
            "_view_name": "HBoxView",
            "box_style": "",
            "children": [
              "IPY_MODEL_38d7eee3a1a44563ab0b1f1d20de8b8b",
              "IPY_MODEL_89426ab7f40a44eea28529d889003fdb",
              "IPY_MODEL_29372280be27484c9f96c3b3ec4ff290"
            ],
            "layout": "IPY_MODEL_c35691cbaabb42ff889e84079f4b8914"
          }
        },
        "1738f3ce44fd44fcb956dfebe7b4271c": {
          "model_module": "@jupyter-widgets/controls",
          "model_module_version": "1.5.0",
          "model_name": "FloatProgressModel",
          "state": {
            "_dom_classes": [],
            "_model_module": "@jupyter-widgets/controls",
            "_model_module_version": "1.5.0",
            "_model_name": "FloatProgressModel",
            "_view_count": null,
            "_view_module": "@jupyter-widgets/controls",
            "_view_module_version": "1.5.0",
            "_view_name": "ProgressView",
            "bar_style": "success",
            "description": "",
            "description_tooltip": null,
            "layout": "IPY_MODEL_0b89b9d16b004ece8d7b403636aa3ce5",
            "max": 824793,
            "min": 0,
            "orientation": "horizontal",
            "style": "IPY_MODEL_700d3f59f5b54ec0a935bccff5ea142c",
            "value": 824793
          }
        },
        "1a178ccda6fb4cc39d99d6a507abfb8e": {
          "model_module": "@jupyter-widgets/controls",
          "model_module_version": "1.5.0",
          "model_name": "HTMLModel",
          "state": {
            "_dom_classes": [],
            "_model_module": "@jupyter-widgets/controls",
            "_model_module_version": "1.5.0",
            "_model_name": "HTMLModel",
            "_view_count": null,
            "_view_module": "@jupyter-widgets/controls",
            "_view_module_version": "1.5.0",
            "_view_name": "HTMLView",
            "description": "",
            "description_tooltip": null,
            "layout": "IPY_MODEL_632a92aa07f14723849eca928c6b4c76",
            "placeholder": "​",
            "style": "IPY_MODEL_037a0cd38bfb438ca7a7c5c1dcf594a8",
            "value": "Downloading (…)solve/main/vocab.txt: 100%"
          }
        },
        "1c77474739674077b7aab2514749ef84": {
          "model_module": "@jupyter-widgets/base",
          "model_module_version": "1.2.0",
          "model_name": "LayoutModel",
          "state": {
            "_model_module": "@jupyter-widgets/base",
            "_model_module_version": "1.2.0",
            "_model_name": "LayoutModel",
            "_view_count": null,
            "_view_module": "@jupyter-widgets/base",
            "_view_module_version": "1.2.0",
            "_view_name": "LayoutView",
            "align_content": null,
            "align_items": null,
            "align_self": null,
            "border": null,
            "bottom": null,
            "display": null,
            "flex": null,
            "flex_flow": null,
            "grid_area": null,
            "grid_auto_columns": null,
            "grid_auto_flow": null,
            "grid_auto_rows": null,
            "grid_column": null,
            "grid_gap": null,
            "grid_row": null,
            "grid_template_areas": null,
            "grid_template_columns": null,
            "grid_template_rows": null,
            "height": null,
            "justify_content": null,
            "justify_items": null,
            "left": null,
            "margin": null,
            "max_height": null,
            "max_width": null,
            "min_height": null,
            "min_width": null,
            "object_fit": null,
            "object_position": null,
            "order": null,
            "overflow": null,
            "overflow_x": null,
            "overflow_y": null,
            "padding": null,
            "right": null,
            "top": null,
            "visibility": null,
            "width": null
          }
        },
        "1ed8346eeab3443086a52b1e3bbabe78": {
          "model_module": "@jupyter-widgets/controls",
          "model_module_version": "1.5.0",
          "model_name": "HTMLModel",
          "state": {
            "_dom_classes": [],
            "_model_module": "@jupyter-widgets/controls",
            "_model_module_version": "1.5.0",
            "_model_name": "HTMLModel",
            "_view_count": null,
            "_view_module": "@jupyter-widgets/controls",
            "_view_module_version": "1.5.0",
            "_view_name": "HTMLView",
            "description": "",
            "description_tooltip": null,
            "layout": "IPY_MODEL_b34de247cb114a4190f676667d82d569",
            "placeholder": "​",
            "style": "IPY_MODEL_a65c18954ba64fbd8133ec7a53125019",
            "value": " 384/384 [00:00&lt;00:00, 12.4kB/s]"
          }
        },
        "29372280be27484c9f96c3b3ec4ff290": {
          "model_module": "@jupyter-widgets/controls",
          "model_module_version": "1.5.0",
          "model_name": "HTMLModel",
          "state": {
            "_dom_classes": [],
            "_model_module": "@jupyter-widgets/controls",
            "_model_module_version": "1.5.0",
            "_model_name": "HTMLModel",
            "_view_count": null,
            "_view_module": "@jupyter-widgets/controls",
            "_view_module_version": "1.5.0",
            "_view_name": "HTMLView",
            "description": "",
            "description_tooltip": null,
            "layout": "IPY_MODEL_2f1e2c39390b4fc38af141354b076748",
            "placeholder": "​",
            "style": "IPY_MODEL_d41c00729b4b42b9a0e079555eb2042e",
            "value": " 742M/742M [00:12&lt;00:00, 59.8MB/s]"
          }
        },
        "2f10232552594c099960966febcc89ea": {
          "model_module": "@jupyter-widgets/controls",
          "model_module_version": "1.5.0",
          "model_name": "HTMLModel",
          "state": {
            "_dom_classes": [],
            "_model_module": "@jupyter-widgets/controls",
            "_model_module_version": "1.5.0",
            "_model_name": "HTMLModel",
            "_view_count": null,
            "_view_module": "@jupyter-widgets/controls",
            "_view_module_version": "1.5.0",
            "_view_name": "HTMLView",
            "description": "",
            "description_tooltip": null,
            "layout": "IPY_MODEL_ef2af6678eb64c27b5b962189bf98706",
            "placeholder": "​",
            "style": "IPY_MODEL_8e4ff6fda88345f5a575d559ffafb1bf",
            "value": "Downloading (…)/main/tokenizer.json: 100%"
          }
        },
        "2f1e2c39390b4fc38af141354b076748": {
          "model_module": "@jupyter-widgets/base",
          "model_module_version": "1.2.0",
          "model_name": "LayoutModel",
          "state": {
            "_model_module": "@jupyter-widgets/base",
            "_model_module_version": "1.2.0",
            "_model_name": "LayoutModel",
            "_view_count": null,
            "_view_module": "@jupyter-widgets/base",
            "_view_module_version": "1.2.0",
            "_view_name": "LayoutView",
            "align_content": null,
            "align_items": null,
            "align_self": null,
            "border": null,
            "bottom": null,
            "display": null,
            "flex": null,
            "flex_flow": null,
            "grid_area": null,
            "grid_auto_columns": null,
            "grid_auto_flow": null,
            "grid_auto_rows": null,
            "grid_column": null,
            "grid_gap": null,
            "grid_row": null,
            "grid_template_areas": null,
            "grid_template_columns": null,
            "grid_template_rows": null,
            "height": null,
            "justify_content": null,
            "justify_items": null,
            "left": null,
            "margin": null,
            "max_height": null,
            "max_width": null,
            "min_height": null,
            "min_width": null,
            "object_fit": null,
            "object_position": null,
            "order": null,
            "overflow": null,
            "overflow_x": null,
            "overflow_y": null,
            "padding": null,
            "right": null,
            "top": null,
            "visibility": null,
            "width": null
          }
        },
        "38befb24c4664a158e07119dff02bb9e": {
          "model_module": "@jupyter-widgets/base",
          "model_module_version": "1.2.0",
          "model_name": "LayoutModel",
          "state": {
            "_model_module": "@jupyter-widgets/base",
            "_model_module_version": "1.2.0",
            "_model_name": "LayoutModel",
            "_view_count": null,
            "_view_module": "@jupyter-widgets/base",
            "_view_module_version": "1.2.0",
            "_view_name": "LayoutView",
            "align_content": null,
            "align_items": null,
            "align_self": null,
            "border": null,
            "bottom": null,
            "display": null,
            "flex": null,
            "flex_flow": null,
            "grid_area": null,
            "grid_auto_columns": null,
            "grid_auto_flow": null,
            "grid_auto_rows": null,
            "grid_column": null,
            "grid_gap": null,
            "grid_row": null,
            "grid_template_areas": null,
            "grid_template_columns": null,
            "grid_template_rows": null,
            "height": null,
            "justify_content": null,
            "justify_items": null,
            "left": null,
            "margin": null,
            "max_height": null,
            "max_width": null,
            "min_height": null,
            "min_width": null,
            "object_fit": null,
            "object_position": null,
            "order": null,
            "overflow": null,
            "overflow_x": null,
            "overflow_y": null,
            "padding": null,
            "right": null,
            "top": null,
            "visibility": null,
            "width": null
          }
        },
        "38d7eee3a1a44563ab0b1f1d20de8b8b": {
          "model_module": "@jupyter-widgets/controls",
          "model_module_version": "1.5.0",
          "model_name": "HTMLModel",
          "state": {
            "_dom_classes": [],
            "_model_module": "@jupyter-widgets/controls",
            "_model_module_version": "1.5.0",
            "_model_name": "HTMLModel",
            "_view_count": null,
            "_view_module": "@jupyter-widgets/controls",
            "_view_module_version": "1.5.0",
            "_view_name": "HTMLView",
            "description": "",
            "description_tooltip": null,
            "layout": "IPY_MODEL_8a8d14e1f473493b97aa2c39556feb76",
            "placeholder": "​",
            "style": "IPY_MODEL_86c2572e52e046b386aa5af89abd3dfb",
            "value": "Downloading tf_model.h5: 100%"
          }
        },
        "430c6491459a4fa38155a658f934958e": {
          "model_module": "@jupyter-widgets/controls",
          "model_module_version": "1.5.0",
          "model_name": "DescriptionStyleModel",
          "state": {
            "_model_module": "@jupyter-widgets/controls",
            "_model_module_version": "1.5.0",
            "_model_name": "DescriptionStyleModel",
            "_view_count": null,
            "_view_module": "@jupyter-widgets/base",
            "_view_module_version": "1.2.0",
            "_view_name": "StyleView",
            "description_width": ""
          }
        },
        "4a6a19dcadc5423aac0dad3ea9d0cb6f": {
          "model_module": "@jupyter-widgets/controls",
          "model_module_version": "1.5.0",
          "model_name": "HTMLModel",
          "state": {
            "_dom_classes": [],
            "_model_module": "@jupyter-widgets/controls",
            "_model_module_version": "1.5.0",
            "_model_name": "HTMLModel",
            "_view_count": null,
            "_view_module": "@jupyter-widgets/controls",
            "_view_module_version": "1.5.0",
            "_view_name": "HTMLView",
            "description": "",
            "description_tooltip": null,
            "layout": "IPY_MODEL_1c77474739674077b7aab2514749ef84",
            "placeholder": "​",
            "style": "IPY_MODEL_b594b934733549358bfcc843893fc8f3",
            "value": "Downloading (…)lve/main/config.json: 100%"
          }
        },
        "4bd5baa0b7ce4a598209e57d68427092": {
          "model_module": "@jupyter-widgets/base",
          "model_module_version": "1.2.0",
          "model_name": "LayoutModel",
          "state": {
            "_model_module": "@jupyter-widgets/base",
            "_model_module_version": "1.2.0",
            "_model_name": "LayoutModel",
            "_view_count": null,
            "_view_module": "@jupyter-widgets/base",
            "_view_module_version": "1.2.0",
            "_view_name": "LayoutView",
            "align_content": null,
            "align_items": null,
            "align_self": null,
            "border": null,
            "bottom": null,
            "display": null,
            "flex": null,
            "flex_flow": null,
            "grid_area": null,
            "grid_auto_columns": null,
            "grid_auto_flow": null,
            "grid_auto_rows": null,
            "grid_column": null,
            "grid_gap": null,
            "grid_row": null,
            "grid_template_areas": null,
            "grid_template_columns": null,
            "grid_template_rows": null,
            "height": null,
            "justify_content": null,
            "justify_items": null,
            "left": null,
            "margin": null,
            "max_height": null,
            "max_width": null,
            "min_height": null,
            "min_width": null,
            "object_fit": null,
            "object_position": null,
            "order": null,
            "overflow": null,
            "overflow_x": null,
            "overflow_y": null,
            "padding": null,
            "right": null,
            "top": null,
            "visibility": null,
            "width": null
          }
        },
        "52269c78f32d4bdca70584a31b5cc405": {
          "model_module": "@jupyter-widgets/controls",
          "model_module_version": "1.5.0",
          "model_name": "HTMLModel",
          "state": {
            "_dom_classes": [],
            "_model_module": "@jupyter-widgets/controls",
            "_model_module_version": "1.5.0",
            "_model_name": "HTMLModel",
            "_view_count": null,
            "_view_module": "@jupyter-widgets/controls",
            "_view_module_version": "1.5.0",
            "_view_name": "HTMLView",
            "description": "",
            "description_tooltip": null,
            "layout": "IPY_MODEL_dae935ab0baa4dc799dd1bc1705f0068",
            "placeholder": "​",
            "style": "IPY_MODEL_430c6491459a4fa38155a658f934958e",
            "value": " 381/381 [00:00&lt;00:00, 8.65kB/s]"
          }
        },
        "558fbbdacb03413b8daca07b46d7c58d": {
          "model_module": "@jupyter-widgets/controls",
          "model_module_version": "1.5.0",
          "model_name": "ProgressStyleModel",
          "state": {
            "_model_module": "@jupyter-widgets/controls",
            "_model_module_version": "1.5.0",
            "_model_name": "ProgressStyleModel",
            "_view_count": null,
            "_view_module": "@jupyter-widgets/base",
            "_view_module_version": "1.2.0",
            "_view_name": "StyleView",
            "bar_color": null,
            "description_width": ""
          }
        },
        "62eb59f10f694ae2ab99bac51c9daacc": {
          "model_module": "@jupyter-widgets/base",
          "model_module_version": "1.2.0",
          "model_name": "LayoutModel",
          "state": {
            "_model_module": "@jupyter-widgets/base",
            "_model_module_version": "1.2.0",
            "_model_name": "LayoutModel",
            "_view_count": null,
            "_view_module": "@jupyter-widgets/base",
            "_view_module_version": "1.2.0",
            "_view_name": "LayoutView",
            "align_content": null,
            "align_items": null,
            "align_self": null,
            "border": null,
            "bottom": null,
            "display": null,
            "flex": null,
            "flex_flow": null,
            "grid_area": null,
            "grid_auto_columns": null,
            "grid_auto_flow": null,
            "grid_auto_rows": null,
            "grid_column": null,
            "grid_gap": null,
            "grid_row": null,
            "grid_template_areas": null,
            "grid_template_columns": null,
            "grid_template_rows": null,
            "height": null,
            "justify_content": null,
            "justify_items": null,
            "left": null,
            "margin": null,
            "max_height": null,
            "max_width": null,
            "min_height": null,
            "min_width": null,
            "object_fit": null,
            "object_position": null,
            "order": null,
            "overflow": null,
            "overflow_x": null,
            "overflow_y": null,
            "padding": null,
            "right": null,
            "top": null,
            "visibility": null,
            "width": null
          }
        },
        "632a92aa07f14723849eca928c6b4c76": {
          "model_module": "@jupyter-widgets/base",
          "model_module_version": "1.2.0",
          "model_name": "LayoutModel",
          "state": {
            "_model_module": "@jupyter-widgets/base",
            "_model_module_version": "1.2.0",
            "_model_name": "LayoutModel",
            "_view_count": null,
            "_view_module": "@jupyter-widgets/base",
            "_view_module_version": "1.2.0",
            "_view_name": "LayoutView",
            "align_content": null,
            "align_items": null,
            "align_self": null,
            "border": null,
            "bottom": null,
            "display": null,
            "flex": null,
            "flex_flow": null,
            "grid_area": null,
            "grid_auto_columns": null,
            "grid_auto_flow": null,
            "grid_auto_rows": null,
            "grid_column": null,
            "grid_gap": null,
            "grid_row": null,
            "grid_template_areas": null,
            "grid_template_columns": null,
            "grid_template_rows": null,
            "height": null,
            "justify_content": null,
            "justify_items": null,
            "left": null,
            "margin": null,
            "max_height": null,
            "max_width": null,
            "min_height": null,
            "min_width": null,
            "object_fit": null,
            "object_position": null,
            "order": null,
            "overflow": null,
            "overflow_x": null,
            "overflow_y": null,
            "padding": null,
            "right": null,
            "top": null,
            "visibility": null,
            "width": null
          }
        },
        "652bd961c905425bb953018503e0a5f6": {
          "model_module": "@jupyter-widgets/controls",
          "model_module_version": "1.5.0",
          "model_name": "ProgressStyleModel",
          "state": {
            "_model_module": "@jupyter-widgets/controls",
            "_model_module_version": "1.5.0",
            "_model_name": "ProgressStyleModel",
            "_view_count": null,
            "_view_module": "@jupyter-widgets/base",
            "_view_module_version": "1.2.0",
            "_view_name": "StyleView",
            "bar_color": null,
            "description_width": ""
          }
        },
        "6a60796e612a439cb851f95aebc152bc": {
          "model_module": "@jupyter-widgets/base",
          "model_module_version": "1.2.0",
          "model_name": "LayoutModel",
          "state": {
            "_model_module": "@jupyter-widgets/base",
            "_model_module_version": "1.2.0",
            "_model_name": "LayoutModel",
            "_view_count": null,
            "_view_module": "@jupyter-widgets/base",
            "_view_module_version": "1.2.0",
            "_view_name": "LayoutView",
            "align_content": null,
            "align_items": null,
            "align_self": null,
            "border": null,
            "bottom": null,
            "display": null,
            "flex": null,
            "flex_flow": null,
            "grid_area": null,
            "grid_auto_columns": null,
            "grid_auto_flow": null,
            "grid_auto_rows": null,
            "grid_column": null,
            "grid_gap": null,
            "grid_row": null,
            "grid_template_areas": null,
            "grid_template_columns": null,
            "grid_template_rows": null,
            "height": null,
            "justify_content": null,
            "justify_items": null,
            "left": null,
            "margin": null,
            "max_height": null,
            "max_width": null,
            "min_height": null,
            "min_width": null,
            "object_fit": null,
            "object_position": null,
            "order": null,
            "overflow": null,
            "overflow_x": null,
            "overflow_y": null,
            "padding": null,
            "right": null,
            "top": null,
            "visibility": null,
            "width": null
          }
        },
        "6ff16c7771754b88ae4b403c254e4a3b": {
          "model_module": "@jupyter-widgets/controls",
          "model_module_version": "1.5.0",
          "model_name": "FloatProgressModel",
          "state": {
            "_dom_classes": [],
            "_model_module": "@jupyter-widgets/controls",
            "_model_module_version": "1.5.0",
            "_model_name": "FloatProgressModel",
            "_view_count": null,
            "_view_module": "@jupyter-widgets/controls",
            "_view_module_version": "1.5.0",
            "_view_name": "ProgressView",
            "bar_style": "success",
            "description": "",
            "description_tooltip": null,
            "layout": "IPY_MODEL_bb4da9f2df484979b156a3e059738b75",
            "max": 384,
            "min": 0,
            "orientation": "horizontal",
            "style": "IPY_MODEL_b22126c84cb64cf79e5f4ec5dc7e63c5",
            "value": 384
          }
        },
        "700d3f59f5b54ec0a935bccff5ea142c": {
          "model_module": "@jupyter-widgets/controls",
          "model_module_version": "1.5.0",
          "model_name": "ProgressStyleModel",
          "state": {
            "_model_module": "@jupyter-widgets/controls",
            "_model_module_version": "1.5.0",
            "_model_name": "ProgressStyleModel",
            "_view_count": null,
            "_view_module": "@jupyter-widgets/base",
            "_view_module_version": "1.2.0",
            "_view_name": "StyleView",
            "bar_color": null,
            "description_width": ""
          }
        },
        "74c774ed8b5d400daa43fda6c9388819": {
          "model_module": "@jupyter-widgets/controls",
          "model_module_version": "1.5.0",
          "model_name": "DescriptionStyleModel",
          "state": {
            "_model_module": "@jupyter-widgets/controls",
            "_model_module_version": "1.5.0",
            "_model_name": "DescriptionStyleModel",
            "_view_count": null,
            "_view_module": "@jupyter-widgets/base",
            "_view_module_version": "1.2.0",
            "_view_name": "StyleView",
            "description_width": ""
          }
        },
        "86c2572e52e046b386aa5af89abd3dfb": {
          "model_module": "@jupyter-widgets/controls",
          "model_module_version": "1.5.0",
          "model_name": "DescriptionStyleModel",
          "state": {
            "_model_module": "@jupyter-widgets/controls",
            "_model_module_version": "1.5.0",
            "_model_name": "DescriptionStyleModel",
            "_view_count": null,
            "_view_module": "@jupyter-widgets/base",
            "_view_module_version": "1.2.0",
            "_view_name": "StyleView",
            "description_width": ""
          }
        },
        "89426ab7f40a44eea28529d889003fdb": {
          "model_module": "@jupyter-widgets/controls",
          "model_module_version": "1.5.0",
          "model_name": "FloatProgressModel",
          "state": {
            "_dom_classes": [],
            "_model_module": "@jupyter-widgets/controls",
            "_model_module_version": "1.5.0",
            "_model_name": "FloatProgressModel",
            "_view_count": null,
            "_view_module": "@jupyter-widgets/controls",
            "_view_module_version": "1.5.0",
            "_view_name": "ProgressView",
            "bar_style": "success",
            "description": "",
            "description_tooltip": null,
            "layout": "IPY_MODEL_aaa99133e60e43c989de90d84bbf1597",
            "max": 741883760,
            "min": 0,
            "orientation": "horizontal",
            "style": "IPY_MODEL_d0c697eb0f654ab2b2c608050594317d",
            "value": 741883760
          }
        },
        "8a8d14e1f473493b97aa2c39556feb76": {
          "model_module": "@jupyter-widgets/base",
          "model_module_version": "1.2.0",
          "model_name": "LayoutModel",
          "state": {
            "_model_module": "@jupyter-widgets/base",
            "_model_module_version": "1.2.0",
            "_model_name": "LayoutModel",
            "_view_count": null,
            "_view_module": "@jupyter-widgets/base",
            "_view_module_version": "1.2.0",
            "_view_name": "LayoutView",
            "align_content": null,
            "align_items": null,
            "align_self": null,
            "border": null,
            "bottom": null,
            "display": null,
            "flex": null,
            "flex_flow": null,
            "grid_area": null,
            "grid_auto_columns": null,
            "grid_auto_flow": null,
            "grid_auto_rows": null,
            "grid_column": null,
            "grid_gap": null,
            "grid_row": null,
            "grid_template_areas": null,
            "grid_template_columns": null,
            "grid_template_rows": null,
            "height": null,
            "justify_content": null,
            "justify_items": null,
            "left": null,
            "margin": null,
            "max_height": null,
            "max_width": null,
            "min_height": null,
            "min_width": null,
            "object_fit": null,
            "object_position": null,
            "order": null,
            "overflow": null,
            "overflow_x": null,
            "overflow_y": null,
            "padding": null,
            "right": null,
            "top": null,
            "visibility": null,
            "width": null
          }
        },
        "8e4ff6fda88345f5a575d559ffafb1bf": {
          "model_module": "@jupyter-widgets/controls",
          "model_module_version": "1.5.0",
          "model_name": "DescriptionStyleModel",
          "state": {
            "_model_module": "@jupyter-widgets/controls",
            "_model_module_version": "1.5.0",
            "_model_name": "DescriptionStyleModel",
            "_view_count": null,
            "_view_module": "@jupyter-widgets/base",
            "_view_module_version": "1.2.0",
            "_view_name": "StyleView",
            "description_width": ""
          }
        },
        "92eba4574f944d5fabff0b2fd76259a0": {
          "model_module": "@jupyter-widgets/base",
          "model_module_version": "1.2.0",
          "model_name": "LayoutModel",
          "state": {
            "_model_module": "@jupyter-widgets/base",
            "_model_module_version": "1.2.0",
            "_model_name": "LayoutModel",
            "_view_count": null,
            "_view_module": "@jupyter-widgets/base",
            "_view_module_version": "1.2.0",
            "_view_name": "LayoutView",
            "align_content": null,
            "align_items": null,
            "align_self": null,
            "border": null,
            "bottom": null,
            "display": null,
            "flex": null,
            "flex_flow": null,
            "grid_area": null,
            "grid_auto_columns": null,
            "grid_auto_flow": null,
            "grid_auto_rows": null,
            "grid_column": null,
            "grid_gap": null,
            "grid_row": null,
            "grid_template_areas": null,
            "grid_template_columns": null,
            "grid_template_rows": null,
            "height": null,
            "justify_content": null,
            "justify_items": null,
            "left": null,
            "margin": null,
            "max_height": null,
            "max_width": null,
            "min_height": null,
            "min_width": null,
            "object_fit": null,
            "object_position": null,
            "order": null,
            "overflow": null,
            "overflow_x": null,
            "overflow_y": null,
            "padding": null,
            "right": null,
            "top": null,
            "visibility": null,
            "width": null
          }
        },
        "9e28074b18404b5d9fd7d5e6f4f102c0": {
          "model_module": "@jupyter-widgets/base",
          "model_module_version": "1.2.0",
          "model_name": "LayoutModel",
          "state": {
            "_model_module": "@jupyter-widgets/base",
            "_model_module_version": "1.2.0",
            "_model_name": "LayoutModel",
            "_view_count": null,
            "_view_module": "@jupyter-widgets/base",
            "_view_module_version": "1.2.0",
            "_view_name": "LayoutView",
            "align_content": null,
            "align_items": null,
            "align_self": null,
            "border": null,
            "bottom": null,
            "display": null,
            "flex": null,
            "flex_flow": null,
            "grid_area": null,
            "grid_auto_columns": null,
            "grid_auto_flow": null,
            "grid_auto_rows": null,
            "grid_column": null,
            "grid_gap": null,
            "grid_row": null,
            "grid_template_areas": null,
            "grid_template_columns": null,
            "grid_template_rows": null,
            "height": null,
            "justify_content": null,
            "justify_items": null,
            "left": null,
            "margin": null,
            "max_height": null,
            "max_width": null,
            "min_height": null,
            "min_width": null,
            "object_fit": null,
            "object_position": null,
            "order": null,
            "overflow": null,
            "overflow_x": null,
            "overflow_y": null,
            "padding": null,
            "right": null,
            "top": null,
            "visibility": null,
            "width": null
          }
        },
        "a65c18954ba64fbd8133ec7a53125019": {
          "model_module": "@jupyter-widgets/controls",
          "model_module_version": "1.5.0",
          "model_name": "DescriptionStyleModel",
          "state": {
            "_model_module": "@jupyter-widgets/controls",
            "_model_module_version": "1.5.0",
            "_model_name": "DescriptionStyleModel",
            "_view_count": null,
            "_view_module": "@jupyter-widgets/base",
            "_view_module_version": "1.2.0",
            "_view_name": "StyleView",
            "description_width": ""
          }
        },
        "aaa99133e60e43c989de90d84bbf1597": {
          "model_module": "@jupyter-widgets/base",
          "model_module_version": "1.2.0",
          "model_name": "LayoutModel",
          "state": {
            "_model_module": "@jupyter-widgets/base",
            "_model_module_version": "1.2.0",
            "_model_name": "LayoutModel",
            "_view_count": null,
            "_view_module": "@jupyter-widgets/base",
            "_view_module_version": "1.2.0",
            "_view_name": "LayoutView",
            "align_content": null,
            "align_items": null,
            "align_self": null,
            "border": null,
            "bottom": null,
            "display": null,
            "flex": null,
            "flex_flow": null,
            "grid_area": null,
            "grid_auto_columns": null,
            "grid_auto_flow": null,
            "grid_auto_rows": null,
            "grid_column": null,
            "grid_gap": null,
            "grid_row": null,
            "grid_template_areas": null,
            "grid_template_columns": null,
            "grid_template_rows": null,
            "height": null,
            "justify_content": null,
            "justify_items": null,
            "left": null,
            "margin": null,
            "max_height": null,
            "max_width": null,
            "min_height": null,
            "min_width": null,
            "object_fit": null,
            "object_position": null,
            "order": null,
            "overflow": null,
            "overflow_x": null,
            "overflow_y": null,
            "padding": null,
            "right": null,
            "top": null,
            "visibility": null,
            "width": null
          }
        },
        "ab6e9432fe674ed8b9affd77d4bd47fc": {
          "model_module": "@jupyter-widgets/controls",
          "model_module_version": "1.5.0",
          "model_name": "DescriptionStyleModel",
          "state": {
            "_model_module": "@jupyter-widgets/controls",
            "_model_module_version": "1.5.0",
            "_model_name": "DescriptionStyleModel",
            "_view_count": null,
            "_view_module": "@jupyter-widgets/base",
            "_view_module_version": "1.2.0",
            "_view_name": "StyleView",
            "description_width": ""
          }
        },
        "acb9e14e945e4484b31a336e6806e548": {
          "model_module": "@jupyter-widgets/base",
          "model_module_version": "1.2.0",
          "model_name": "LayoutModel",
          "state": {
            "_model_module": "@jupyter-widgets/base",
            "_model_module_version": "1.2.0",
            "_model_name": "LayoutModel",
            "_view_count": null,
            "_view_module": "@jupyter-widgets/base",
            "_view_module_version": "1.2.0",
            "_view_name": "LayoutView",
            "align_content": null,
            "align_items": null,
            "align_self": null,
            "border": null,
            "bottom": null,
            "display": null,
            "flex": null,
            "flex_flow": null,
            "grid_area": null,
            "grid_auto_columns": null,
            "grid_auto_flow": null,
            "grid_auto_rows": null,
            "grid_column": null,
            "grid_gap": null,
            "grid_row": null,
            "grid_template_areas": null,
            "grid_template_columns": null,
            "grid_template_rows": null,
            "height": null,
            "justify_content": null,
            "justify_items": null,
            "left": null,
            "margin": null,
            "max_height": null,
            "max_width": null,
            "min_height": null,
            "min_width": null,
            "object_fit": null,
            "object_position": null,
            "order": null,
            "overflow": null,
            "overflow_x": null,
            "overflow_y": null,
            "padding": null,
            "right": null,
            "top": null,
            "visibility": null,
            "width": null
          }
        },
        "ad7372b988b3445c9bfc63cca108a727": {
          "model_module": "@jupyter-widgets/controls",
          "model_module_version": "1.5.0",
          "model_name": "HTMLModel",
          "state": {
            "_dom_classes": [],
            "_model_module": "@jupyter-widgets/controls",
            "_model_module_version": "1.5.0",
            "_model_name": "HTMLModel",
            "_view_count": null,
            "_view_module": "@jupyter-widgets/controls",
            "_view_module_version": "1.5.0",
            "_view_name": "HTMLView",
            "description": "",
            "description_tooltip": null,
            "layout": "IPY_MODEL_cc709d7d6b5c4ecabf9abde909de6b20",
            "placeholder": "​",
            "style": "IPY_MODEL_74c774ed8b5d400daa43fda6c9388819",
            "value": " 2.64M/2.64M [00:00&lt;00:00, 8.08MB/s]"
          }
        },
        "aff7618a55f54d49a7f1962023da3e19": {
          "model_module": "@jupyter-widgets/controls",
          "model_module_version": "1.5.0",
          "model_name": "HBoxModel",
          "state": {
            "_dom_classes": [],
            "_model_module": "@jupyter-widgets/controls",
            "_model_module_version": "1.5.0",
            "_model_name": "HBoxModel",
            "_view_count": null,
            "_view_module": "@jupyter-widgets/controls",
            "_view_module_version": "1.5.0",
            "_view_name": "HBoxView",
            "box_style": "",
            "children": [
              "IPY_MODEL_e688ca50d2424483838a03bc2f188adf",
              "IPY_MODEL_f3aba6945a314993a09fc054fbf25563",
              "IPY_MODEL_52269c78f32d4bdca70584a31b5cc405"
            ],
            "layout": "IPY_MODEL_62eb59f10f694ae2ab99bac51c9daacc"
          }
        },
        "b22126c84cb64cf79e5f4ec5dc7e63c5": {
          "model_module": "@jupyter-widgets/controls",
          "model_module_version": "1.5.0",
          "model_name": "ProgressStyleModel",
          "state": {
            "_model_module": "@jupyter-widgets/controls",
            "_model_module_version": "1.5.0",
            "_model_name": "ProgressStyleModel",
            "_view_count": null,
            "_view_module": "@jupyter-widgets/base",
            "_view_module_version": "1.2.0",
            "_view_name": "StyleView",
            "bar_color": null,
            "description_width": ""
          }
        },
        "b34de247cb114a4190f676667d82d569": {
          "model_module": "@jupyter-widgets/base",
          "model_module_version": "1.2.0",
          "model_name": "LayoutModel",
          "state": {
            "_model_module": "@jupyter-widgets/base",
            "_model_module_version": "1.2.0",
            "_model_name": "LayoutModel",
            "_view_count": null,
            "_view_module": "@jupyter-widgets/base",
            "_view_module_version": "1.2.0",
            "_view_name": "LayoutView",
            "align_content": null,
            "align_items": null,
            "align_self": null,
            "border": null,
            "bottom": null,
            "display": null,
            "flex": null,
            "flex_flow": null,
            "grid_area": null,
            "grid_auto_columns": null,
            "grid_auto_flow": null,
            "grid_auto_rows": null,
            "grid_column": null,
            "grid_gap": null,
            "grid_row": null,
            "grid_template_areas": null,
            "grid_template_columns": null,
            "grid_template_rows": null,
            "height": null,
            "justify_content": null,
            "justify_items": null,
            "left": null,
            "margin": null,
            "max_height": null,
            "max_width": null,
            "min_height": null,
            "min_width": null,
            "object_fit": null,
            "object_position": null,
            "order": null,
            "overflow": null,
            "overflow_x": null,
            "overflow_y": null,
            "padding": null,
            "right": null,
            "top": null,
            "visibility": null,
            "width": null
          }
        },
        "b594b934733549358bfcc843893fc8f3": {
          "model_module": "@jupyter-widgets/controls",
          "model_module_version": "1.5.0",
          "model_name": "DescriptionStyleModel",
          "state": {
            "_model_module": "@jupyter-widgets/controls",
            "_model_module_version": "1.5.0",
            "_model_name": "DescriptionStyleModel",
            "_view_count": null,
            "_view_module": "@jupyter-widgets/base",
            "_view_module_version": "1.2.0",
            "_view_name": "StyleView",
            "description_width": ""
          }
        },
        "b6c7438bba304804923c4ec5ec513de4": {
          "model_module": "@jupyter-widgets/controls",
          "model_module_version": "1.5.0",
          "model_name": "HTMLModel",
          "state": {
            "_dom_classes": [],
            "_model_module": "@jupyter-widgets/controls",
            "_model_module_version": "1.5.0",
            "_model_name": "HTMLModel",
            "_view_count": null,
            "_view_module": "@jupyter-widgets/controls",
            "_view_module_version": "1.5.0",
            "_view_name": "HTMLView",
            "description": "",
            "description_tooltip": null,
            "layout": "IPY_MODEL_92eba4574f944d5fabff0b2fd76259a0",
            "placeholder": "​",
            "style": "IPY_MODEL_0364337923894d668c9536a19822c9a7",
            "value": " 825k/825k [00:00&lt;00:00, 3.21MB/s]"
          }
        },
        "b84a63b862d1422c878fdff828747f2e": {
          "model_module": "@jupyter-widgets/controls",
          "model_module_version": "1.5.0",
          "model_name": "FloatProgressModel",
          "state": {
            "_dom_classes": [],
            "_model_module": "@jupyter-widgets/controls",
            "_model_module_version": "1.5.0",
            "_model_name": "FloatProgressModel",
            "_view_count": null,
            "_view_module": "@jupyter-widgets/controls",
            "_view_module_version": "1.5.0",
            "_view_name": "ProgressView",
            "bar_style": "success",
            "description": "",
            "description_tooltip": null,
            "layout": "IPY_MODEL_9e28074b18404b5d9fd7d5e6f4f102c0",
            "max": 2642362,
            "min": 0,
            "orientation": "horizontal",
            "style": "IPY_MODEL_558fbbdacb03413b8daca07b46d7c58d",
            "value": 2642362
          }
        },
        "b89c3056a8a94f02bae900cd9bb8161b": {
          "model_module": "@jupyter-widgets/base",
          "model_module_version": "1.2.0",
          "model_name": "LayoutModel",
          "state": {
            "_model_module": "@jupyter-widgets/base",
            "_model_module_version": "1.2.0",
            "_model_name": "LayoutModel",
            "_view_count": null,
            "_view_module": "@jupyter-widgets/base",
            "_view_module_version": "1.2.0",
            "_view_name": "LayoutView",
            "align_content": null,
            "align_items": null,
            "align_self": null,
            "border": null,
            "bottom": null,
            "display": null,
            "flex": null,
            "flex_flow": null,
            "grid_area": null,
            "grid_auto_columns": null,
            "grid_auto_flow": null,
            "grid_auto_rows": null,
            "grid_column": null,
            "grid_gap": null,
            "grid_row": null,
            "grid_template_areas": null,
            "grid_template_columns": null,
            "grid_template_rows": null,
            "height": null,
            "justify_content": null,
            "justify_items": null,
            "left": null,
            "margin": null,
            "max_height": null,
            "max_width": null,
            "min_height": null,
            "min_width": null,
            "object_fit": null,
            "object_position": null,
            "order": null,
            "overflow": null,
            "overflow_x": null,
            "overflow_y": null,
            "padding": null,
            "right": null,
            "top": null,
            "visibility": null,
            "width": null
          }
        },
        "b91985b9aa11471ab996be53ffa751af": {
          "model_module": "@jupyter-widgets/controls",
          "model_module_version": "1.5.0",
          "model_name": "HBoxModel",
          "state": {
            "_dom_classes": [],
            "_model_module": "@jupyter-widgets/controls",
            "_model_module_version": "1.5.0",
            "_model_name": "HBoxModel",
            "_view_count": null,
            "_view_module": "@jupyter-widgets/controls",
            "_view_module_version": "1.5.0",
            "_view_name": "HBoxView",
            "box_style": "",
            "children": [
              "IPY_MODEL_d4aba3d0483c450888f50092d23c2f63",
              "IPY_MODEL_ce4a0b6ebd3948f9bd7a8783faeb620b",
              "IPY_MODEL_c6c76b9961c44131bf9cb1431537e59e"
            ],
            "layout": "IPY_MODEL_38befb24c4664a158e07119dff02bb9e"
          }
        },
        "bb4da9f2df484979b156a3e059738b75": {
          "model_module": "@jupyter-widgets/base",
          "model_module_version": "1.2.0",
          "model_name": "LayoutModel",
          "state": {
            "_model_module": "@jupyter-widgets/base",
            "_model_module_version": "1.2.0",
            "_model_name": "LayoutModel",
            "_view_count": null,
            "_view_module": "@jupyter-widgets/base",
            "_view_module_version": "1.2.0",
            "_view_name": "LayoutView",
            "align_content": null,
            "align_items": null,
            "align_self": null,
            "border": null,
            "bottom": null,
            "display": null,
            "flex": null,
            "flex_flow": null,
            "grid_area": null,
            "grid_auto_columns": null,
            "grid_auto_flow": null,
            "grid_auto_rows": null,
            "grid_column": null,
            "grid_gap": null,
            "grid_row": null,
            "grid_template_areas": null,
            "grid_template_columns": null,
            "grid_template_rows": null,
            "height": null,
            "justify_content": null,
            "justify_items": null,
            "left": null,
            "margin": null,
            "max_height": null,
            "max_width": null,
            "min_height": null,
            "min_width": null,
            "object_fit": null,
            "object_position": null,
            "order": null,
            "overflow": null,
            "overflow_x": null,
            "overflow_y": null,
            "padding": null,
            "right": null,
            "top": null,
            "visibility": null,
            "width": null
          }
        },
        "bfa46da5d171491699c0fa6ae83bc8c7": {
          "model_module": "@jupyter-widgets/controls",
          "model_module_version": "1.5.0",
          "model_name": "DescriptionStyleModel",
          "state": {
            "_model_module": "@jupyter-widgets/controls",
            "_model_module_version": "1.5.0",
            "_model_name": "DescriptionStyleModel",
            "_view_count": null,
            "_view_module": "@jupyter-widgets/base",
            "_view_module_version": "1.2.0",
            "_view_name": "StyleView",
            "description_width": ""
          }
        },
        "bfa5ef8658314d2aadcba114e8d5c978": {
          "model_module": "@jupyter-widgets/base",
          "model_module_version": "1.2.0",
          "model_name": "LayoutModel",
          "state": {
            "_model_module": "@jupyter-widgets/base",
            "_model_module_version": "1.2.0",
            "_model_name": "LayoutModel",
            "_view_count": null,
            "_view_module": "@jupyter-widgets/base",
            "_view_module_version": "1.2.0",
            "_view_name": "LayoutView",
            "align_content": null,
            "align_items": null,
            "align_self": null,
            "border": null,
            "bottom": null,
            "display": null,
            "flex": null,
            "flex_flow": null,
            "grid_area": null,
            "grid_auto_columns": null,
            "grid_auto_flow": null,
            "grid_auto_rows": null,
            "grid_column": null,
            "grid_gap": null,
            "grid_row": null,
            "grid_template_areas": null,
            "grid_template_columns": null,
            "grid_template_rows": null,
            "height": null,
            "justify_content": null,
            "justify_items": null,
            "left": null,
            "margin": null,
            "max_height": null,
            "max_width": null,
            "min_height": null,
            "min_width": null,
            "object_fit": null,
            "object_position": null,
            "order": null,
            "overflow": null,
            "overflow_x": null,
            "overflow_y": null,
            "padding": null,
            "right": null,
            "top": null,
            "visibility": null,
            "width": null
          }
        },
        "bfb87358efce469581513697ccabf0d8": {
          "model_module": "@jupyter-widgets/controls",
          "model_module_version": "1.5.0",
          "model_name": "HBoxModel",
          "state": {
            "_dom_classes": [],
            "_model_module": "@jupyter-widgets/controls",
            "_model_module_version": "1.5.0",
            "_model_name": "HBoxModel",
            "_view_count": null,
            "_view_module": "@jupyter-widgets/controls",
            "_view_module_version": "1.5.0",
            "_view_name": "HBoxView",
            "box_style": "",
            "children": [
              "IPY_MODEL_4a6a19dcadc5423aac0dad3ea9d0cb6f",
              "IPY_MODEL_6ff16c7771754b88ae4b403c254e4a3b",
              "IPY_MODEL_1ed8346eeab3443086a52b1e3bbabe78"
            ],
            "layout": "IPY_MODEL_10f732dbbec64144a2f87ceec6ef4c22"
          }
        },
        "c35691cbaabb42ff889e84079f4b8914": {
          "model_module": "@jupyter-widgets/base",
          "model_module_version": "1.2.0",
          "model_name": "LayoutModel",
          "state": {
            "_model_module": "@jupyter-widgets/base",
            "_model_module_version": "1.2.0",
            "_model_name": "LayoutModel",
            "_view_count": null,
            "_view_module": "@jupyter-widgets/base",
            "_view_module_version": "1.2.0",
            "_view_name": "LayoutView",
            "align_content": null,
            "align_items": null,
            "align_self": null,
            "border": null,
            "bottom": null,
            "display": null,
            "flex": null,
            "flex_flow": null,
            "grid_area": null,
            "grid_auto_columns": null,
            "grid_auto_flow": null,
            "grid_auto_rows": null,
            "grid_column": null,
            "grid_gap": null,
            "grid_row": null,
            "grid_template_areas": null,
            "grid_template_columns": null,
            "grid_template_rows": null,
            "height": null,
            "justify_content": null,
            "justify_items": null,
            "left": null,
            "margin": null,
            "max_height": null,
            "max_width": null,
            "min_height": null,
            "min_width": null,
            "object_fit": null,
            "object_position": null,
            "order": null,
            "overflow": null,
            "overflow_x": null,
            "overflow_y": null,
            "padding": null,
            "right": null,
            "top": null,
            "visibility": null,
            "width": null
          }
        },
        "c6c76b9961c44131bf9cb1431537e59e": {
          "model_module": "@jupyter-widgets/controls",
          "model_module_version": "1.5.0",
          "model_name": "HTMLModel",
          "state": {
            "_dom_classes": [],
            "_model_module": "@jupyter-widgets/controls",
            "_model_module_version": "1.5.0",
            "_model_name": "HTMLModel",
            "_view_count": null,
            "_view_module": "@jupyter-widgets/controls",
            "_view_module_version": "1.5.0",
            "_view_name": "HTMLView",
            "description": "",
            "description_tooltip": null,
            "layout": "IPY_MODEL_acb9e14e945e4484b31a336e6806e548",
            "placeholder": "​",
            "style": "IPY_MODEL_faac96f4ed534f419c1892b3b0db6e30",
            "value": " 112/112 [00:00&lt;00:00, 1.50kB/s]"
          }
        },
        "cc709d7d6b5c4ecabf9abde909de6b20": {
          "model_module": "@jupyter-widgets/base",
          "model_module_version": "1.2.0",
          "model_name": "LayoutModel",
          "state": {
            "_model_module": "@jupyter-widgets/base",
            "_model_module_version": "1.2.0",
            "_model_name": "LayoutModel",
            "_view_count": null,
            "_view_module": "@jupyter-widgets/base",
            "_view_module_version": "1.2.0",
            "_view_name": "LayoutView",
            "align_content": null,
            "align_items": null,
            "align_self": null,
            "border": null,
            "bottom": null,
            "display": null,
            "flex": null,
            "flex_flow": null,
            "grid_area": null,
            "grid_auto_columns": null,
            "grid_auto_flow": null,
            "grid_auto_rows": null,
            "grid_column": null,
            "grid_gap": null,
            "grid_row": null,
            "grid_template_areas": null,
            "grid_template_columns": null,
            "grid_template_rows": null,
            "height": null,
            "justify_content": null,
            "justify_items": null,
            "left": null,
            "margin": null,
            "max_height": null,
            "max_width": null,
            "min_height": null,
            "min_width": null,
            "object_fit": null,
            "object_position": null,
            "order": null,
            "overflow": null,
            "overflow_x": null,
            "overflow_y": null,
            "padding": null,
            "right": null,
            "top": null,
            "visibility": null,
            "width": null
          }
        },
        "ce4a0b6ebd3948f9bd7a8783faeb620b": {
          "model_module": "@jupyter-widgets/controls",
          "model_module_version": "1.5.0",
          "model_name": "FloatProgressModel",
          "state": {
            "_dom_classes": [],
            "_model_module": "@jupyter-widgets/controls",
            "_model_module_version": "1.5.0",
            "_model_name": "FloatProgressModel",
            "_view_count": null,
            "_view_module": "@jupyter-widgets/controls",
            "_view_module_version": "1.5.0",
            "_view_name": "ProgressView",
            "bar_style": "success",
            "description": "",
            "description_tooltip": null,
            "layout": "IPY_MODEL_6a60796e612a439cb851f95aebc152bc",
            "max": 112,
            "min": 0,
            "orientation": "horizontal",
            "style": "IPY_MODEL_0dfcde67b0144a1c85a8ec962e7beef0",
            "value": 112
          }
        },
        "d0c697eb0f654ab2b2c608050594317d": {
          "model_module": "@jupyter-widgets/controls",
          "model_module_version": "1.5.0",
          "model_name": "ProgressStyleModel",
          "state": {
            "_model_module": "@jupyter-widgets/controls",
            "_model_module_version": "1.5.0",
            "_model_name": "ProgressStyleModel",
            "_view_count": null,
            "_view_module": "@jupyter-widgets/base",
            "_view_module_version": "1.2.0",
            "_view_name": "StyleView",
            "bar_color": null,
            "description_width": ""
          }
        },
        "d41c00729b4b42b9a0e079555eb2042e": {
          "model_module": "@jupyter-widgets/controls",
          "model_module_version": "1.5.0",
          "model_name": "DescriptionStyleModel",
          "state": {
            "_model_module": "@jupyter-widgets/controls",
            "_model_module_version": "1.5.0",
            "_model_name": "DescriptionStyleModel",
            "_view_count": null,
            "_view_module": "@jupyter-widgets/base",
            "_view_module_version": "1.2.0",
            "_view_name": "StyleView",
            "description_width": ""
          }
        },
        "d4aba3d0483c450888f50092d23c2f63": {
          "model_module": "@jupyter-widgets/controls",
          "model_module_version": "1.5.0",
          "model_name": "HTMLModel",
          "state": {
            "_dom_classes": [],
            "_model_module": "@jupyter-widgets/controls",
            "_model_module_version": "1.5.0",
            "_model_name": "HTMLModel",
            "_view_count": null,
            "_view_module": "@jupyter-widgets/controls",
            "_view_module_version": "1.5.0",
            "_view_name": "HTMLView",
            "description": "",
            "description_tooltip": null,
            "layout": "IPY_MODEL_ef13926395ff4eb1bf99bfb0349f23bf",
            "placeholder": "​",
            "style": "IPY_MODEL_bfa46da5d171491699c0fa6ae83bc8c7",
            "value": "Downloading (…)cial_tokens_map.json: 100%"
          }
        },
        "dae935ab0baa4dc799dd1bc1705f0068": {
          "model_module": "@jupyter-widgets/base",
          "model_module_version": "1.2.0",
          "model_name": "LayoutModel",
          "state": {
            "_model_module": "@jupyter-widgets/base",
            "_model_module_version": "1.2.0",
            "_model_name": "LayoutModel",
            "_view_count": null,
            "_view_module": "@jupyter-widgets/base",
            "_view_module_version": "1.2.0",
            "_view_name": "LayoutView",
            "align_content": null,
            "align_items": null,
            "align_self": null,
            "border": null,
            "bottom": null,
            "display": null,
            "flex": null,
            "flex_flow": null,
            "grid_area": null,
            "grid_auto_columns": null,
            "grid_auto_flow": null,
            "grid_auto_rows": null,
            "grid_column": null,
            "grid_gap": null,
            "grid_row": null,
            "grid_template_areas": null,
            "grid_template_columns": null,
            "grid_template_rows": null,
            "height": null,
            "justify_content": null,
            "justify_items": null,
            "left": null,
            "margin": null,
            "max_height": null,
            "max_width": null,
            "min_height": null,
            "min_width": null,
            "object_fit": null,
            "object_position": null,
            "order": null,
            "overflow": null,
            "overflow_x": null,
            "overflow_y": null,
            "padding": null,
            "right": null,
            "top": null,
            "visibility": null,
            "width": null
          }
        },
        "e688ca50d2424483838a03bc2f188adf": {
          "model_module": "@jupyter-widgets/controls",
          "model_module_version": "1.5.0",
          "model_name": "HTMLModel",
          "state": {
            "_dom_classes": [],
            "_model_module": "@jupyter-widgets/controls",
            "_model_module_version": "1.5.0",
            "_model_name": "HTMLModel",
            "_view_count": null,
            "_view_module": "@jupyter-widgets/controls",
            "_view_module_version": "1.5.0",
            "_view_name": "HTMLView",
            "description": "",
            "description_tooltip": null,
            "layout": "IPY_MODEL_4bd5baa0b7ce4a598209e57d68427092",
            "placeholder": "​",
            "style": "IPY_MODEL_ab6e9432fe674ed8b9affd77d4bd47fc",
            "value": "Downloading (…)okenizer_config.json: 100%"
          }
        },
        "ebbf8d402da0442e8ba8314291569d83": {
          "model_module": "@jupyter-widgets/controls",
          "model_module_version": "1.5.0",
          "model_name": "HBoxModel",
          "state": {
            "_dom_classes": [],
            "_model_module": "@jupyter-widgets/controls",
            "_model_module_version": "1.5.0",
            "_model_name": "HBoxModel",
            "_view_count": null,
            "_view_module": "@jupyter-widgets/controls",
            "_view_module_version": "1.5.0",
            "_view_name": "HBoxView",
            "box_style": "",
            "children": [
              "IPY_MODEL_1a178ccda6fb4cc39d99d6a507abfb8e",
              "IPY_MODEL_1738f3ce44fd44fcb956dfebe7b4271c",
              "IPY_MODEL_b6c7438bba304804923c4ec5ec513de4"
            ],
            "layout": "IPY_MODEL_04a120275c7f445b847ba4af40e56da8"
          }
        },
        "ef13926395ff4eb1bf99bfb0349f23bf": {
          "model_module": "@jupyter-widgets/base",
          "model_module_version": "1.2.0",
          "model_name": "LayoutModel",
          "state": {
            "_model_module": "@jupyter-widgets/base",
            "_model_module_version": "1.2.0",
            "_model_name": "LayoutModel",
            "_view_count": null,
            "_view_module": "@jupyter-widgets/base",
            "_view_module_version": "1.2.0",
            "_view_name": "LayoutView",
            "align_content": null,
            "align_items": null,
            "align_self": null,
            "border": null,
            "bottom": null,
            "display": null,
            "flex": null,
            "flex_flow": null,
            "grid_area": null,
            "grid_auto_columns": null,
            "grid_auto_flow": null,
            "grid_auto_rows": null,
            "grid_column": null,
            "grid_gap": null,
            "grid_row": null,
            "grid_template_areas": null,
            "grid_template_columns": null,
            "grid_template_rows": null,
            "height": null,
            "justify_content": null,
            "justify_items": null,
            "left": null,
            "margin": null,
            "max_height": null,
            "max_width": null,
            "min_height": null,
            "min_width": null,
            "object_fit": null,
            "object_position": null,
            "order": null,
            "overflow": null,
            "overflow_x": null,
            "overflow_y": null,
            "padding": null,
            "right": null,
            "top": null,
            "visibility": null,
            "width": null
          }
        },
        "ef2af6678eb64c27b5b962189bf98706": {
          "model_module": "@jupyter-widgets/base",
          "model_module_version": "1.2.0",
          "model_name": "LayoutModel",
          "state": {
            "_model_module": "@jupyter-widgets/base",
            "_model_module_version": "1.2.0",
            "_model_name": "LayoutModel",
            "_view_count": null,
            "_view_module": "@jupyter-widgets/base",
            "_view_module_version": "1.2.0",
            "_view_name": "LayoutView",
            "align_content": null,
            "align_items": null,
            "align_self": null,
            "border": null,
            "bottom": null,
            "display": null,
            "flex": null,
            "flex_flow": null,
            "grid_area": null,
            "grid_auto_columns": null,
            "grid_auto_flow": null,
            "grid_auto_rows": null,
            "grid_column": null,
            "grid_gap": null,
            "grid_row": null,
            "grid_template_areas": null,
            "grid_template_columns": null,
            "grid_template_rows": null,
            "height": null,
            "justify_content": null,
            "justify_items": null,
            "left": null,
            "margin": null,
            "max_height": null,
            "max_width": null,
            "min_height": null,
            "min_width": null,
            "object_fit": null,
            "object_position": null,
            "order": null,
            "overflow": null,
            "overflow_x": null,
            "overflow_y": null,
            "padding": null,
            "right": null,
            "top": null,
            "visibility": null,
            "width": null
          }
        },
        "f3aba6945a314993a09fc054fbf25563": {
          "model_module": "@jupyter-widgets/controls",
          "model_module_version": "1.5.0",
          "model_name": "FloatProgressModel",
          "state": {
            "_dom_classes": [],
            "_model_module": "@jupyter-widgets/controls",
            "_model_module_version": "1.5.0",
            "_model_name": "FloatProgressModel",
            "_view_count": null,
            "_view_module": "@jupyter-widgets/controls",
            "_view_module_version": "1.5.0",
            "_view_name": "ProgressView",
            "bar_style": "success",
            "description": "",
            "description_tooltip": null,
            "layout": "IPY_MODEL_b89c3056a8a94f02bae900cd9bb8161b",
            "max": 381,
            "min": 0,
            "orientation": "horizontal",
            "style": "IPY_MODEL_652bd961c905425bb953018503e0a5f6",
            "value": 381
          }
        },
        "faac96f4ed534f419c1892b3b0db6e30": {
          "model_module": "@jupyter-widgets/controls",
          "model_module_version": "1.5.0",
          "model_name": "DescriptionStyleModel",
          "state": {
            "_model_module": "@jupyter-widgets/controls",
            "_model_module_version": "1.5.0",
            "_model_name": "DescriptionStyleModel",
            "_view_count": null,
            "_view_module": "@jupyter-widgets/base",
            "_view_module_version": "1.2.0",
            "_view_name": "StyleView",
            "description_width": ""
          }
        },
        "03cb38bfcf37435f8a7d19dd18ed92a5": {
          "model_module": "@jupyter-widgets/controls",
          "model_name": "HBoxModel",
          "model_module_version": "1.5.0",
          "state": {
            "_dom_classes": [],
            "_model_module": "@jupyter-widgets/controls",
            "_model_module_version": "1.5.0",
            "_model_name": "HBoxModel",
            "_view_count": null,
            "_view_module": "@jupyter-widgets/controls",
            "_view_module_version": "1.5.0",
            "_view_name": "HBoxView",
            "box_style": "",
            "children": [
              "IPY_MODEL_7a869e6b623d4fc68212143444ad5e2c",
              "IPY_MODEL_2040407a67914391a1f376af5fa4762f",
              "IPY_MODEL_0c9ec143c9214a42ad62377a772fc4db"
            ],
            "layout": "IPY_MODEL_35ade6b5bcf34c31a59b14d6476d29fc"
          }
        },
        "7a869e6b623d4fc68212143444ad5e2c": {
          "model_module": "@jupyter-widgets/controls",
          "model_name": "HTMLModel",
          "model_module_version": "1.5.0",
          "state": {
            "_dom_classes": [],
            "_model_module": "@jupyter-widgets/controls",
            "_model_module_version": "1.5.0",
            "_model_name": "HTMLModel",
            "_view_count": null,
            "_view_module": "@jupyter-widgets/controls",
            "_view_module_version": "1.5.0",
            "_view_name": "HTMLView",
            "description": "",
            "description_tooltip": null,
            "layout": "IPY_MODEL_a30d902da78f49fa81badd189ce17546",
            "placeholder": "​",
            "style": "IPY_MODEL_feecbbd170c54cab852aa6b948073c13",
            "value": "Downloading (…)lve/main/config.json: 100%"
          }
        },
        "2040407a67914391a1f376af5fa4762f": {
          "model_module": "@jupyter-widgets/controls",
          "model_name": "FloatProgressModel",
          "model_module_version": "1.5.0",
          "state": {
            "_dom_classes": [],
            "_model_module": "@jupyter-widgets/controls",
            "_model_module_version": "1.5.0",
            "_model_name": "FloatProgressModel",
            "_view_count": null,
            "_view_module": "@jupyter-widgets/controls",
            "_view_module_version": "1.5.0",
            "_view_name": "ProgressView",
            "bar_style": "success",
            "description": "",
            "description_tooltip": null,
            "layout": "IPY_MODEL_67a0dbd7d5e74dadb844d5a7bfb9fa24",
            "max": 384,
            "min": 0,
            "orientation": "horizontal",
            "style": "IPY_MODEL_5a15cc277d434362aea876180afcf90c",
            "value": 384
          }
        },
        "0c9ec143c9214a42ad62377a772fc4db": {
          "model_module": "@jupyter-widgets/controls",
          "model_name": "HTMLModel",
          "model_module_version": "1.5.0",
          "state": {
            "_dom_classes": [],
            "_model_module": "@jupyter-widgets/controls",
            "_model_module_version": "1.5.0",
            "_model_name": "HTMLModel",
            "_view_count": null,
            "_view_module": "@jupyter-widgets/controls",
            "_view_module_version": "1.5.0",
            "_view_name": "HTMLView",
            "description": "",
            "description_tooltip": null,
            "layout": "IPY_MODEL_8a7ab84f93d648abaae35718f2165fe1",
            "placeholder": "​",
            "style": "IPY_MODEL_455739237f97419da73143a3320a6929",
            "value": " 384/384 [00:00&lt;00:00, 31.4kB/s]"
          }
        },
        "35ade6b5bcf34c31a59b14d6476d29fc": {
          "model_module": "@jupyter-widgets/base",
          "model_name": "LayoutModel",
          "model_module_version": "1.2.0",
          "state": {
            "_model_module": "@jupyter-widgets/base",
            "_model_module_version": "1.2.0",
            "_model_name": "LayoutModel",
            "_view_count": null,
            "_view_module": "@jupyter-widgets/base",
            "_view_module_version": "1.2.0",
            "_view_name": "LayoutView",
            "align_content": null,
            "align_items": null,
            "align_self": null,
            "border": null,
            "bottom": null,
            "display": null,
            "flex": null,
            "flex_flow": null,
            "grid_area": null,
            "grid_auto_columns": null,
            "grid_auto_flow": null,
            "grid_auto_rows": null,
            "grid_column": null,
            "grid_gap": null,
            "grid_row": null,
            "grid_template_areas": null,
            "grid_template_columns": null,
            "grid_template_rows": null,
            "height": null,
            "justify_content": null,
            "justify_items": null,
            "left": null,
            "margin": null,
            "max_height": null,
            "max_width": null,
            "min_height": null,
            "min_width": null,
            "object_fit": null,
            "object_position": null,
            "order": null,
            "overflow": null,
            "overflow_x": null,
            "overflow_y": null,
            "padding": null,
            "right": null,
            "top": null,
            "visibility": null,
            "width": null
          }
        },
        "a30d902da78f49fa81badd189ce17546": {
          "model_module": "@jupyter-widgets/base",
          "model_name": "LayoutModel",
          "model_module_version": "1.2.0",
          "state": {
            "_model_module": "@jupyter-widgets/base",
            "_model_module_version": "1.2.0",
            "_model_name": "LayoutModel",
            "_view_count": null,
            "_view_module": "@jupyter-widgets/base",
            "_view_module_version": "1.2.0",
            "_view_name": "LayoutView",
            "align_content": null,
            "align_items": null,
            "align_self": null,
            "border": null,
            "bottom": null,
            "display": null,
            "flex": null,
            "flex_flow": null,
            "grid_area": null,
            "grid_auto_columns": null,
            "grid_auto_flow": null,
            "grid_auto_rows": null,
            "grid_column": null,
            "grid_gap": null,
            "grid_row": null,
            "grid_template_areas": null,
            "grid_template_columns": null,
            "grid_template_rows": null,
            "height": null,
            "justify_content": null,
            "justify_items": null,
            "left": null,
            "margin": null,
            "max_height": null,
            "max_width": null,
            "min_height": null,
            "min_width": null,
            "object_fit": null,
            "object_position": null,
            "order": null,
            "overflow": null,
            "overflow_x": null,
            "overflow_y": null,
            "padding": null,
            "right": null,
            "top": null,
            "visibility": null,
            "width": null
          }
        },
        "feecbbd170c54cab852aa6b948073c13": {
          "model_module": "@jupyter-widgets/controls",
          "model_name": "DescriptionStyleModel",
          "model_module_version": "1.5.0",
          "state": {
            "_model_module": "@jupyter-widgets/controls",
            "_model_module_version": "1.5.0",
            "_model_name": "DescriptionStyleModel",
            "_view_count": null,
            "_view_module": "@jupyter-widgets/base",
            "_view_module_version": "1.2.0",
            "_view_name": "StyleView",
            "description_width": ""
          }
        },
        "67a0dbd7d5e74dadb844d5a7bfb9fa24": {
          "model_module": "@jupyter-widgets/base",
          "model_name": "LayoutModel",
          "model_module_version": "1.2.0",
          "state": {
            "_model_module": "@jupyter-widgets/base",
            "_model_module_version": "1.2.0",
            "_model_name": "LayoutModel",
            "_view_count": null,
            "_view_module": "@jupyter-widgets/base",
            "_view_module_version": "1.2.0",
            "_view_name": "LayoutView",
            "align_content": null,
            "align_items": null,
            "align_self": null,
            "border": null,
            "bottom": null,
            "display": null,
            "flex": null,
            "flex_flow": null,
            "grid_area": null,
            "grid_auto_columns": null,
            "grid_auto_flow": null,
            "grid_auto_rows": null,
            "grid_column": null,
            "grid_gap": null,
            "grid_row": null,
            "grid_template_areas": null,
            "grid_template_columns": null,
            "grid_template_rows": null,
            "height": null,
            "justify_content": null,
            "justify_items": null,
            "left": null,
            "margin": null,
            "max_height": null,
            "max_width": null,
            "min_height": null,
            "min_width": null,
            "object_fit": null,
            "object_position": null,
            "order": null,
            "overflow": null,
            "overflow_x": null,
            "overflow_y": null,
            "padding": null,
            "right": null,
            "top": null,
            "visibility": null,
            "width": null
          }
        },
        "5a15cc277d434362aea876180afcf90c": {
          "model_module": "@jupyter-widgets/controls",
          "model_name": "ProgressStyleModel",
          "model_module_version": "1.5.0",
          "state": {
            "_model_module": "@jupyter-widgets/controls",
            "_model_module_version": "1.5.0",
            "_model_name": "ProgressStyleModel",
            "_view_count": null,
            "_view_module": "@jupyter-widgets/base",
            "_view_module_version": "1.2.0",
            "_view_name": "StyleView",
            "bar_color": null,
            "description_width": ""
          }
        },
        "8a7ab84f93d648abaae35718f2165fe1": {
          "model_module": "@jupyter-widgets/base",
          "model_name": "LayoutModel",
          "model_module_version": "1.2.0",
          "state": {
            "_model_module": "@jupyter-widgets/base",
            "_model_module_version": "1.2.0",
            "_model_name": "LayoutModel",
            "_view_count": null,
            "_view_module": "@jupyter-widgets/base",
            "_view_module_version": "1.2.0",
            "_view_name": "LayoutView",
            "align_content": null,
            "align_items": null,
            "align_self": null,
            "border": null,
            "bottom": null,
            "display": null,
            "flex": null,
            "flex_flow": null,
            "grid_area": null,
            "grid_auto_columns": null,
            "grid_auto_flow": null,
            "grid_auto_rows": null,
            "grid_column": null,
            "grid_gap": null,
            "grid_row": null,
            "grid_template_areas": null,
            "grid_template_columns": null,
            "grid_template_rows": null,
            "height": null,
            "justify_content": null,
            "justify_items": null,
            "left": null,
            "margin": null,
            "max_height": null,
            "max_width": null,
            "min_height": null,
            "min_width": null,
            "object_fit": null,
            "object_position": null,
            "order": null,
            "overflow": null,
            "overflow_x": null,
            "overflow_y": null,
            "padding": null,
            "right": null,
            "top": null,
            "visibility": null,
            "width": null
          }
        },
        "455739237f97419da73143a3320a6929": {
          "model_module": "@jupyter-widgets/controls",
          "model_name": "DescriptionStyleModel",
          "model_module_version": "1.5.0",
          "state": {
            "_model_module": "@jupyter-widgets/controls",
            "_model_module_version": "1.5.0",
            "_model_name": "DescriptionStyleModel",
            "_view_count": null,
            "_view_module": "@jupyter-widgets/base",
            "_view_module_version": "1.2.0",
            "_view_name": "StyleView",
            "description_width": ""
          }
        },
        "a2a5893d08074ddcb3fed0d6818eefbb": {
          "model_module": "@jupyter-widgets/controls",
          "model_name": "HBoxModel",
          "model_module_version": "1.5.0",
          "state": {
            "_dom_classes": [],
            "_model_module": "@jupyter-widgets/controls",
            "_model_module_version": "1.5.0",
            "_model_name": "HBoxModel",
            "_view_count": null,
            "_view_module": "@jupyter-widgets/controls",
            "_view_module_version": "1.5.0",
            "_view_name": "HBoxView",
            "box_style": "",
            "children": [
              "IPY_MODEL_f0b7b3fea8774f41836207467e3bc025",
              "IPY_MODEL_e81ba9d1b7bd4745b7b936ead59cff94",
              "IPY_MODEL_c1ec13f58e12441db5bb9db8a7d87bdb"
            ],
            "layout": "IPY_MODEL_168be2371ca74bba89eb424706d8e428"
          }
        },
        "f0b7b3fea8774f41836207467e3bc025": {
          "model_module": "@jupyter-widgets/controls",
          "model_name": "HTMLModel",
          "model_module_version": "1.5.0",
          "state": {
            "_dom_classes": [],
            "_model_module": "@jupyter-widgets/controls",
            "_model_module_version": "1.5.0",
            "_model_name": "HTMLModel",
            "_view_count": null,
            "_view_module": "@jupyter-widgets/controls",
            "_view_module_version": "1.5.0",
            "_view_name": "HTMLView",
            "description": "",
            "description_tooltip": null,
            "layout": "IPY_MODEL_7c23ab8dd90a4d979a52da680458178f",
            "placeholder": "​",
            "style": "IPY_MODEL_5fa7d1c293f14c7fa7b2a4e8ec2d7117",
            "value": "Downloading tf_model.h5: 100%"
          }
        },
        "e81ba9d1b7bd4745b7b936ead59cff94": {
          "model_module": "@jupyter-widgets/controls",
          "model_name": "FloatProgressModel",
          "model_module_version": "1.5.0",
          "state": {
            "_dom_classes": [],
            "_model_module": "@jupyter-widgets/controls",
            "_model_module_version": "1.5.0",
            "_model_name": "FloatProgressModel",
            "_view_count": null,
            "_view_module": "@jupyter-widgets/controls",
            "_view_module_version": "1.5.0",
            "_view_name": "ProgressView",
            "bar_style": "success",
            "description": "",
            "description_tooltip": null,
            "layout": "IPY_MODEL_09bbe27ef09c4b2aae1faf5b2b22ce3e",
            "max": 741883760,
            "min": 0,
            "orientation": "horizontal",
            "style": "IPY_MODEL_9962fc93b85c4a828d00030f4ccbed8d",
            "value": 741883760
          }
        },
        "c1ec13f58e12441db5bb9db8a7d87bdb": {
          "model_module": "@jupyter-widgets/controls",
          "model_name": "HTMLModel",
          "model_module_version": "1.5.0",
          "state": {
            "_dom_classes": [],
            "_model_module": "@jupyter-widgets/controls",
            "_model_module_version": "1.5.0",
            "_model_name": "HTMLModel",
            "_view_count": null,
            "_view_module": "@jupyter-widgets/controls",
            "_view_module_version": "1.5.0",
            "_view_name": "HTMLView",
            "description": "",
            "description_tooltip": null,
            "layout": "IPY_MODEL_90c581f71f4d48a3832c3a354af8dcc0",
            "placeholder": "​",
            "style": "IPY_MODEL_9b28e81487504981a40b4c1fa79d4e3d",
            "value": " 742M/742M [00:01&lt;00:00, 426MB/s]"
          }
        },
        "168be2371ca74bba89eb424706d8e428": {
          "model_module": "@jupyter-widgets/base",
          "model_name": "LayoutModel",
          "model_module_version": "1.2.0",
          "state": {
            "_model_module": "@jupyter-widgets/base",
            "_model_module_version": "1.2.0",
            "_model_name": "LayoutModel",
            "_view_count": null,
            "_view_module": "@jupyter-widgets/base",
            "_view_module_version": "1.2.0",
            "_view_name": "LayoutView",
            "align_content": null,
            "align_items": null,
            "align_self": null,
            "border": null,
            "bottom": null,
            "display": null,
            "flex": null,
            "flex_flow": null,
            "grid_area": null,
            "grid_auto_columns": null,
            "grid_auto_flow": null,
            "grid_auto_rows": null,
            "grid_column": null,
            "grid_gap": null,
            "grid_row": null,
            "grid_template_areas": null,
            "grid_template_columns": null,
            "grid_template_rows": null,
            "height": null,
            "justify_content": null,
            "justify_items": null,
            "left": null,
            "margin": null,
            "max_height": null,
            "max_width": null,
            "min_height": null,
            "min_width": null,
            "object_fit": null,
            "object_position": null,
            "order": null,
            "overflow": null,
            "overflow_x": null,
            "overflow_y": null,
            "padding": null,
            "right": null,
            "top": null,
            "visibility": null,
            "width": null
          }
        },
        "7c23ab8dd90a4d979a52da680458178f": {
          "model_module": "@jupyter-widgets/base",
          "model_name": "LayoutModel",
          "model_module_version": "1.2.0",
          "state": {
            "_model_module": "@jupyter-widgets/base",
            "_model_module_version": "1.2.0",
            "_model_name": "LayoutModel",
            "_view_count": null,
            "_view_module": "@jupyter-widgets/base",
            "_view_module_version": "1.2.0",
            "_view_name": "LayoutView",
            "align_content": null,
            "align_items": null,
            "align_self": null,
            "border": null,
            "bottom": null,
            "display": null,
            "flex": null,
            "flex_flow": null,
            "grid_area": null,
            "grid_auto_columns": null,
            "grid_auto_flow": null,
            "grid_auto_rows": null,
            "grid_column": null,
            "grid_gap": null,
            "grid_row": null,
            "grid_template_areas": null,
            "grid_template_columns": null,
            "grid_template_rows": null,
            "height": null,
            "justify_content": null,
            "justify_items": null,
            "left": null,
            "margin": null,
            "max_height": null,
            "max_width": null,
            "min_height": null,
            "min_width": null,
            "object_fit": null,
            "object_position": null,
            "order": null,
            "overflow": null,
            "overflow_x": null,
            "overflow_y": null,
            "padding": null,
            "right": null,
            "top": null,
            "visibility": null,
            "width": null
          }
        },
        "5fa7d1c293f14c7fa7b2a4e8ec2d7117": {
          "model_module": "@jupyter-widgets/controls",
          "model_name": "DescriptionStyleModel",
          "model_module_version": "1.5.0",
          "state": {
            "_model_module": "@jupyter-widgets/controls",
            "_model_module_version": "1.5.0",
            "_model_name": "DescriptionStyleModel",
            "_view_count": null,
            "_view_module": "@jupyter-widgets/base",
            "_view_module_version": "1.2.0",
            "_view_name": "StyleView",
            "description_width": ""
          }
        },
        "09bbe27ef09c4b2aae1faf5b2b22ce3e": {
          "model_module": "@jupyter-widgets/base",
          "model_name": "LayoutModel",
          "model_module_version": "1.2.0",
          "state": {
            "_model_module": "@jupyter-widgets/base",
            "_model_module_version": "1.2.0",
            "_model_name": "LayoutModel",
            "_view_count": null,
            "_view_module": "@jupyter-widgets/base",
            "_view_module_version": "1.2.0",
            "_view_name": "LayoutView",
            "align_content": null,
            "align_items": null,
            "align_self": null,
            "border": null,
            "bottom": null,
            "display": null,
            "flex": null,
            "flex_flow": null,
            "grid_area": null,
            "grid_auto_columns": null,
            "grid_auto_flow": null,
            "grid_auto_rows": null,
            "grid_column": null,
            "grid_gap": null,
            "grid_row": null,
            "grid_template_areas": null,
            "grid_template_columns": null,
            "grid_template_rows": null,
            "height": null,
            "justify_content": null,
            "justify_items": null,
            "left": null,
            "margin": null,
            "max_height": null,
            "max_width": null,
            "min_height": null,
            "min_width": null,
            "object_fit": null,
            "object_position": null,
            "order": null,
            "overflow": null,
            "overflow_x": null,
            "overflow_y": null,
            "padding": null,
            "right": null,
            "top": null,
            "visibility": null,
            "width": null
          }
        },
        "9962fc93b85c4a828d00030f4ccbed8d": {
          "model_module": "@jupyter-widgets/controls",
          "model_name": "ProgressStyleModel",
          "model_module_version": "1.5.0",
          "state": {
            "_model_module": "@jupyter-widgets/controls",
            "_model_module_version": "1.5.0",
            "_model_name": "ProgressStyleModel",
            "_view_count": null,
            "_view_module": "@jupyter-widgets/base",
            "_view_module_version": "1.2.0",
            "_view_name": "StyleView",
            "bar_color": null,
            "description_width": ""
          }
        },
        "90c581f71f4d48a3832c3a354af8dcc0": {
          "model_module": "@jupyter-widgets/base",
          "model_name": "LayoutModel",
          "model_module_version": "1.2.0",
          "state": {
            "_model_module": "@jupyter-widgets/base",
            "_model_module_version": "1.2.0",
            "_model_name": "LayoutModel",
            "_view_count": null,
            "_view_module": "@jupyter-widgets/base",
            "_view_module_version": "1.2.0",
            "_view_name": "LayoutView",
            "align_content": null,
            "align_items": null,
            "align_self": null,
            "border": null,
            "bottom": null,
            "display": null,
            "flex": null,
            "flex_flow": null,
            "grid_area": null,
            "grid_auto_columns": null,
            "grid_auto_flow": null,
            "grid_auto_rows": null,
            "grid_column": null,
            "grid_gap": null,
            "grid_row": null,
            "grid_template_areas": null,
            "grid_template_columns": null,
            "grid_template_rows": null,
            "height": null,
            "justify_content": null,
            "justify_items": null,
            "left": null,
            "margin": null,
            "max_height": null,
            "max_width": null,
            "min_height": null,
            "min_width": null,
            "object_fit": null,
            "object_position": null,
            "order": null,
            "overflow": null,
            "overflow_x": null,
            "overflow_y": null,
            "padding": null,
            "right": null,
            "top": null,
            "visibility": null,
            "width": null
          }
        },
        "9b28e81487504981a40b4c1fa79d4e3d": {
          "model_module": "@jupyter-widgets/controls",
          "model_name": "DescriptionStyleModel",
          "model_module_version": "1.5.0",
          "state": {
            "_model_module": "@jupyter-widgets/controls",
            "_model_module_version": "1.5.0",
            "_model_name": "DescriptionStyleModel",
            "_view_count": null,
            "_view_module": "@jupyter-widgets/base",
            "_view_module_version": "1.2.0",
            "_view_name": "StyleView",
            "description_width": ""
          }
        },
        "01c3446e1d114c53a892abc78207d671": {
          "model_module": "@jupyter-widgets/controls",
          "model_name": "HBoxModel",
          "model_module_version": "1.5.0",
          "state": {
            "_dom_classes": [],
            "_model_module": "@jupyter-widgets/controls",
            "_model_module_version": "1.5.0",
            "_model_name": "HBoxModel",
            "_view_count": null,
            "_view_module": "@jupyter-widgets/controls",
            "_view_module_version": "1.5.0",
            "_view_name": "HBoxView",
            "box_style": "",
            "children": [
              "IPY_MODEL_72dac28de8774cfa9230e4be22a5362d",
              "IPY_MODEL_2f684fa3dfd54ca0a51b1c7d4e550a64",
              "IPY_MODEL_b438dcac959c4c5fbb1064f93b12702f"
            ],
            "layout": "IPY_MODEL_a7b1ba21ef3f4a6f8e992817d27f6438"
          }
        },
        "72dac28de8774cfa9230e4be22a5362d": {
          "model_module": "@jupyter-widgets/controls",
          "model_name": "HTMLModel",
          "model_module_version": "1.5.0",
          "state": {
            "_dom_classes": [],
            "_model_module": "@jupyter-widgets/controls",
            "_model_module_version": "1.5.0",
            "_model_name": "HTMLModel",
            "_view_count": null,
            "_view_module": "@jupyter-widgets/controls",
            "_view_module_version": "1.5.0",
            "_view_name": "HTMLView",
            "description": "",
            "description_tooltip": null,
            "layout": "IPY_MODEL_2395b81706a2489aa982a57a708b488d",
            "placeholder": "​",
            "style": "IPY_MODEL_7bdf0cf543664c77b47b79a6a812dbfa",
            "value": "Downloading (…)okenizer_config.json: 100%"
          }
        },
        "2f684fa3dfd54ca0a51b1c7d4e550a64": {
          "model_module": "@jupyter-widgets/controls",
          "model_name": "FloatProgressModel",
          "model_module_version": "1.5.0",
          "state": {
            "_dom_classes": [],
            "_model_module": "@jupyter-widgets/controls",
            "_model_module_version": "1.5.0",
            "_model_name": "FloatProgressModel",
            "_view_count": null,
            "_view_module": "@jupyter-widgets/controls",
            "_view_module_version": "1.5.0",
            "_view_name": "ProgressView",
            "bar_style": "success",
            "description": "",
            "description_tooltip": null,
            "layout": "IPY_MODEL_5663a95046a54ae0a4a74095ab75b9c6",
            "max": 381,
            "min": 0,
            "orientation": "horizontal",
            "style": "IPY_MODEL_aa815fc637b54e8c8703d8f51abb38a4",
            "value": 381
          }
        },
        "b438dcac959c4c5fbb1064f93b12702f": {
          "model_module": "@jupyter-widgets/controls",
          "model_name": "HTMLModel",
          "model_module_version": "1.5.0",
          "state": {
            "_dom_classes": [],
            "_model_module": "@jupyter-widgets/controls",
            "_model_module_version": "1.5.0",
            "_model_name": "HTMLModel",
            "_view_count": null,
            "_view_module": "@jupyter-widgets/controls",
            "_view_module_version": "1.5.0",
            "_view_name": "HTMLView",
            "description": "",
            "description_tooltip": null,
            "layout": "IPY_MODEL_6943c3fa67254600977827bfd75d62bc",
            "placeholder": "​",
            "style": "IPY_MODEL_9f81c323a0904df4bce114c498c95e25",
            "value": " 381/381 [00:00&lt;00:00, 23.8kB/s]"
          }
        },
        "a7b1ba21ef3f4a6f8e992817d27f6438": {
          "model_module": "@jupyter-widgets/base",
          "model_name": "LayoutModel",
          "model_module_version": "1.2.0",
          "state": {
            "_model_module": "@jupyter-widgets/base",
            "_model_module_version": "1.2.0",
            "_model_name": "LayoutModel",
            "_view_count": null,
            "_view_module": "@jupyter-widgets/base",
            "_view_module_version": "1.2.0",
            "_view_name": "LayoutView",
            "align_content": null,
            "align_items": null,
            "align_self": null,
            "border": null,
            "bottom": null,
            "display": null,
            "flex": null,
            "flex_flow": null,
            "grid_area": null,
            "grid_auto_columns": null,
            "grid_auto_flow": null,
            "grid_auto_rows": null,
            "grid_column": null,
            "grid_gap": null,
            "grid_row": null,
            "grid_template_areas": null,
            "grid_template_columns": null,
            "grid_template_rows": null,
            "height": null,
            "justify_content": null,
            "justify_items": null,
            "left": null,
            "margin": null,
            "max_height": null,
            "max_width": null,
            "min_height": null,
            "min_width": null,
            "object_fit": null,
            "object_position": null,
            "order": null,
            "overflow": null,
            "overflow_x": null,
            "overflow_y": null,
            "padding": null,
            "right": null,
            "top": null,
            "visibility": null,
            "width": null
          }
        },
        "2395b81706a2489aa982a57a708b488d": {
          "model_module": "@jupyter-widgets/base",
          "model_name": "LayoutModel",
          "model_module_version": "1.2.0",
          "state": {
            "_model_module": "@jupyter-widgets/base",
            "_model_module_version": "1.2.0",
            "_model_name": "LayoutModel",
            "_view_count": null,
            "_view_module": "@jupyter-widgets/base",
            "_view_module_version": "1.2.0",
            "_view_name": "LayoutView",
            "align_content": null,
            "align_items": null,
            "align_self": null,
            "border": null,
            "bottom": null,
            "display": null,
            "flex": null,
            "flex_flow": null,
            "grid_area": null,
            "grid_auto_columns": null,
            "grid_auto_flow": null,
            "grid_auto_rows": null,
            "grid_column": null,
            "grid_gap": null,
            "grid_row": null,
            "grid_template_areas": null,
            "grid_template_columns": null,
            "grid_template_rows": null,
            "height": null,
            "justify_content": null,
            "justify_items": null,
            "left": null,
            "margin": null,
            "max_height": null,
            "max_width": null,
            "min_height": null,
            "min_width": null,
            "object_fit": null,
            "object_position": null,
            "order": null,
            "overflow": null,
            "overflow_x": null,
            "overflow_y": null,
            "padding": null,
            "right": null,
            "top": null,
            "visibility": null,
            "width": null
          }
        },
        "7bdf0cf543664c77b47b79a6a812dbfa": {
          "model_module": "@jupyter-widgets/controls",
          "model_name": "DescriptionStyleModel",
          "model_module_version": "1.5.0",
          "state": {
            "_model_module": "@jupyter-widgets/controls",
            "_model_module_version": "1.5.0",
            "_model_name": "DescriptionStyleModel",
            "_view_count": null,
            "_view_module": "@jupyter-widgets/base",
            "_view_module_version": "1.2.0",
            "_view_name": "StyleView",
            "description_width": ""
          }
        },
        "5663a95046a54ae0a4a74095ab75b9c6": {
          "model_module": "@jupyter-widgets/base",
          "model_name": "LayoutModel",
          "model_module_version": "1.2.0",
          "state": {
            "_model_module": "@jupyter-widgets/base",
            "_model_module_version": "1.2.0",
            "_model_name": "LayoutModel",
            "_view_count": null,
            "_view_module": "@jupyter-widgets/base",
            "_view_module_version": "1.2.0",
            "_view_name": "LayoutView",
            "align_content": null,
            "align_items": null,
            "align_self": null,
            "border": null,
            "bottom": null,
            "display": null,
            "flex": null,
            "flex_flow": null,
            "grid_area": null,
            "grid_auto_columns": null,
            "grid_auto_flow": null,
            "grid_auto_rows": null,
            "grid_column": null,
            "grid_gap": null,
            "grid_row": null,
            "grid_template_areas": null,
            "grid_template_columns": null,
            "grid_template_rows": null,
            "height": null,
            "justify_content": null,
            "justify_items": null,
            "left": null,
            "margin": null,
            "max_height": null,
            "max_width": null,
            "min_height": null,
            "min_width": null,
            "object_fit": null,
            "object_position": null,
            "order": null,
            "overflow": null,
            "overflow_x": null,
            "overflow_y": null,
            "padding": null,
            "right": null,
            "top": null,
            "visibility": null,
            "width": null
          }
        },
        "aa815fc637b54e8c8703d8f51abb38a4": {
          "model_module": "@jupyter-widgets/controls",
          "model_name": "ProgressStyleModel",
          "model_module_version": "1.5.0",
          "state": {
            "_model_module": "@jupyter-widgets/controls",
            "_model_module_version": "1.5.0",
            "_model_name": "ProgressStyleModel",
            "_view_count": null,
            "_view_module": "@jupyter-widgets/base",
            "_view_module_version": "1.2.0",
            "_view_name": "StyleView",
            "bar_color": null,
            "description_width": ""
          }
        },
        "6943c3fa67254600977827bfd75d62bc": {
          "model_module": "@jupyter-widgets/base",
          "model_name": "LayoutModel",
          "model_module_version": "1.2.0",
          "state": {
            "_model_module": "@jupyter-widgets/base",
            "_model_module_version": "1.2.0",
            "_model_name": "LayoutModel",
            "_view_count": null,
            "_view_module": "@jupyter-widgets/base",
            "_view_module_version": "1.2.0",
            "_view_name": "LayoutView",
            "align_content": null,
            "align_items": null,
            "align_self": null,
            "border": null,
            "bottom": null,
            "display": null,
            "flex": null,
            "flex_flow": null,
            "grid_area": null,
            "grid_auto_columns": null,
            "grid_auto_flow": null,
            "grid_auto_rows": null,
            "grid_column": null,
            "grid_gap": null,
            "grid_row": null,
            "grid_template_areas": null,
            "grid_template_columns": null,
            "grid_template_rows": null,
            "height": null,
            "justify_content": null,
            "justify_items": null,
            "left": null,
            "margin": null,
            "max_height": null,
            "max_width": null,
            "min_height": null,
            "min_width": null,
            "object_fit": null,
            "object_position": null,
            "order": null,
            "overflow": null,
            "overflow_x": null,
            "overflow_y": null,
            "padding": null,
            "right": null,
            "top": null,
            "visibility": null,
            "width": null
          }
        },
        "9f81c323a0904df4bce114c498c95e25": {
          "model_module": "@jupyter-widgets/controls",
          "model_name": "DescriptionStyleModel",
          "model_module_version": "1.5.0",
          "state": {
            "_model_module": "@jupyter-widgets/controls",
            "_model_module_version": "1.5.0",
            "_model_name": "DescriptionStyleModel",
            "_view_count": null,
            "_view_module": "@jupyter-widgets/base",
            "_view_module_version": "1.2.0",
            "_view_name": "StyleView",
            "description_width": ""
          }
        },
        "581e6cc9898e44d0868f8c10a2625355": {
          "model_module": "@jupyter-widgets/controls",
          "model_name": "HBoxModel",
          "model_module_version": "1.5.0",
          "state": {
            "_dom_classes": [],
            "_model_module": "@jupyter-widgets/controls",
            "_model_module_version": "1.5.0",
            "_model_name": "HBoxModel",
            "_view_count": null,
            "_view_module": "@jupyter-widgets/controls",
            "_view_module_version": "1.5.0",
            "_view_name": "HBoxView",
            "box_style": "",
            "children": [
              "IPY_MODEL_db1a1121c94e4ce8971cb5b51e78b6b4",
              "IPY_MODEL_ac742bbb5f944883880bca394bdfc5a4",
              "IPY_MODEL_49d014c99120426d834530f421353d19"
            ],
            "layout": "IPY_MODEL_680f0d80dec44e87bae63ff2f1dfd46e"
          }
        },
        "db1a1121c94e4ce8971cb5b51e78b6b4": {
          "model_module": "@jupyter-widgets/controls",
          "model_name": "HTMLModel",
          "model_module_version": "1.5.0",
          "state": {
            "_dom_classes": [],
            "_model_module": "@jupyter-widgets/controls",
            "_model_module_version": "1.5.0",
            "_model_name": "HTMLModel",
            "_view_count": null,
            "_view_module": "@jupyter-widgets/controls",
            "_view_module_version": "1.5.0",
            "_view_name": "HTMLView",
            "description": "",
            "description_tooltip": null,
            "layout": "IPY_MODEL_4d5c2f0ae4ef444e9cb81ce8cb46a666",
            "placeholder": "​",
            "style": "IPY_MODEL_279fb532c8c94b1cb9b52be1f97620e5",
            "value": "Downloading (…)solve/main/vocab.txt: 100%"
          }
        },
        "ac742bbb5f944883880bca394bdfc5a4": {
          "model_module": "@jupyter-widgets/controls",
          "model_name": "FloatProgressModel",
          "model_module_version": "1.5.0",
          "state": {
            "_dom_classes": [],
            "_model_module": "@jupyter-widgets/controls",
            "_model_module_version": "1.5.0",
            "_model_name": "FloatProgressModel",
            "_view_count": null,
            "_view_module": "@jupyter-widgets/controls",
            "_view_module_version": "1.5.0",
            "_view_name": "ProgressView",
            "bar_style": "success",
            "description": "",
            "description_tooltip": null,
            "layout": "IPY_MODEL_9c41b5228fa74b899540360a91bdf1c2",
            "max": 824793,
            "min": 0,
            "orientation": "horizontal",
            "style": "IPY_MODEL_6ad32f6f917b4821af2e433339b18345",
            "value": 824793
          }
        },
        "49d014c99120426d834530f421353d19": {
          "model_module": "@jupyter-widgets/controls",
          "model_name": "HTMLModel",
          "model_module_version": "1.5.0",
          "state": {
            "_dom_classes": [],
            "_model_module": "@jupyter-widgets/controls",
            "_model_module_version": "1.5.0",
            "_model_name": "HTMLModel",
            "_view_count": null,
            "_view_module": "@jupyter-widgets/controls",
            "_view_module_version": "1.5.0",
            "_view_name": "HTMLView",
            "description": "",
            "description_tooltip": null,
            "layout": "IPY_MODEL_36570ef3384343b292df271bcd97b4af",
            "placeholder": "​",
            "style": "IPY_MODEL_350b4729148346559351f2ad4dbb1cad",
            "value": " 825k/825k [00:00&lt;00:00, 991kB/s]"
          }
        },
        "680f0d80dec44e87bae63ff2f1dfd46e": {
          "model_module": "@jupyter-widgets/base",
          "model_name": "LayoutModel",
          "model_module_version": "1.2.0",
          "state": {
            "_model_module": "@jupyter-widgets/base",
            "_model_module_version": "1.2.0",
            "_model_name": "LayoutModel",
            "_view_count": null,
            "_view_module": "@jupyter-widgets/base",
            "_view_module_version": "1.2.0",
            "_view_name": "LayoutView",
            "align_content": null,
            "align_items": null,
            "align_self": null,
            "border": null,
            "bottom": null,
            "display": null,
            "flex": null,
            "flex_flow": null,
            "grid_area": null,
            "grid_auto_columns": null,
            "grid_auto_flow": null,
            "grid_auto_rows": null,
            "grid_column": null,
            "grid_gap": null,
            "grid_row": null,
            "grid_template_areas": null,
            "grid_template_columns": null,
            "grid_template_rows": null,
            "height": null,
            "justify_content": null,
            "justify_items": null,
            "left": null,
            "margin": null,
            "max_height": null,
            "max_width": null,
            "min_height": null,
            "min_width": null,
            "object_fit": null,
            "object_position": null,
            "order": null,
            "overflow": null,
            "overflow_x": null,
            "overflow_y": null,
            "padding": null,
            "right": null,
            "top": null,
            "visibility": null,
            "width": null
          }
        },
        "4d5c2f0ae4ef444e9cb81ce8cb46a666": {
          "model_module": "@jupyter-widgets/base",
          "model_name": "LayoutModel",
          "model_module_version": "1.2.0",
          "state": {
            "_model_module": "@jupyter-widgets/base",
            "_model_module_version": "1.2.0",
            "_model_name": "LayoutModel",
            "_view_count": null,
            "_view_module": "@jupyter-widgets/base",
            "_view_module_version": "1.2.0",
            "_view_name": "LayoutView",
            "align_content": null,
            "align_items": null,
            "align_self": null,
            "border": null,
            "bottom": null,
            "display": null,
            "flex": null,
            "flex_flow": null,
            "grid_area": null,
            "grid_auto_columns": null,
            "grid_auto_flow": null,
            "grid_auto_rows": null,
            "grid_column": null,
            "grid_gap": null,
            "grid_row": null,
            "grid_template_areas": null,
            "grid_template_columns": null,
            "grid_template_rows": null,
            "height": null,
            "justify_content": null,
            "justify_items": null,
            "left": null,
            "margin": null,
            "max_height": null,
            "max_width": null,
            "min_height": null,
            "min_width": null,
            "object_fit": null,
            "object_position": null,
            "order": null,
            "overflow": null,
            "overflow_x": null,
            "overflow_y": null,
            "padding": null,
            "right": null,
            "top": null,
            "visibility": null,
            "width": null
          }
        },
        "279fb532c8c94b1cb9b52be1f97620e5": {
          "model_module": "@jupyter-widgets/controls",
          "model_name": "DescriptionStyleModel",
          "model_module_version": "1.5.0",
          "state": {
            "_model_module": "@jupyter-widgets/controls",
            "_model_module_version": "1.5.0",
            "_model_name": "DescriptionStyleModel",
            "_view_count": null,
            "_view_module": "@jupyter-widgets/base",
            "_view_module_version": "1.2.0",
            "_view_name": "StyleView",
            "description_width": ""
          }
        },
        "9c41b5228fa74b899540360a91bdf1c2": {
          "model_module": "@jupyter-widgets/base",
          "model_name": "LayoutModel",
          "model_module_version": "1.2.0",
          "state": {
            "_model_module": "@jupyter-widgets/base",
            "_model_module_version": "1.2.0",
            "_model_name": "LayoutModel",
            "_view_count": null,
            "_view_module": "@jupyter-widgets/base",
            "_view_module_version": "1.2.0",
            "_view_name": "LayoutView",
            "align_content": null,
            "align_items": null,
            "align_self": null,
            "border": null,
            "bottom": null,
            "display": null,
            "flex": null,
            "flex_flow": null,
            "grid_area": null,
            "grid_auto_columns": null,
            "grid_auto_flow": null,
            "grid_auto_rows": null,
            "grid_column": null,
            "grid_gap": null,
            "grid_row": null,
            "grid_template_areas": null,
            "grid_template_columns": null,
            "grid_template_rows": null,
            "height": null,
            "justify_content": null,
            "justify_items": null,
            "left": null,
            "margin": null,
            "max_height": null,
            "max_width": null,
            "min_height": null,
            "min_width": null,
            "object_fit": null,
            "object_position": null,
            "order": null,
            "overflow": null,
            "overflow_x": null,
            "overflow_y": null,
            "padding": null,
            "right": null,
            "top": null,
            "visibility": null,
            "width": null
          }
        },
        "6ad32f6f917b4821af2e433339b18345": {
          "model_module": "@jupyter-widgets/controls",
          "model_name": "ProgressStyleModel",
          "model_module_version": "1.5.0",
          "state": {
            "_model_module": "@jupyter-widgets/controls",
            "_model_module_version": "1.5.0",
            "_model_name": "ProgressStyleModel",
            "_view_count": null,
            "_view_module": "@jupyter-widgets/base",
            "_view_module_version": "1.2.0",
            "_view_name": "StyleView",
            "bar_color": null,
            "description_width": ""
          }
        },
        "36570ef3384343b292df271bcd97b4af": {
          "model_module": "@jupyter-widgets/base",
          "model_name": "LayoutModel",
          "model_module_version": "1.2.0",
          "state": {
            "_model_module": "@jupyter-widgets/base",
            "_model_module_version": "1.2.0",
            "_model_name": "LayoutModel",
            "_view_count": null,
            "_view_module": "@jupyter-widgets/base",
            "_view_module_version": "1.2.0",
            "_view_name": "LayoutView",
            "align_content": null,
            "align_items": null,
            "align_self": null,
            "border": null,
            "bottom": null,
            "display": null,
            "flex": null,
            "flex_flow": null,
            "grid_area": null,
            "grid_auto_columns": null,
            "grid_auto_flow": null,
            "grid_auto_rows": null,
            "grid_column": null,
            "grid_gap": null,
            "grid_row": null,
            "grid_template_areas": null,
            "grid_template_columns": null,
            "grid_template_rows": null,
            "height": null,
            "justify_content": null,
            "justify_items": null,
            "left": null,
            "margin": null,
            "max_height": null,
            "max_width": null,
            "min_height": null,
            "min_width": null,
            "object_fit": null,
            "object_position": null,
            "order": null,
            "overflow": null,
            "overflow_x": null,
            "overflow_y": null,
            "padding": null,
            "right": null,
            "top": null,
            "visibility": null,
            "width": null
          }
        },
        "350b4729148346559351f2ad4dbb1cad": {
          "model_module": "@jupyter-widgets/controls",
          "model_name": "DescriptionStyleModel",
          "model_module_version": "1.5.0",
          "state": {
            "_model_module": "@jupyter-widgets/controls",
            "_model_module_version": "1.5.0",
            "_model_name": "DescriptionStyleModel",
            "_view_count": null,
            "_view_module": "@jupyter-widgets/base",
            "_view_module_version": "1.2.0",
            "_view_name": "StyleView",
            "description_width": ""
          }
        },
        "4179d7b348cb428b94f0f75191e9728c": {
          "model_module": "@jupyter-widgets/controls",
          "model_name": "HBoxModel",
          "model_module_version": "1.5.0",
          "state": {
            "_dom_classes": [],
            "_model_module": "@jupyter-widgets/controls",
            "_model_module_version": "1.5.0",
            "_model_name": "HBoxModel",
            "_view_count": null,
            "_view_module": "@jupyter-widgets/controls",
            "_view_module_version": "1.5.0",
            "_view_name": "HBoxView",
            "box_style": "",
            "children": [
              "IPY_MODEL_cca7cf9157714786a4a945db5d5e1c1f",
              "IPY_MODEL_1fc4fb93962443fdaed9fb9ee6fbcb6e",
              "IPY_MODEL_6bf2f372a58e4029905ce0f837ce6095"
            ],
            "layout": "IPY_MODEL_d17277c52ebd4e2b8b2de852980f9838"
          }
        },
        "cca7cf9157714786a4a945db5d5e1c1f": {
          "model_module": "@jupyter-widgets/controls",
          "model_name": "HTMLModel",
          "model_module_version": "1.5.0",
          "state": {
            "_dom_classes": [],
            "_model_module": "@jupyter-widgets/controls",
            "_model_module_version": "1.5.0",
            "_model_name": "HTMLModel",
            "_view_count": null,
            "_view_module": "@jupyter-widgets/controls",
            "_view_module_version": "1.5.0",
            "_view_name": "HTMLView",
            "description": "",
            "description_tooltip": null,
            "layout": "IPY_MODEL_c141f0769d5649f49c3f3ff20ad3b832",
            "placeholder": "​",
            "style": "IPY_MODEL_f9f6b3fd3ff84443a496e8e90b2b1185",
            "value": "Downloading (…)/main/tokenizer.json: 100%"
          }
        },
        "1fc4fb93962443fdaed9fb9ee6fbcb6e": {
          "model_module": "@jupyter-widgets/controls",
          "model_name": "FloatProgressModel",
          "model_module_version": "1.5.0",
          "state": {
            "_dom_classes": [],
            "_model_module": "@jupyter-widgets/controls",
            "_model_module_version": "1.5.0",
            "_model_name": "FloatProgressModel",
            "_view_count": null,
            "_view_module": "@jupyter-widgets/controls",
            "_view_module_version": "1.5.0",
            "_view_name": "ProgressView",
            "bar_style": "success",
            "description": "",
            "description_tooltip": null,
            "layout": "IPY_MODEL_13511b2191744cd28d978dbe7ae5e4ab",
            "max": 2642362,
            "min": 0,
            "orientation": "horizontal",
            "style": "IPY_MODEL_59bc28ab4ccb4271b8a73a6413f217bb",
            "value": 2642362
          }
        },
        "6bf2f372a58e4029905ce0f837ce6095": {
          "model_module": "@jupyter-widgets/controls",
          "model_name": "HTMLModel",
          "model_module_version": "1.5.0",
          "state": {
            "_dom_classes": [],
            "_model_module": "@jupyter-widgets/controls",
            "_model_module_version": "1.5.0",
            "_model_name": "HTMLModel",
            "_view_count": null,
            "_view_module": "@jupyter-widgets/controls",
            "_view_module_version": "1.5.0",
            "_view_name": "HTMLView",
            "description": "",
            "description_tooltip": null,
            "layout": "IPY_MODEL_e79d049e552741128abc9d979b36b6a2",
            "placeholder": "​",
            "style": "IPY_MODEL_3c2191430cdc4d69b5f07803e38b7d86",
            "value": " 2.64M/2.64M [00:01&lt;00:00, 2.13MB/s]"
          }
        },
        "d17277c52ebd4e2b8b2de852980f9838": {
          "model_module": "@jupyter-widgets/base",
          "model_name": "LayoutModel",
          "model_module_version": "1.2.0",
          "state": {
            "_model_module": "@jupyter-widgets/base",
            "_model_module_version": "1.2.0",
            "_model_name": "LayoutModel",
            "_view_count": null,
            "_view_module": "@jupyter-widgets/base",
            "_view_module_version": "1.2.0",
            "_view_name": "LayoutView",
            "align_content": null,
            "align_items": null,
            "align_self": null,
            "border": null,
            "bottom": null,
            "display": null,
            "flex": null,
            "flex_flow": null,
            "grid_area": null,
            "grid_auto_columns": null,
            "grid_auto_flow": null,
            "grid_auto_rows": null,
            "grid_column": null,
            "grid_gap": null,
            "grid_row": null,
            "grid_template_areas": null,
            "grid_template_columns": null,
            "grid_template_rows": null,
            "height": null,
            "justify_content": null,
            "justify_items": null,
            "left": null,
            "margin": null,
            "max_height": null,
            "max_width": null,
            "min_height": null,
            "min_width": null,
            "object_fit": null,
            "object_position": null,
            "order": null,
            "overflow": null,
            "overflow_x": null,
            "overflow_y": null,
            "padding": null,
            "right": null,
            "top": null,
            "visibility": null,
            "width": null
          }
        },
        "c141f0769d5649f49c3f3ff20ad3b832": {
          "model_module": "@jupyter-widgets/base",
          "model_name": "LayoutModel",
          "model_module_version": "1.2.0",
          "state": {
            "_model_module": "@jupyter-widgets/base",
            "_model_module_version": "1.2.0",
            "_model_name": "LayoutModel",
            "_view_count": null,
            "_view_module": "@jupyter-widgets/base",
            "_view_module_version": "1.2.0",
            "_view_name": "LayoutView",
            "align_content": null,
            "align_items": null,
            "align_self": null,
            "border": null,
            "bottom": null,
            "display": null,
            "flex": null,
            "flex_flow": null,
            "grid_area": null,
            "grid_auto_columns": null,
            "grid_auto_flow": null,
            "grid_auto_rows": null,
            "grid_column": null,
            "grid_gap": null,
            "grid_row": null,
            "grid_template_areas": null,
            "grid_template_columns": null,
            "grid_template_rows": null,
            "height": null,
            "justify_content": null,
            "justify_items": null,
            "left": null,
            "margin": null,
            "max_height": null,
            "max_width": null,
            "min_height": null,
            "min_width": null,
            "object_fit": null,
            "object_position": null,
            "order": null,
            "overflow": null,
            "overflow_x": null,
            "overflow_y": null,
            "padding": null,
            "right": null,
            "top": null,
            "visibility": null,
            "width": null
          }
        },
        "f9f6b3fd3ff84443a496e8e90b2b1185": {
          "model_module": "@jupyter-widgets/controls",
          "model_name": "DescriptionStyleModel",
          "model_module_version": "1.5.0",
          "state": {
            "_model_module": "@jupyter-widgets/controls",
            "_model_module_version": "1.5.0",
            "_model_name": "DescriptionStyleModel",
            "_view_count": null,
            "_view_module": "@jupyter-widgets/base",
            "_view_module_version": "1.2.0",
            "_view_name": "StyleView",
            "description_width": ""
          }
        },
        "13511b2191744cd28d978dbe7ae5e4ab": {
          "model_module": "@jupyter-widgets/base",
          "model_name": "LayoutModel",
          "model_module_version": "1.2.0",
          "state": {
            "_model_module": "@jupyter-widgets/base",
            "_model_module_version": "1.2.0",
            "_model_name": "LayoutModel",
            "_view_count": null,
            "_view_module": "@jupyter-widgets/base",
            "_view_module_version": "1.2.0",
            "_view_name": "LayoutView",
            "align_content": null,
            "align_items": null,
            "align_self": null,
            "border": null,
            "bottom": null,
            "display": null,
            "flex": null,
            "flex_flow": null,
            "grid_area": null,
            "grid_auto_columns": null,
            "grid_auto_flow": null,
            "grid_auto_rows": null,
            "grid_column": null,
            "grid_gap": null,
            "grid_row": null,
            "grid_template_areas": null,
            "grid_template_columns": null,
            "grid_template_rows": null,
            "height": null,
            "justify_content": null,
            "justify_items": null,
            "left": null,
            "margin": null,
            "max_height": null,
            "max_width": null,
            "min_height": null,
            "min_width": null,
            "object_fit": null,
            "object_position": null,
            "order": null,
            "overflow": null,
            "overflow_x": null,
            "overflow_y": null,
            "padding": null,
            "right": null,
            "top": null,
            "visibility": null,
            "width": null
          }
        },
        "59bc28ab4ccb4271b8a73a6413f217bb": {
          "model_module": "@jupyter-widgets/controls",
          "model_name": "ProgressStyleModel",
          "model_module_version": "1.5.0",
          "state": {
            "_model_module": "@jupyter-widgets/controls",
            "_model_module_version": "1.5.0",
            "_model_name": "ProgressStyleModel",
            "_view_count": null,
            "_view_module": "@jupyter-widgets/base",
            "_view_module_version": "1.2.0",
            "_view_name": "StyleView",
            "bar_color": null,
            "description_width": ""
          }
        },
        "e79d049e552741128abc9d979b36b6a2": {
          "model_module": "@jupyter-widgets/base",
          "model_name": "LayoutModel",
          "model_module_version": "1.2.0",
          "state": {
            "_model_module": "@jupyter-widgets/base",
            "_model_module_version": "1.2.0",
            "_model_name": "LayoutModel",
            "_view_count": null,
            "_view_module": "@jupyter-widgets/base",
            "_view_module_version": "1.2.0",
            "_view_name": "LayoutView",
            "align_content": null,
            "align_items": null,
            "align_self": null,
            "border": null,
            "bottom": null,
            "display": null,
            "flex": null,
            "flex_flow": null,
            "grid_area": null,
            "grid_auto_columns": null,
            "grid_auto_flow": null,
            "grid_auto_rows": null,
            "grid_column": null,
            "grid_gap": null,
            "grid_row": null,
            "grid_template_areas": null,
            "grid_template_columns": null,
            "grid_template_rows": null,
            "height": null,
            "justify_content": null,
            "justify_items": null,
            "left": null,
            "margin": null,
            "max_height": null,
            "max_width": null,
            "min_height": null,
            "min_width": null,
            "object_fit": null,
            "object_position": null,
            "order": null,
            "overflow": null,
            "overflow_x": null,
            "overflow_y": null,
            "padding": null,
            "right": null,
            "top": null,
            "visibility": null,
            "width": null
          }
        },
        "3c2191430cdc4d69b5f07803e38b7d86": {
          "model_module": "@jupyter-widgets/controls",
          "model_name": "DescriptionStyleModel",
          "model_module_version": "1.5.0",
          "state": {
            "_model_module": "@jupyter-widgets/controls",
            "_model_module_version": "1.5.0",
            "_model_name": "DescriptionStyleModel",
            "_view_count": null,
            "_view_module": "@jupyter-widgets/base",
            "_view_module_version": "1.2.0",
            "_view_name": "StyleView",
            "description_width": ""
          }
        },
        "17f4e69de76141cd9c7ebb979bd88095": {
          "model_module": "@jupyter-widgets/controls",
          "model_name": "HBoxModel",
          "model_module_version": "1.5.0",
          "state": {
            "_dom_classes": [],
            "_model_module": "@jupyter-widgets/controls",
            "_model_module_version": "1.5.0",
            "_model_name": "HBoxModel",
            "_view_count": null,
            "_view_module": "@jupyter-widgets/controls",
            "_view_module_version": "1.5.0",
            "_view_name": "HBoxView",
            "box_style": "",
            "children": [
              "IPY_MODEL_2a9c6b8d2e414058a004c1e22faa2731",
              "IPY_MODEL_32054f091a8c432193f868f639e109cc",
              "IPY_MODEL_7ee50b5fec474cde837240aa21d0d546"
            ],
            "layout": "IPY_MODEL_f940ac0a9c484736b6d2097c6cfbca67"
          }
        },
        "2a9c6b8d2e414058a004c1e22faa2731": {
          "model_module": "@jupyter-widgets/controls",
          "model_name": "HTMLModel",
          "model_module_version": "1.5.0",
          "state": {
            "_dom_classes": [],
            "_model_module": "@jupyter-widgets/controls",
            "_model_module_version": "1.5.0",
            "_model_name": "HTMLModel",
            "_view_count": null,
            "_view_module": "@jupyter-widgets/controls",
            "_view_module_version": "1.5.0",
            "_view_name": "HTMLView",
            "description": "",
            "description_tooltip": null,
            "layout": "IPY_MODEL_2ff4532df8ef49a0a88d7b60035d5956",
            "placeholder": "​",
            "style": "IPY_MODEL_36e9a268751c421a8beda8a75805affe",
            "value": "Downloading (…)cial_tokens_map.json: 100%"
          }
        },
        "32054f091a8c432193f868f639e109cc": {
          "model_module": "@jupyter-widgets/controls",
          "model_name": "FloatProgressModel",
          "model_module_version": "1.5.0",
          "state": {
            "_dom_classes": [],
            "_model_module": "@jupyter-widgets/controls",
            "_model_module_version": "1.5.0",
            "_model_name": "FloatProgressModel",
            "_view_count": null,
            "_view_module": "@jupyter-widgets/controls",
            "_view_module_version": "1.5.0",
            "_view_name": "ProgressView",
            "bar_style": "success",
            "description": "",
            "description_tooltip": null,
            "layout": "IPY_MODEL_b99f8015f0a4479480b0e32455ae0fc1",
            "max": 112,
            "min": 0,
            "orientation": "horizontal",
            "style": "IPY_MODEL_1d96062f8799453085c2ea75515a58c0",
            "value": 112
          }
        },
        "7ee50b5fec474cde837240aa21d0d546": {
          "model_module": "@jupyter-widgets/controls",
          "model_name": "HTMLModel",
          "model_module_version": "1.5.0",
          "state": {
            "_dom_classes": [],
            "_model_module": "@jupyter-widgets/controls",
            "_model_module_version": "1.5.0",
            "_model_name": "HTMLModel",
            "_view_count": null,
            "_view_module": "@jupyter-widgets/controls",
            "_view_module_version": "1.5.0",
            "_view_name": "HTMLView",
            "description": "",
            "description_tooltip": null,
            "layout": "IPY_MODEL_714f96169ce54fd3bee05ea2b30d74c5",
            "placeholder": "​",
            "style": "IPY_MODEL_1f045a031e1e4fadbdaabd2026a37b87",
            "value": " 112/112 [00:00&lt;00:00, 8.97kB/s]"
          }
        },
        "f940ac0a9c484736b6d2097c6cfbca67": {
          "model_module": "@jupyter-widgets/base",
          "model_name": "LayoutModel",
          "model_module_version": "1.2.0",
          "state": {
            "_model_module": "@jupyter-widgets/base",
            "_model_module_version": "1.2.0",
            "_model_name": "LayoutModel",
            "_view_count": null,
            "_view_module": "@jupyter-widgets/base",
            "_view_module_version": "1.2.0",
            "_view_name": "LayoutView",
            "align_content": null,
            "align_items": null,
            "align_self": null,
            "border": null,
            "bottom": null,
            "display": null,
            "flex": null,
            "flex_flow": null,
            "grid_area": null,
            "grid_auto_columns": null,
            "grid_auto_flow": null,
            "grid_auto_rows": null,
            "grid_column": null,
            "grid_gap": null,
            "grid_row": null,
            "grid_template_areas": null,
            "grid_template_columns": null,
            "grid_template_rows": null,
            "height": null,
            "justify_content": null,
            "justify_items": null,
            "left": null,
            "margin": null,
            "max_height": null,
            "max_width": null,
            "min_height": null,
            "min_width": null,
            "object_fit": null,
            "object_position": null,
            "order": null,
            "overflow": null,
            "overflow_x": null,
            "overflow_y": null,
            "padding": null,
            "right": null,
            "top": null,
            "visibility": null,
            "width": null
          }
        },
        "2ff4532df8ef49a0a88d7b60035d5956": {
          "model_module": "@jupyter-widgets/base",
          "model_name": "LayoutModel",
          "model_module_version": "1.2.0",
          "state": {
            "_model_module": "@jupyter-widgets/base",
            "_model_module_version": "1.2.0",
            "_model_name": "LayoutModel",
            "_view_count": null,
            "_view_module": "@jupyter-widgets/base",
            "_view_module_version": "1.2.0",
            "_view_name": "LayoutView",
            "align_content": null,
            "align_items": null,
            "align_self": null,
            "border": null,
            "bottom": null,
            "display": null,
            "flex": null,
            "flex_flow": null,
            "grid_area": null,
            "grid_auto_columns": null,
            "grid_auto_flow": null,
            "grid_auto_rows": null,
            "grid_column": null,
            "grid_gap": null,
            "grid_row": null,
            "grid_template_areas": null,
            "grid_template_columns": null,
            "grid_template_rows": null,
            "height": null,
            "justify_content": null,
            "justify_items": null,
            "left": null,
            "margin": null,
            "max_height": null,
            "max_width": null,
            "min_height": null,
            "min_width": null,
            "object_fit": null,
            "object_position": null,
            "order": null,
            "overflow": null,
            "overflow_x": null,
            "overflow_y": null,
            "padding": null,
            "right": null,
            "top": null,
            "visibility": null,
            "width": null
          }
        },
        "36e9a268751c421a8beda8a75805affe": {
          "model_module": "@jupyter-widgets/controls",
          "model_name": "DescriptionStyleModel",
          "model_module_version": "1.5.0",
          "state": {
            "_model_module": "@jupyter-widgets/controls",
            "_model_module_version": "1.5.0",
            "_model_name": "DescriptionStyleModel",
            "_view_count": null,
            "_view_module": "@jupyter-widgets/base",
            "_view_module_version": "1.2.0",
            "_view_name": "StyleView",
            "description_width": ""
          }
        },
        "b99f8015f0a4479480b0e32455ae0fc1": {
          "model_module": "@jupyter-widgets/base",
          "model_name": "LayoutModel",
          "model_module_version": "1.2.0",
          "state": {
            "_model_module": "@jupyter-widgets/base",
            "_model_module_version": "1.2.0",
            "_model_name": "LayoutModel",
            "_view_count": null,
            "_view_module": "@jupyter-widgets/base",
            "_view_module_version": "1.2.0",
            "_view_name": "LayoutView",
            "align_content": null,
            "align_items": null,
            "align_self": null,
            "border": null,
            "bottom": null,
            "display": null,
            "flex": null,
            "flex_flow": null,
            "grid_area": null,
            "grid_auto_columns": null,
            "grid_auto_flow": null,
            "grid_auto_rows": null,
            "grid_column": null,
            "grid_gap": null,
            "grid_row": null,
            "grid_template_areas": null,
            "grid_template_columns": null,
            "grid_template_rows": null,
            "height": null,
            "justify_content": null,
            "justify_items": null,
            "left": null,
            "margin": null,
            "max_height": null,
            "max_width": null,
            "min_height": null,
            "min_width": null,
            "object_fit": null,
            "object_position": null,
            "order": null,
            "overflow": null,
            "overflow_x": null,
            "overflow_y": null,
            "padding": null,
            "right": null,
            "top": null,
            "visibility": null,
            "width": null
          }
        },
        "1d96062f8799453085c2ea75515a58c0": {
          "model_module": "@jupyter-widgets/controls",
          "model_name": "ProgressStyleModel",
          "model_module_version": "1.5.0",
          "state": {
            "_model_module": "@jupyter-widgets/controls",
            "_model_module_version": "1.5.0",
            "_model_name": "ProgressStyleModel",
            "_view_count": null,
            "_view_module": "@jupyter-widgets/base",
            "_view_module_version": "1.2.0",
            "_view_name": "StyleView",
            "bar_color": null,
            "description_width": ""
          }
        },
        "714f96169ce54fd3bee05ea2b30d74c5": {
          "model_module": "@jupyter-widgets/base",
          "model_name": "LayoutModel",
          "model_module_version": "1.2.0",
          "state": {
            "_model_module": "@jupyter-widgets/base",
            "_model_module_version": "1.2.0",
            "_model_name": "LayoutModel",
            "_view_count": null,
            "_view_module": "@jupyter-widgets/base",
            "_view_module_version": "1.2.0",
            "_view_name": "LayoutView",
            "align_content": null,
            "align_items": null,
            "align_self": null,
            "border": null,
            "bottom": null,
            "display": null,
            "flex": null,
            "flex_flow": null,
            "grid_area": null,
            "grid_auto_columns": null,
            "grid_auto_flow": null,
            "grid_auto_rows": null,
            "grid_column": null,
            "grid_gap": null,
            "grid_row": null,
            "grid_template_areas": null,
            "grid_template_columns": null,
            "grid_template_rows": null,
            "height": null,
            "justify_content": null,
            "justify_items": null,
            "left": null,
            "margin": null,
            "max_height": null,
            "max_width": null,
            "min_height": null,
            "min_width": null,
            "object_fit": null,
            "object_position": null,
            "order": null,
            "overflow": null,
            "overflow_x": null,
            "overflow_y": null,
            "padding": null,
            "right": null,
            "top": null,
            "visibility": null,
            "width": null
          }
        },
        "1f045a031e1e4fadbdaabd2026a37b87": {
          "model_module": "@jupyter-widgets/controls",
          "model_name": "DescriptionStyleModel",
          "model_module_version": "1.5.0",
          "state": {
            "_model_module": "@jupyter-widgets/controls",
            "_model_module_version": "1.5.0",
            "_model_name": "DescriptionStyleModel",
            "_view_count": null,
            "_view_module": "@jupyter-widgets/base",
            "_view_module_version": "1.2.0",
            "_view_name": "StyleView",
            "description_width": ""
          }
        }
      }
    }
  },
  "nbformat": 4,
  "nbformat_minor": 5
}